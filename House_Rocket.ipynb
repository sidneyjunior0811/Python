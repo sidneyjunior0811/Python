{
 "cells": [
  {
   "cell_type": "code",
   "execution_count": 35,
   "metadata": {},
   "outputs": [],
   "source": [
    "import pandas as pd\n",
    "import plotly_express as px\n",
    "from sklearn import linear_model as lm\n",
    "import numpy as np"
   ]
  },
  {
   "cell_type": "markdown",
   "metadata": {},
   "source": [
    "# Importando o DataFrame"
   ]
  },
  {
   "cell_type": "code",
   "execution_count": 12,
   "metadata": {},
   "outputs": [],
   "source": [
    "df = pd.read_csv('C:/Users/sidne/Desktop/Python/Projetos - Machine Learning/House_Rocket.csv', sep = ',')\n",
    "display(df)"
   ]
  },
  {
   "cell_type": "markdown",
   "metadata": {},
   "source": [
    "# Preparação do Data"
   ]
  },
  {
   "cell_type": "code",
   "execution_count": 20,
   "metadata": {},
   "outputs": [],
   "source": [
    "x_train = df.drop(['price', 'date'], axis=1)\n",
    "y_train = df['price'].copy()"
   ]
  },
  {
   "cell_type": "markdown",
   "metadata": {},
   "source": [
    "# Modelo de Treinamento"
   ]
  },
  {
   "cell_type": "code",
   "execution_count": 24,
   "metadata": {},
   "outputs": [
    {
     "data": {
      "text/plain": [
       "LinearRegression()"
      ]
     },
     "execution_count": 24,
     "metadata": {},
     "output_type": "execute_result"
    }
   ],
   "source": [
    "# Descrição do modelo\n",
    "modelo_rl = lm.LinearRegression()\n",
    "\n",
    "# Treinando modelo\n",
    "modelo_rl.fit(x_train, y_train)"
   ]
  },
  {
   "cell_type": "code",
   "execution_count": 28,
   "metadata": {},
   "outputs": [],
   "source": [
    "# Predição \n",
    "pred = modelo_rl.predict(x_train)"
   ]
  },
  {
   "cell_type": "markdown",
   "metadata": {},
   "source": [
    "# Performance Metricas"
   ]
  },
  {
   "cell_type": "code",
   "execution_count": 30,
   "metadata": {},
   "outputs": [],
   "source": [
    "df1 = df.copy()"
   ]
  },
  {
   "cell_type": "code",
   "execution_count": 32,
   "metadata": {},
   "outputs": [],
   "source": [
    "df1['prediction'] = pred"
   ]
  },
  {
   "cell_type": "code",
   "execution_count": 52,
   "metadata": {},
   "outputs": [
    {
     "data": {
      "text/html": [
       "<div>\n",
       "<style scoped>\n",
       "    .dataframe tbody tr th:only-of-type {\n",
       "        vertical-align: middle;\n",
       "    }\n",
       "\n",
       "    .dataframe tbody tr th {\n",
       "        vertical-align: top;\n",
       "    }\n",
       "\n",
       "    .dataframe thead th {\n",
       "        text-align: right;\n",
       "    }\n",
       "</style>\n",
       "<table border=\"1\" class=\"dataframe\">\n",
       "  <thead>\n",
       "    <tr style=\"text-align: right;\">\n",
       "      <th></th>\n",
       "      <th>id</th>\n",
       "      <th>price</th>\n",
       "      <th>prediction</th>\n",
       "      <th>error</th>\n",
       "      <th>error_abs</th>\n",
       "      <th>error_perc</th>\n",
       "      <th>error_perc_abs</th>\n",
       "    </tr>\n",
       "  </thead>\n",
       "  <tbody>\n",
       "    <tr>\n",
       "      <th>0</th>\n",
       "      <td>7129300520</td>\n",
       "      <td>221900.0</td>\n",
       "      <td>205766.264610</td>\n",
       "      <td>16133.735390</td>\n",
       "      <td>16133.735390</td>\n",
       "      <td>0.072707</td>\n",
       "      <td>0.072707</td>\n",
       "    </tr>\n",
       "    <tr>\n",
       "      <th>1</th>\n",
       "      <td>6414100192</td>\n",
       "      <td>538000.0</td>\n",
       "      <td>731219.649830</td>\n",
       "      <td>-193219.649830</td>\n",
       "      <td>193219.649830</td>\n",
       "      <td>-0.359144</td>\n",
       "      <td>0.359144</td>\n",
       "    </tr>\n",
       "    <tr>\n",
       "      <th>2</th>\n",
       "      <td>5631500400</td>\n",
       "      <td>180000.0</td>\n",
       "      <td>379097.882654</td>\n",
       "      <td>-199097.882654</td>\n",
       "      <td>199097.882654</td>\n",
       "      <td>-1.106099</td>\n",
       "      <td>1.106099</td>\n",
       "    </tr>\n",
       "    <tr>\n",
       "      <th>3</th>\n",
       "      <td>2487200875</td>\n",
       "      <td>604000.0</td>\n",
       "      <td>457424.134325</td>\n",
       "      <td>146575.865675</td>\n",
       "      <td>146575.865675</td>\n",
       "      <td>0.242675</td>\n",
       "      <td>0.242675</td>\n",
       "    </tr>\n",
       "    <tr>\n",
       "      <th>4</th>\n",
       "      <td>1954400510</td>\n",
       "      <td>510000.0</td>\n",
       "      <td>444789.054718</td>\n",
       "      <td>65210.945282</td>\n",
       "      <td>65210.945282</td>\n",
       "      <td>0.127865</td>\n",
       "      <td>0.127865</td>\n",
       "    </tr>\n",
       "  </tbody>\n",
       "</table>\n",
       "</div>"
      ],
      "text/plain": [
       "           id     price     prediction          error      error_abs  \\\n",
       "0  7129300520  221900.0  205766.264610   16133.735390   16133.735390   \n",
       "1  6414100192  538000.0  731219.649830 -193219.649830  193219.649830   \n",
       "2  5631500400  180000.0  379097.882654 -199097.882654  199097.882654   \n",
       "3  2487200875  604000.0  457424.134325  146575.865675  146575.865675   \n",
       "4  1954400510  510000.0  444789.054718   65210.945282   65210.945282   \n",
       "\n",
       "   error_perc  error_perc_abs  \n",
       "0    0.072707        0.072707  \n",
       "1   -0.359144        0.359144  \n",
       "2   -1.106099        1.106099  \n",
       "3    0.242675        0.242675  \n",
       "4    0.127865        0.127865  "
      ]
     },
     "execution_count": 52,
     "metadata": {},
     "output_type": "execute_result"
    }
   ],
   "source": [
    "df1[['id', 'price', 'prediction', 'error', 'error_abs', 'error_perc', 'error_perc_abs']].head()"
   ]
  },
  {
   "cell_type": "code",
   "execution_count": 53,
   "metadata": {},
   "outputs": [
    {
     "data": {
      "text/plain": [
       "error_perc_abs    0.255805\n",
       "dtype: float64"
      ]
     },
     "execution_count": 53,
     "metadata": {},
     "output_type": "execute_result"
    }
   ],
   "source": [
    "# Predição de Venda - Preço Vendido\n",
    "df1['error'] = df1['price'] - df1['prediction']\n",
    "df1['error_abs'] = np.abs(df1['error'])\n",
    "\n",
    "# Percentual\n",
    "df1['error_perc'] = (df1['price'] - df1['prediction']) / df1['price']\n",
    "# Percentual_abs\n",
    "df1['error_perc_abs'] = np.abs(df1['error_perc'])"
   ]
  },
  {
   "cell_type": "code",
   "execution_count": 54,
   "metadata": {},
   "outputs": [
    {
     "data": {
      "text/plain": [
       "error_abs    125921.544194\n",
       "dtype: float64"
      ]
     },
     "execution_count": 54,
     "metadata": {},
     "output_type": "execute_result"
    }
   ],
   "source": [
    "# Média de error absoluto\n",
    "np.mean(df1[['error_abs']])"
   ]
  },
  {
   "cell_type": "code",
   "execution_count": 56,
   "metadata": {},
   "outputs": [
    {
     "data": {
      "text/plain": [
       "error_perc_abs    0.255805\n",
       "dtype: float64"
      ]
     },
     "execution_count": 56,
     "metadata": {},
     "output_type": "execute_result"
    }
   ],
   "source": [
    "# Média de error percentual absoluto\n",
    "np.mean(df1[['error_perc_abs']])"
   ]
  }
 ],
 "metadata": {
  "interpreter": {
   "hash": "8c991f69f4835ef0c35cbd5a4e1a08631e61e3a92f02e728dc2f521d9af95601"
  },
  "kernelspec": {
   "display_name": "Python 3.9.7 ('base')",
   "language": "python",
   "name": "python3"
  },
  "language_info": {
   "codemirror_mode": {
    "name": "ipython",
    "version": 3
   },
   "file_extension": ".py",
   "mimetype": "text/x-python",
   "name": "python",
   "nbconvert_exporter": "python",
   "pygments_lexer": "ipython3",
   "version": "3.9.7"
  },
  "orig_nbformat": 4
 },
 "nbformat": 4,
 "nbformat_minor": 2
}
