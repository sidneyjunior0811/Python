{
  "nbformat": 4,
  "nbformat_minor": 0,
  "metadata": {
    "colab": {
      "provenance": [],
      "authorship_tag": "ABX9TyMEFsHBNaZbt0WZ4F4b9mnJ",
      "include_colab_link": true
    },
    "kernelspec": {
      "name": "python3",
      "display_name": "Python 3"
    },
    "language_info": {
      "name": "python"
    }
  },
  "cells": [
    {
      "cell_type": "markdown",
      "metadata": {
        "id": "view-in-github",
        "colab_type": "text"
      },
      "source": [
        "<a href=\"https://colab.research.google.com/github/sidneyjunior0811/Python/blob/main/Previs%C3%A3o%20Categorica.ipynb\" target=\"_parent\"><img src=\"https://colab.research.google.com/assets/colab-badge.svg\" alt=\"Open In Colab\"/></a>"
      ]
    },
    {
      "cell_type": "code",
      "execution_count": 3,
      "metadata": {
        "id": "5Exh5P6l3yxc"
      },
      "outputs": [],
      "source": [
        "from sklearn.datasets import load_iris\n",
        "from sklearn.model_selection import train_test_split\n",
        "iris = load_iris()"
      ]
    },
    {
      "cell_type": "code",
      "source": [
        "# Separando dados para teste\n",
        "x = iris.data\n",
        "y = iris.target"
      ],
      "metadata": {
        "id": "AwemhTwx6OVQ"
      },
      "execution_count": 4,
      "outputs": []
    },
    {
      "cell_type": "code",
      "source": [
        "# Importando dados para teste\n",
        "from sklearn.model_selection import train_test_split"
      ],
      "metadata": {
        "id": "DF2v7z536VDt"
      },
      "execution_count": 5,
      "outputs": []
    },
    {
      "cell_type": "code",
      "source": [
        "# Separando dados para treino: 75% para Treino e 25% para Teste\n",
        "x_train, x_test, y_train, y_test = train_test_split(x,y, train_size= 0.25)"
      ],
      "metadata": {
        "id": "pZ7uvKWS6qvF"
      },
      "execution_count": 6,
      "outputs": []
    },
    {
      "cell_type": "code",
      "source": [
        "# Importando o KNN\n",
        "from sklearn.neighbors import KNeighborsClassifier\n",
        "from sklearn import metrics"
      ],
      "metadata": {
        "id": "_WaEGOmF7SYU"
      },
      "execution_count": 7,
      "outputs": []
    },
    {
      "cell_type": "code",
      "source": [
        "# Testando valores de 01 à 25\n",
        "valores_performance = {}\n",
        "k = 1\n",
        "\n",
        "while k <= 25:\n",
        "  knn = KNeighborsClassifier(n_neighbors=k)\n",
        "  knn.fit(x_train, y_train)\n",
        "  previsoes = knn.predict(x_test)\n",
        "  acertos = metrics.accuracy_score(y_test, previsoes)\n",
        "  valores_performance[k] = round(acertos,4)\n",
        "  k += 1\n",
        "\n",
        "display(valores_performance)"
      ],
      "metadata": {
        "id": "X5cvDVy77jJP",
        "colab": {
          "base_uri": "https://localhost:8080/",
          "height": 451
        },
        "outputId": "155e5da9-ee24-4df7-9f32-af7074649b29"
      },
      "execution_count": 8,
      "outputs": [
        {
          "output_type": "display_data",
          "data": {
            "text/plain": [
              "{1: 0.9735,\n",
              " 2: 0.9735,\n",
              " 3: 0.9735,\n",
              " 4: 0.9646,\n",
              " 5: 0.9735,\n",
              " 6: 0.9469,\n",
              " 7: 0.9735,\n",
              " 8: 0.9381,\n",
              " 9: 0.9381,\n",
              " 10: 0.9381,\n",
              " 11: 0.9381,\n",
              " 12: 0.9292,\n",
              " 13: 0.9292,\n",
              " 14: 0.8938,\n",
              " 15: 0.8938,\n",
              " 16: 0.8938,\n",
              " 17: 0.8938,\n",
              " 18: 0.8938,\n",
              " 19: 0.885,\n",
              " 20: 0.8938,\n",
              " 21: 0.8938,\n",
              " 22: 0.6549,\n",
              " 23: 0.3097,\n",
              " 24: 0.3097,\n",
              " 25: 0.3097}"
            ]
          },
          "metadata": {}
        }
      ]
    },
    {
      "cell_type": "code",
      "source": [],
      "metadata": {
        "id": "GzS5TSUhPRfb"
      },
      "execution_count": null,
      "outputs": []
    }
  ]
}