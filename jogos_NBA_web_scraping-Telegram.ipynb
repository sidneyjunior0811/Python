{
  "nbformat": 4,
  "nbformat_minor": 0,
  "metadata": {
    "colab": {
      "provenance": [],
      "authorship_tag": "ABX9TyMMhcqExhogD1+AoiLRfJ/F"
    },
    "kernelspec": {
      "name": "python3",
      "display_name": "Python 3"
    },
    "language_info": {
      "name": "python"
    }
  },
  "cells": [
    {
      "cell_type": "markdown",
      "source": [
        "#### Importar bibliotecas"
      ],
      "metadata": {
        "id": "O3N95M90cqa4"
      }
    },
    {
      "cell_type": "code",
      "execution_count": 30,
      "metadata": {
        "id": "nIsPIysHb8V3"
      },
      "outputs": [],
      "source": [
        "import requests\n",
        "from bs4 import BeautifulSoup\n",
        "import pandas as pd\n",
        "from datetime import timedelta, datetime\n",
        "import time\n",
        "import re"
      ]
    },
    {
      "cell_type": "code",
      "source": [
        "website = 'https://get.rnbastreams.com'\n",
        "pagina = requests.get(website)\n",
        "soup = BeautifulSoup(pagina.text,'html')"
      ],
      "metadata": {
        "id": "74qwjxsZcxik"
      },
      "execution_count": 31,
      "outputs": []
    },
    {
      "cell_type": "markdown",
      "source": [
        "#### **Substituindo \"22:00 EST\" por x**"
      ],
      "metadata": {
        "id": "fPcz3rUfih-p"
      }
    },
    {
      "cell_type": "code",
      "source": [
        "def remove_horarioEST(input_str):\n",
        "    padrao = r'\\s\\d{1,2}:\\d{2}\\sEST\\s'\n",
        "    str = re.sub(padrao,'x', input_str)\n",
        "    return str.strip()"
      ],
      "metadata": {
        "id": "1m5sMhEZc0o5"
      },
      "execution_count": 32,
      "outputs": []
    },
    {
      "cell_type": "code",
      "source": [
        "# Antes\n",
        "for jogos in soup.find_all(\"div\", {\"class\":\"competition\"}):\n",
        "  jogos = jogos.text.strip().replace(\"\\n\\n\\n\\n\",\" \").replace(\" \\n\\n\\n\\n\", \" \").replace(\"\\n\\n\\n\", \" \").replace(\"  In Progress  \", \" x \").replace(\" Live Streams\",\"\").replace(\"  Halftime  \", \" x \")\n",
        "  print(jogos)"
      ],
      "metadata": {
        "colab": {
          "base_uri": "https://localhost:8080/"
        },
        "id": "GRoUUkMPdBgN",
        "outputId": "3274a59b-934f-47c0-d62e-cf2c25ab0fc7"
      },
      "execution_count": 34,
      "outputs": [
        {
          "output_type": "stream",
          "name": "stdout",
          "text": [
            "Charlotte Hornets x Miami Heat\n",
            "Detroit Pistons x Boston Celtics\n",
            "Washington Wizards x Cleveland Cavaliers\n",
            "Chicago Bulls x Oklahoma City Thunder\n",
            "Memphis Grizzlies x Orlando Magic\n",
            "Minnesota Timberwolves x Toronto Raptors\n",
            "San Antonio Spurs x Houston Rockets\n",
            "Phoenix Suns  22:00 EST  Dallas Mavericks\n",
            "Los Angeles Lakers  22:30 EST  Sacramento Kings\n"
          ]
        }
      ]
    },
    {
      "cell_type": "code",
      "source": [
        "# Depois\n",
        "for jogos in soup.find_all(\"div\", {\"class\":\"competition\"}):\n",
        "  jogo_v2 = remove_horarioEST(jogos.text.strip().replace(\"\\n\\n\\n\\n\",\" \").replace(\" \\n\\n\\n\\n\", \" \").replace(\"\\n\\n\\n\", \" \").replace(\"  In Progress  \", \" x \").replace(\" Live Streams\",\"\").replace(\"  Halftime  \", \" x \"))\n",
        "  print(jogo_v2)"
      ],
      "metadata": {
        "colab": {
          "base_uri": "https://localhost:8080/"
        },
        "id": "lj59Yv56iQ3B",
        "outputId": "35e8e492-3786-4491-e67c-1424a292b54a"
      },
      "execution_count": 35,
      "outputs": [
        {
          "output_type": "stream",
          "name": "stdout",
          "text": [
            "Charlotte Hornets x Miami Heat\n",
            "Detroit Pistons x Boston Celtics\n",
            "Washington Wizards x Cleveland Cavaliers\n",
            "Chicago Bulls x Oklahoma City Thunder\n",
            "Memphis Grizzlies x Orlando Magic\n",
            "Minnesota Timberwolves x Toronto Raptors\n",
            "San Antonio Spurs x Houston Rockets\n",
            "Phoenix Suns x Dallas Mavericks\n",
            "Los Angeles Lakers x Sacramento Kings\n"
          ]
        }
      ]
    },
    {
      "cell_type": "code",
      "source": [
        "jogos_live = []\n",
        "# ------------------------- PÁGINA 01 -------------------------\n",
        "for jogos in soup.find_all(\"div\", {\"class\":\"competition\"}):\n",
        "    jogo = remove_horarioEST(jogos.text.strip().replace(\"\\n\\n\\n\\n\",\" \").replace(\" \\n\\n\\n\\n\", \" \").replace(\"\\n\\n\\n\", \" \").replace(\"  In Progress  \", \" x \").replace(\" Live Streams\",\"\").replace(\"  Halftime  \", \" x \"))\n",
        "    link_jogo = website + jogos.find(\"a\")[\"href\"] if jogos.find(\"a\") else None\n",
        "    horario = jogos.find(\"span\", {\"class\": \"competition-cell-status competition-cell-time\"}).text.strip().replace(\" EST\",\"\")\n",
        "# ------------------------- PÁGINA 02 -------------------------\n",
        "    pagina2 = requests.get(link_jogo)\n",
        "    soup2 = BeautifulSoup(pagina2.text, 'html')\n",
        "    resultDate = soup2.find(string=re.compile(\"EST\")).text.split()\n",
        "    dateGame = datetime.strptime(resultDate[0], '%Y-%m-%d').date()\n",
        "    timeGame = datetime.strptime(resultDate[1], '%H:%M').time()\n",
        "    jogos_live.append({'Jogos_Hoje': datetime.combine(dateGame,timeGame), 'jogo': jogo, 'link_jogo': link_jogo, 'Status': horario})"
      ],
      "metadata": {
        "id": "jO5tSfljc599"
      },
      "execution_count": 38,
      "outputs": []
    },
    {
      "cell_type": "markdown",
      "source": [
        "#### **Todos os jogos de hoje**"
      ],
      "metadata": {
        "id": "ZE33Gclynppp"
      }
    },
    {
      "cell_type": "code",
      "source": [
        "jogos_live"
      ],
      "metadata": {
        "colab": {
          "base_uri": "https://localhost:8080/"
        },
        "id": "_R_7giO1lUcL",
        "outputId": "e5180b01-fdfd-4b32-90d8-6f2514eaa5d9"
      },
      "execution_count": 76,
      "outputs": [
        {
          "output_type": "execute_result",
          "data": {
            "text/plain": [
              "[{'Jogos_Hoje': datetime.datetime(2024, 10, 26, 19, 0),\n",
              "  'jogo': 'Charlotte Hornets x Miami Heat',\n",
              "  'link_jogo': 'https://get.rnbastreams.com/game/miami-heat-at-charlotte-hornets-6-live-stream ',\n",
              "  'Status': 'In Progress'},\n",
              " {'Jogos_Hoje': datetime.datetime(2024, 10, 26, 19, 0),\n",
              "  'jogo': 'Detroit Pistons x Boston Celtics',\n",
              "  'link_jogo': 'https://get.rnbastreams.com/game/boston-celtics-at-detroit-pistons-4-live-stream ',\n",
              "  'Status': 'In Progress'},\n",
              " {'Jogos_Hoje': datetime.datetime(2024, 10, 26, 19, 0),\n",
              "  'jogo': 'Washington Wizards x Cleveland Cavaliers',\n",
              "  'link_jogo': 'https://get.rnbastreams.com/game/cleveland-cavaliers-at-washington-wizards-4-live-stream ',\n",
              "  'Status': 'In Progress'},\n",
              " {'Jogos_Hoje': datetime.datetime(2024, 10, 26, 20, 0),\n",
              "  'jogo': 'Chicago Bulls x Oklahoma City Thunder',\n",
              "  'link_jogo': 'https://get.rnbastreams.com/game/oklahoma-city-thunder-at-chicago-bulls-3-live-stream ',\n",
              "  'Status': 'In Progress'},\n",
              " {'Jogos_Hoje': datetime.datetime(2024, 10, 26, 20, 0),\n",
              "  'jogo': 'Memphis Grizzlies x Orlando Magic',\n",
              "  'link_jogo': 'https://get.rnbastreams.com/game/orlando-magic-at-memphis-grizzlies-4-live-stream ',\n",
              "  'Status': 'In Progress'},\n",
              " {'Jogos_Hoje': datetime.datetime(2024, 10, 26, 20, 0),\n",
              "  'jogo': 'Minnesota Timberwolves x Toronto Raptors',\n",
              "  'link_jogo': 'https://get.rnbastreams.com/game/toronto-raptors-at-minnesota-timberwolves-3-live-stream ',\n",
              "  'Status': 'In Progress'},\n",
              " {'Jogos_Hoje': datetime.datetime(2024, 10, 26, 20, 30),\n",
              "  'jogo': 'San Antonio Spurs x Houston Rockets',\n",
              "  'link_jogo': 'https://get.rnbastreams.com/game/houston-rockets-at-san-antonio-spurs-7-live-stream ',\n",
              "  'Status': 'In Progress'},\n",
              " {'Jogos_Hoje': datetime.datetime(2024, 10, 26, 22, 0),\n",
              "  'jogo': 'Phoenix Suns x Dallas Mavericks',\n",
              "  'link_jogo': 'https://get.rnbastreams.com/game/dallas-mavericks-at-phoenix-suns-8-live-stream ',\n",
              "  'Status': '22:00'},\n",
              " {'Jogos_Hoje': datetime.datetime(2024, 10, 26, 22, 30),\n",
              "  'jogo': 'Los Angeles Lakers x Sacramento Kings',\n",
              "  'link_jogo': 'https://get.rnbastreams.com/game/sacramento-kings-at-los-angeles-lakers-8-live-stream ',\n",
              "  'Status': '22:30'}]"
            ]
          },
          "metadata": {},
          "execution_count": 76
        }
      ]
    },
    {
      "cell_type": "markdown",
      "source": [
        "#### **O objetivo agora é saber quanto tempo falta para iniciar a partida**"
      ],
      "metadata": {
        "id": "d5Q1fZGHnyVj"
      }
    },
    {
      "cell_type": "code",
      "source": [
        "data_agora = datetime.now().date()\n",
        "hora_agora = datetime.now().time().replace(second=0, microsecond=0)\n",
        "dataHoraAgora = datetime.combine(data_agora,hora_agora)"
      ],
      "metadata": {
        "id": "Ew3hdJzsc70M"
      },
      "execution_count": 77,
      "outputs": []
    },
    {
      "cell_type": "markdown",
      "source": [
        "#### **Verficando o tempo restante para inicio da partida ou saber se o status está em \"In Progress\" ou \"Halftime\"**"
      ],
      "metadata": {
        "id": "u6t6I-yzoW4J"
      }
    },
    {
      "cell_type": "code",
      "source": [
        "while True:\n",
        "    for jogoNBA in jogos_live:\n",
        "        if jogoNBA['Jogos_Hoje'] > dataHoraAgora:\n",
        "            inicioJogo = jogoNBA['Jogos_Hoje'] - datetime.combine(dataHoraAgora.date(), dataHoraAgora.time())\n",
        "            print(jogoNBA['jogo'], '\\n', jogoNBA['link_jogo'], '\\n' f'Falta {inicioJogo} para inicio do jogo', '\\n''---')\n",
        "        elif jogoNBA['Status'] == 'In Progress':\n",
        "            print(jogoNBA['jogo'], '\\n', jogoNBA['link_jogo'], '\\n', 'In Progress', '\\n''---')\n",
        "        elif jogoNBA['Status'] == 'Halftime':\n",
        "            print(jogoNBA['jogo'], '\\n', jogoNBA['link_jogo'], '\\n', 'Halftime', '\\n''---')\n",
        "    break"
      ],
      "metadata": {
        "colab": {
          "base_uri": "https://localhost:8080/"
        },
        "id": "e92qs7hkjELt",
        "outputId": "5d1919b8-79fe-4c1c-ac70-cab3094e8108"
      },
      "execution_count": 78,
      "outputs": [
        {
          "output_type": "stream",
          "name": "stdout",
          "text": [
            "Charlotte Hornets x Miami Heat \n",
            " https://get.rnbastreams.com/game/miami-heat-at-charlotte-hornets-6-live-stream  \n",
            " In Progress \n",
            "---\n",
            "Detroit Pistons x Boston Celtics \n",
            " https://get.rnbastreams.com/game/boston-celtics-at-detroit-pistons-4-live-stream  \n",
            " In Progress \n",
            "---\n",
            "Washington Wizards x Cleveland Cavaliers \n",
            " https://get.rnbastreams.com/game/cleveland-cavaliers-at-washington-wizards-4-live-stream  \n",
            " In Progress \n",
            "---\n",
            "Chicago Bulls x Oklahoma City Thunder \n",
            " https://get.rnbastreams.com/game/oklahoma-city-thunder-at-chicago-bulls-3-live-stream  \n",
            " In Progress \n",
            "---\n",
            "Memphis Grizzlies x Orlando Magic \n",
            " https://get.rnbastreams.com/game/orlando-magic-at-memphis-grizzlies-4-live-stream  \n",
            " In Progress \n",
            "---\n",
            "Minnesota Timberwolves x Toronto Raptors \n",
            " https://get.rnbastreams.com/game/toronto-raptors-at-minnesota-timberwolves-3-live-stream  \n",
            " In Progress \n",
            "---\n",
            "San Antonio Spurs x Houston Rockets \n",
            " https://get.rnbastreams.com/game/houston-rockets-at-san-antonio-spurs-7-live-stream  \n",
            " In Progress \n",
            "---\n"
          ]
        }
      ]
    },
    {
      "cell_type": "markdown",
      "source": [
        "#### **Mandando a notificação das partidas via Telegram**"
      ],
      "metadata": {
        "id": "IF5McbfnpKOy"
      }
    },
    {
      "cell_type": "code",
      "source": [
        "token =  \"TOKEN\"\n",
        "chat_id = \"CHAT_ID\"\n",
        "\n",
        "while True:\n",
        "    for jogoNBA in jogos_live:\n",
        "        if jogoNBA['Jogos_Hoje'] > dataHoraAgora:\n",
        "            inicioJogo = jogoNBA['Jogos_Hoje'] - datetime.combine(dataHoraAgora.date(), dataHoraAgora.time())\n",
        "            mensagem = f\"{jogoNBA['jogo']}\\n{jogoNBA['link_jogo']}\\nFalta {inicioJogo} para início do jogo\\n---\"\n",
        "        elif jogoNBA['Status'] == 'In Progress':\n",
        "            mensagem = f\"{jogoNBA['jogo']}\\n{jogoNBA['link_jogo']}\\nIn Progress\\n---\"\n",
        "        elif jogoNBA['Status'] == 'Halftime':\n",
        "            mensagem = f\"{jogoNBA['jogo']}\\n{jogoNBA['link_jogo']}\\nHalftime\\n---\"\n",
        "\n",
        "        # Envia a mensagem apenas se não estiver vazia\n",
        "        if mensagem:\n",
        "            url = f\"https://api.telegram.org/bot{token}/sendMessage\"\n",
        "            params = {\n",
        "                \"chat_id\": chat_id,\n",
        "                \"text\": mensagem\n",
        "            }\n",
        "            response = requests.post(url, data=params)\n",
        "\n",
        "            # Verificação do envio\n",
        "            if response.ok:\n",
        "                print(\"Mensagem enviada com sucesso!\")\n",
        "            else:\n",
        "                print(\"Erro ao enviar a mensagem:\", response.json())\n",
        "    break"
      ],
      "metadata": {
        "id": "ZCndVwZRjEIR"
      },
      "execution_count": null,
      "outputs": []
    }
  ]
}
