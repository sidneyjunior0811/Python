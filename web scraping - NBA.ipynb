{
 "cells": [
  {
   "cell_type": "code",
   "execution_count": 552,
   "id": "669423da-6276-4544-b125-cda81a765c23",
   "metadata": {},
   "outputs": [],
   "source": [
    "import requests\n",
    "from bs4 import BeautifulSoup\n",
    "import pandas as pd"
   ]
  },
  {
   "cell_type": "code",
   "execution_count": 553,
   "id": "b858a24c-4789-49ca-a96e-80dc1ee06ba1",
   "metadata": {},
   "outputs": [],
   "source": [
    "website = 'https://www.basketball-reference.com/boxscores/'"
   ]
  },
  {
   "cell_type": "code",
   "execution_count": 554,
   "id": "ed9ad6d0-9e96-4e7a-a3e1-08203eafa0b6",
   "metadata": {},
   "outputs": [],
   "source": [
    "pagina = requests.get(website)"
   ]
  },
  {
   "cell_type": "code",
   "execution_count": 555,
   "id": "cb0e242e-dfba-4858-ab84-2cd4fa38a0e5",
   "metadata": {},
   "outputs": [],
   "source": [
    "soup = BeautifulSoup(pagina.text,'html')"
   ]
  },
  {
   "cell_type": "markdown",
   "id": "c3927055-0050-4727-8a9c-22c63555bc27",
   "metadata": {},
   "source": [
    "#### East"
   ]
  },
  {
   "cell_type": "code",
   "execution_count": 556,
   "id": "db50177c-a4ad-4deb-a51e-f41a713f907e",
   "metadata": {},
   "outputs": [
    {
     "data": {
      "text/plain": [
       "<thead>\n",
       "<tr>\n",
       "<th aria-label=\"Eastern Conference\" class=\"poptip sort_default_asc left\" data-stat=\"team_name\" scope=\"col\">Eastern Conference</th>\n",
       "<th aria-label=\"Wins\" class=\"poptip right\" data-stat=\"wins\" data-tip=\"Wins\" scope=\"col\">W</th>\n",
       "<th aria-label=\"Losses\" class=\"poptip right\" data-stat=\"losses\" data-tip=\"Losses\" scope=\"col\">L</th>\n",
       "<th aria-label=\"Win-Loss Percentage\" class=\"poptip right\" data-stat=\"win_loss_pct\" data-tip=\"Win-Loss Percentage\" scope=\"col\">W/L%</th>\n",
       "<th aria-label=\"GB\" class=\"poptip sort_default_asc right\" data-stat=\"gb\" data-tip=\"Games Behind\" scope=\"col\">GB</th>\n",
       "<th aria-label=\"Points Per Game\" class=\"poptip right\" data-stat=\"pts_per_g\" data-tip=\"Points Per Game\" scope=\"col\">PS/G</th>\n",
       "<th aria-label=\"Opponent Points Per Game\" class=\"poptip right\" data-stat=\"opp_pts_per_g\" data-tip=\"Opponent Points Per Game\" scope=\"col\">PA/G</th>\n",
       "</tr>\n",
       "</thead>"
      ]
     },
     "execution_count": 556,
     "metadata": {},
     "output_type": "execute_result"
    }
   ],
   "source": [
    "titulo_resultado_East = soup.find_all('thead')[10]\n",
    "titulo_resultado"
   ]
  },
  {
   "cell_type": "code",
   "execution_count": 557,
   "id": "3e52f553-9969-4d0a-abf9-83fe1ff2521c",
   "metadata": {},
   "outputs": [],
   "source": [
    "titulo_East = titulo_resultado_East.find_all('th')"
   ]
  },
  {
   "cell_type": "code",
   "execution_count": 558,
   "id": "dabb4a21-bed7-4012-98f2-0b9521b0fa2f",
   "metadata": {},
   "outputs": [
    {
     "name": "stdout",
     "output_type": "stream",
     "text": [
      "['Eastern Conference', 'W', 'L', 'W/L%', 'GB', 'PS/G', 'PA/G']\n"
     ]
    }
   ],
   "source": [
    "resultado_East = []\n",
    "\n",
    "for dados in titulo_East:\n",
    "    resultado_East.append(dados.text.strip())\n",
    "\n",
    "print(resultado_East)"
   ]
  },
  {
   "cell_type": "code",
   "execution_count": 559,
   "id": "c806d0d8-ce4b-4c88-b183-4c30f15bb296",
   "metadata": {},
   "outputs": [],
   "source": [
    "df_titulo_East = pd.DataFrame(columns= resultado_East)"
   ]
  },
  {
   "cell_type": "markdown",
   "id": "44947669-e39a-47c9-8e0a-b56a66da910a",
   "metadata": {},
   "source": [
    "#### Resultado do East"
   ]
  },
  {
   "cell_type": "code",
   "execution_count": 560,
   "id": "4b3b6a8d-15e5-4e25-be21-ff3ece95e256",
   "metadata": {
    "scrolled": true
   },
   "outputs": [],
   "source": [
    "resultado_pontos_East = soup.find_all('tr')[72:87]"
   ]
  },
  {
   "cell_type": "code",
   "execution_count": 561,
   "id": "61f75a6e-16c3-456e-ba56-86b5585a0e71",
   "metadata": {},
   "outputs": [],
   "source": [
    "dados_totais_East = []\n",
    "\n",
    "for dados in resultado_pontos_East:\n",
    "    th = dados.find_all('th')\n",
    "    td = dados.find_all('td')\n",
    "    info = [dados.text.strip() for dados in th]\n",
    "    info2 = [dados.text.strip() for dados in td]\n",
    "    dados_totais_East.append(info+info2)"
   ]
  },
  {
   "cell_type": "code",
   "execution_count": 562,
   "id": "c626112f-c9b1-48ec-8571-27d333001af5",
   "metadata": {},
   "outputs": [
    {
     "data": {
      "text/plain": [
       "[['Boston Celtics', '21', '6', '.778', '—', '118.9', '109.8'],\n",
       " ['Milwaukee Bucks', '20', '7', '.741', '1.0', '124.7', '119.2'],\n",
       " ['Philadelphia 76ers', '19', '8', '.704', '2.0', '122.3', '111.0'],\n",
       " ['Orlando Magic', '16', '10', '.615', '4.5', '113.0', '110.1'],\n",
       " ['New York Knicks', '16', '11', '.593', '5.0', '114.7', '111.4'],\n",
       " ['Cleveland Cavaliers', '16', '12', '.571', '5.5', '112.4', '112.1'],\n",
       " ['Miami Heat', '16', '12', '.571', '5.5', '112.9', '111.8'],\n",
       " ['Indiana Pacers', '14', '12', '.538', '6.5', '128.0', '126.5'],\n",
       " ['Brooklyn Nets', '13', '14', '.481', '8.0', '115.6', '115.3'],\n",
       " ['Atlanta Hawks', '12', '15', '.444', '9.0', '123.1', '122.9'],\n",
       " ['Chicago Bulls', '12', '17', '.414', '10.0', '110.3', '113.1'],\n",
       " ['Toronto Raptors', '11', '16', '.407', '10.0', '112.2', '114.1'],\n",
       " ['Charlotte Hornets', '7', '19', '.269', '13.5', '111.0', '121.6'],\n",
       " ['Washington Wizards', '4', '22', '.154', '16.5', '117.0', '126.8'],\n",
       " ['Detroit Pistons', '2', '25', '.074', '19.0', '108.9', '120.8']]"
      ]
     },
     "execution_count": 562,
     "metadata": {},
     "output_type": "execute_result"
    }
   ],
   "source": [
    "dados_totais_East"
   ]
  },
  {
   "cell_type": "code",
   "execution_count": 563,
   "id": "369e5b9f-0643-4490-bdf2-53fdaa153f73",
   "metadata": {
    "scrolled": true
   },
   "outputs": [
    {
     "data": {
      "text/html": [
       "<div>\n",
       "<style scoped>\n",
       "    .dataframe tbody tr th:only-of-type {\n",
       "        vertical-align: middle;\n",
       "    }\n",
       "\n",
       "    .dataframe tbody tr th {\n",
       "        vertical-align: top;\n",
       "    }\n",
       "\n",
       "    .dataframe thead th {\n",
       "        text-align: right;\n",
       "    }\n",
       "</style>\n",
       "<table border=\"1\" class=\"dataframe\">\n",
       "  <thead>\n",
       "    <tr style=\"text-align: right;\">\n",
       "      <th></th>\n",
       "      <th>0</th>\n",
       "      <th>1</th>\n",
       "      <th>2</th>\n",
       "      <th>3</th>\n",
       "      <th>4</th>\n",
       "      <th>5</th>\n",
       "      <th>6</th>\n",
       "    </tr>\n",
       "  </thead>\n",
       "  <tbody>\n",
       "    <tr>\n",
       "      <th>0</th>\n",
       "      <td>Boston Celtics</td>\n",
       "      <td>21</td>\n",
       "      <td>6</td>\n",
       "      <td>.778</td>\n",
       "      <td>—</td>\n",
       "      <td>118.9</td>\n",
       "      <td>109.8</td>\n",
       "    </tr>\n",
       "    <tr>\n",
       "      <th>1</th>\n",
       "      <td>Milwaukee Bucks</td>\n",
       "      <td>20</td>\n",
       "      <td>7</td>\n",
       "      <td>.741</td>\n",
       "      <td>1.0</td>\n",
       "      <td>124.7</td>\n",
       "      <td>119.2</td>\n",
       "    </tr>\n",
       "    <tr>\n",
       "      <th>2</th>\n",
       "      <td>Philadelphia 76ers</td>\n",
       "      <td>19</td>\n",
       "      <td>8</td>\n",
       "      <td>.704</td>\n",
       "      <td>2.0</td>\n",
       "      <td>122.3</td>\n",
       "      <td>111.0</td>\n",
       "    </tr>\n",
       "    <tr>\n",
       "      <th>3</th>\n",
       "      <td>Orlando Magic</td>\n",
       "      <td>16</td>\n",
       "      <td>10</td>\n",
       "      <td>.615</td>\n",
       "      <td>4.5</td>\n",
       "      <td>113.0</td>\n",
       "      <td>110.1</td>\n",
       "    </tr>\n",
       "    <tr>\n",
       "      <th>4</th>\n",
       "      <td>New York Knicks</td>\n",
       "      <td>16</td>\n",
       "      <td>11</td>\n",
       "      <td>.593</td>\n",
       "      <td>5.0</td>\n",
       "      <td>114.7</td>\n",
       "      <td>111.4</td>\n",
       "    </tr>\n",
       "    <tr>\n",
       "      <th>5</th>\n",
       "      <td>Cleveland Cavaliers</td>\n",
       "      <td>16</td>\n",
       "      <td>12</td>\n",
       "      <td>.571</td>\n",
       "      <td>5.5</td>\n",
       "      <td>112.4</td>\n",
       "      <td>112.1</td>\n",
       "    </tr>\n",
       "    <tr>\n",
       "      <th>6</th>\n",
       "      <td>Miami Heat</td>\n",
       "      <td>16</td>\n",
       "      <td>12</td>\n",
       "      <td>.571</td>\n",
       "      <td>5.5</td>\n",
       "      <td>112.9</td>\n",
       "      <td>111.8</td>\n",
       "    </tr>\n",
       "    <tr>\n",
       "      <th>7</th>\n",
       "      <td>Indiana Pacers</td>\n",
       "      <td>14</td>\n",
       "      <td>12</td>\n",
       "      <td>.538</td>\n",
       "      <td>6.5</td>\n",
       "      <td>128.0</td>\n",
       "      <td>126.5</td>\n",
       "    </tr>\n",
       "    <tr>\n",
       "      <th>8</th>\n",
       "      <td>Brooklyn Nets</td>\n",
       "      <td>13</td>\n",
       "      <td>14</td>\n",
       "      <td>.481</td>\n",
       "      <td>8.0</td>\n",
       "      <td>115.6</td>\n",
       "      <td>115.3</td>\n",
       "    </tr>\n",
       "    <tr>\n",
       "      <th>9</th>\n",
       "      <td>Atlanta Hawks</td>\n",
       "      <td>12</td>\n",
       "      <td>15</td>\n",
       "      <td>.444</td>\n",
       "      <td>9.0</td>\n",
       "      <td>123.1</td>\n",
       "      <td>122.9</td>\n",
       "    </tr>\n",
       "    <tr>\n",
       "      <th>10</th>\n",
       "      <td>Chicago Bulls</td>\n",
       "      <td>12</td>\n",
       "      <td>17</td>\n",
       "      <td>.414</td>\n",
       "      <td>10.0</td>\n",
       "      <td>110.3</td>\n",
       "      <td>113.1</td>\n",
       "    </tr>\n",
       "    <tr>\n",
       "      <th>11</th>\n",
       "      <td>Toronto Raptors</td>\n",
       "      <td>11</td>\n",
       "      <td>16</td>\n",
       "      <td>.407</td>\n",
       "      <td>10.0</td>\n",
       "      <td>112.2</td>\n",
       "      <td>114.1</td>\n",
       "    </tr>\n",
       "    <tr>\n",
       "      <th>12</th>\n",
       "      <td>Charlotte Hornets</td>\n",
       "      <td>7</td>\n",
       "      <td>19</td>\n",
       "      <td>.269</td>\n",
       "      <td>13.5</td>\n",
       "      <td>111.0</td>\n",
       "      <td>121.6</td>\n",
       "    </tr>\n",
       "    <tr>\n",
       "      <th>13</th>\n",
       "      <td>Washington Wizards</td>\n",
       "      <td>4</td>\n",
       "      <td>22</td>\n",
       "      <td>.154</td>\n",
       "      <td>16.5</td>\n",
       "      <td>117.0</td>\n",
       "      <td>126.8</td>\n",
       "    </tr>\n",
       "    <tr>\n",
       "      <th>14</th>\n",
       "      <td>Detroit Pistons</td>\n",
       "      <td>2</td>\n",
       "      <td>25</td>\n",
       "      <td>.074</td>\n",
       "      <td>19.0</td>\n",
       "      <td>108.9</td>\n",
       "      <td>120.8</td>\n",
       "    </tr>\n",
       "  </tbody>\n",
       "</table>\n",
       "</div>"
      ],
      "text/plain": [
       "                      0   1   2     3     4      5      6\n",
       "0        Boston Celtics  21   6  .778     —  118.9  109.8\n",
       "1       Milwaukee Bucks  20   7  .741   1.0  124.7  119.2\n",
       "2    Philadelphia 76ers  19   8  .704   2.0  122.3  111.0\n",
       "3         Orlando Magic  16  10  .615   4.5  113.0  110.1\n",
       "4       New York Knicks  16  11  .593   5.0  114.7  111.4\n",
       "5   Cleveland Cavaliers  16  12  .571   5.5  112.4  112.1\n",
       "6            Miami Heat  16  12  .571   5.5  112.9  111.8\n",
       "7        Indiana Pacers  14  12  .538   6.5  128.0  126.5\n",
       "8         Brooklyn Nets  13  14  .481   8.0  115.6  115.3\n",
       "9         Atlanta Hawks  12  15  .444   9.0  123.1  122.9\n",
       "10        Chicago Bulls  12  17  .414  10.0  110.3  113.1\n",
       "11      Toronto Raptors  11  16  .407  10.0  112.2  114.1\n",
       "12    Charlotte Hornets   7  19  .269  13.5  111.0  121.6\n",
       "13   Washington Wizards   4  22  .154  16.5  117.0  126.8\n",
       "14      Detroit Pistons   2  25  .074  19.0  108.9  120.8"
      ]
     },
     "execution_count": 563,
     "metadata": {},
     "output_type": "execute_result"
    }
   ],
   "source": [
    "df_East = pd.DataFrame(dados_totais_East)\n",
    "df_East"
   ]
  },
  {
   "cell_type": "code",
   "execution_count": 564,
   "id": "4fbf8a78-0406-402d-8db0-05598f4b5086",
   "metadata": {},
   "outputs": [],
   "source": [
    "if df_East.shape[1] == df_titulo_East.shape[1]:\n",
    "    # Atribua os nomes das colunas do DataFrame df_existing para o DataFrame df\n",
    "    df_East.columns = df_titulo_East.columns\n",
    "else:\n",
    "    print(\"O número de colunas nos DataFrames não coincide.\")"
   ]
  },
  {
   "cell_type": "code",
   "execution_count": 565,
   "id": "b0b035a4-a7bd-4c59-9b23-db60f296b1bf",
   "metadata": {
    "scrolled": true
   },
   "outputs": [
    {
     "data": {
      "text/html": [
       "<div>\n",
       "<style scoped>\n",
       "    .dataframe tbody tr th:only-of-type {\n",
       "        vertical-align: middle;\n",
       "    }\n",
       "\n",
       "    .dataframe tbody tr th {\n",
       "        vertical-align: top;\n",
       "    }\n",
       "\n",
       "    .dataframe thead th {\n",
       "        text-align: right;\n",
       "    }\n",
       "</style>\n",
       "<table border=\"1\" class=\"dataframe\">\n",
       "  <thead>\n",
       "    <tr style=\"text-align: right;\">\n",
       "      <th></th>\n",
       "      <th>Eastern Conference</th>\n",
       "      <th>W</th>\n",
       "      <th>L</th>\n",
       "      <th>W/L%</th>\n",
       "      <th>GB</th>\n",
       "      <th>PS/G</th>\n",
       "      <th>PA/G</th>\n",
       "    </tr>\n",
       "  </thead>\n",
       "  <tbody>\n",
       "    <tr>\n",
       "      <th>0</th>\n",
       "      <td>Boston Celtics</td>\n",
       "      <td>21</td>\n",
       "      <td>6</td>\n",
       "      <td>.778</td>\n",
       "      <td>—</td>\n",
       "      <td>118.9</td>\n",
       "      <td>109.8</td>\n",
       "    </tr>\n",
       "    <tr>\n",
       "      <th>1</th>\n",
       "      <td>Milwaukee Bucks</td>\n",
       "      <td>20</td>\n",
       "      <td>7</td>\n",
       "      <td>.741</td>\n",
       "      <td>1.0</td>\n",
       "      <td>124.7</td>\n",
       "      <td>119.2</td>\n",
       "    </tr>\n",
       "    <tr>\n",
       "      <th>2</th>\n",
       "      <td>Philadelphia 76ers</td>\n",
       "      <td>19</td>\n",
       "      <td>8</td>\n",
       "      <td>.704</td>\n",
       "      <td>2.0</td>\n",
       "      <td>122.3</td>\n",
       "      <td>111.0</td>\n",
       "    </tr>\n",
       "    <tr>\n",
       "      <th>3</th>\n",
       "      <td>Orlando Magic</td>\n",
       "      <td>16</td>\n",
       "      <td>10</td>\n",
       "      <td>.615</td>\n",
       "      <td>4.5</td>\n",
       "      <td>113.0</td>\n",
       "      <td>110.1</td>\n",
       "    </tr>\n",
       "    <tr>\n",
       "      <th>4</th>\n",
       "      <td>New York Knicks</td>\n",
       "      <td>16</td>\n",
       "      <td>11</td>\n",
       "      <td>.593</td>\n",
       "      <td>5.0</td>\n",
       "      <td>114.7</td>\n",
       "      <td>111.4</td>\n",
       "    </tr>\n",
       "    <tr>\n",
       "      <th>5</th>\n",
       "      <td>Cleveland Cavaliers</td>\n",
       "      <td>16</td>\n",
       "      <td>12</td>\n",
       "      <td>.571</td>\n",
       "      <td>5.5</td>\n",
       "      <td>112.4</td>\n",
       "      <td>112.1</td>\n",
       "    </tr>\n",
       "    <tr>\n",
       "      <th>6</th>\n",
       "      <td>Miami Heat</td>\n",
       "      <td>16</td>\n",
       "      <td>12</td>\n",
       "      <td>.571</td>\n",
       "      <td>5.5</td>\n",
       "      <td>112.9</td>\n",
       "      <td>111.8</td>\n",
       "    </tr>\n",
       "    <tr>\n",
       "      <th>7</th>\n",
       "      <td>Indiana Pacers</td>\n",
       "      <td>14</td>\n",
       "      <td>12</td>\n",
       "      <td>.538</td>\n",
       "      <td>6.5</td>\n",
       "      <td>128.0</td>\n",
       "      <td>126.5</td>\n",
       "    </tr>\n",
       "    <tr>\n",
       "      <th>8</th>\n",
       "      <td>Brooklyn Nets</td>\n",
       "      <td>13</td>\n",
       "      <td>14</td>\n",
       "      <td>.481</td>\n",
       "      <td>8.0</td>\n",
       "      <td>115.6</td>\n",
       "      <td>115.3</td>\n",
       "    </tr>\n",
       "    <tr>\n",
       "      <th>9</th>\n",
       "      <td>Atlanta Hawks</td>\n",
       "      <td>12</td>\n",
       "      <td>15</td>\n",
       "      <td>.444</td>\n",
       "      <td>9.0</td>\n",
       "      <td>123.1</td>\n",
       "      <td>122.9</td>\n",
       "    </tr>\n",
       "    <tr>\n",
       "      <th>10</th>\n",
       "      <td>Chicago Bulls</td>\n",
       "      <td>12</td>\n",
       "      <td>17</td>\n",
       "      <td>.414</td>\n",
       "      <td>10.0</td>\n",
       "      <td>110.3</td>\n",
       "      <td>113.1</td>\n",
       "    </tr>\n",
       "    <tr>\n",
       "      <th>11</th>\n",
       "      <td>Toronto Raptors</td>\n",
       "      <td>11</td>\n",
       "      <td>16</td>\n",
       "      <td>.407</td>\n",
       "      <td>10.0</td>\n",
       "      <td>112.2</td>\n",
       "      <td>114.1</td>\n",
       "    </tr>\n",
       "    <tr>\n",
       "      <th>12</th>\n",
       "      <td>Charlotte Hornets</td>\n",
       "      <td>7</td>\n",
       "      <td>19</td>\n",
       "      <td>.269</td>\n",
       "      <td>13.5</td>\n",
       "      <td>111.0</td>\n",
       "      <td>121.6</td>\n",
       "    </tr>\n",
       "    <tr>\n",
       "      <th>13</th>\n",
       "      <td>Washington Wizards</td>\n",
       "      <td>4</td>\n",
       "      <td>22</td>\n",
       "      <td>.154</td>\n",
       "      <td>16.5</td>\n",
       "      <td>117.0</td>\n",
       "      <td>126.8</td>\n",
       "    </tr>\n",
       "    <tr>\n",
       "      <th>14</th>\n",
       "      <td>Detroit Pistons</td>\n",
       "      <td>2</td>\n",
       "      <td>25</td>\n",
       "      <td>.074</td>\n",
       "      <td>19.0</td>\n",
       "      <td>108.9</td>\n",
       "      <td>120.8</td>\n",
       "    </tr>\n",
       "  </tbody>\n",
       "</table>\n",
       "</div>"
      ],
      "text/plain": [
       "     Eastern Conference   W   L  W/L%    GB   PS/G   PA/G\n",
       "0        Boston Celtics  21   6  .778     —  118.9  109.8\n",
       "1       Milwaukee Bucks  20   7  .741   1.0  124.7  119.2\n",
       "2    Philadelphia 76ers  19   8  .704   2.0  122.3  111.0\n",
       "3         Orlando Magic  16  10  .615   4.5  113.0  110.1\n",
       "4       New York Knicks  16  11  .593   5.0  114.7  111.4\n",
       "5   Cleveland Cavaliers  16  12  .571   5.5  112.4  112.1\n",
       "6            Miami Heat  16  12  .571   5.5  112.9  111.8\n",
       "7        Indiana Pacers  14  12  .538   6.5  128.0  126.5\n",
       "8         Brooklyn Nets  13  14  .481   8.0  115.6  115.3\n",
       "9         Atlanta Hawks  12  15  .444   9.0  123.1  122.9\n",
       "10        Chicago Bulls  12  17  .414  10.0  110.3  113.1\n",
       "11      Toronto Raptors  11  16  .407  10.0  112.2  114.1\n",
       "12    Charlotte Hornets   7  19  .269  13.5  111.0  121.6\n",
       "13   Washington Wizards   4  22  .154  16.5  117.0  126.8\n",
       "14      Detroit Pistons   2  25  .074  19.0  108.9  120.8"
      ]
     },
     "execution_count": 565,
     "metadata": {},
     "output_type": "execute_result"
    }
   ],
   "source": [
    "df_East"
   ]
  },
  {
   "cell_type": "code",
   "execution_count": null,
   "id": "3960cafe-bd56-4d3f-923e-264f72ab23f3",
   "metadata": {},
   "outputs": [],
   "source": []
  },
  {
   "cell_type": "markdown",
   "id": "2b0a18fc-e82b-4a0b-a25b-2d7c18d8dc4c",
   "metadata": {},
   "source": [
    "### West"
   ]
  },
  {
   "cell_type": "markdown",
   "id": "dcf513e7-3c58-4cc8-8a42-78c84e0d4c97",
   "metadata": {},
   "source": [
    "#### Titulo"
   ]
  },
  {
   "cell_type": "code",
   "execution_count": 566,
   "id": "1f4fdb95-93d6-420c-a03d-127b6e1f4754",
   "metadata": {
    "scrolled": true
   },
   "outputs": [],
   "source": [
    "titulo_resultado_west = soup.find_all('thead')[11]"
   ]
  },
  {
   "cell_type": "code",
   "execution_count": 567,
   "id": "f19e182a-6d4f-4aa5-ab95-11949008c72b",
   "metadata": {},
   "outputs": [],
   "source": [
    "titulo_west = titulo_resultado_west.find_all('th')"
   ]
  },
  {
   "cell_type": "code",
   "execution_count": 568,
   "id": "6d027d3d-26ed-47b7-8ce1-6836d1e92474",
   "metadata": {},
   "outputs": [],
   "source": [
    "titulo_west_resultado = []\n",
    "\n",
    "for dados in titulo_west:\n",
    "    titulo_west_resultado.append(dados.text.strip())"
   ]
  },
  {
   "cell_type": "code",
   "execution_count": 569,
   "id": "34440ec9-b2fd-4eca-a567-968063b3eedc",
   "metadata": {},
   "outputs": [
    {
     "data": {
      "text/plain": [
       "['Western Conference', 'W', 'L', 'W/L%', 'GB', 'PS/G', 'PA/G']"
      ]
     },
     "execution_count": 569,
     "metadata": {},
     "output_type": "execute_result"
    }
   ],
   "source": [
    "titulo_west_resultado"
   ]
  },
  {
   "cell_type": "code",
   "execution_count": 570,
   "id": "eafc40c2-bc28-458d-8b9c-c8037f34f367",
   "metadata": {},
   "outputs": [],
   "source": [
    "df_titulo_West = pd.DataFrame(columns= titulo_west_resultado)"
   ]
  },
  {
   "cell_type": "code",
   "execution_count": 571,
   "id": "6d1511e8-d37b-4f64-acc0-d3e0f7795098",
   "metadata": {},
   "outputs": [
    {
     "data": {
      "text/html": [
       "<div>\n",
       "<style scoped>\n",
       "    .dataframe tbody tr th:only-of-type {\n",
       "        vertical-align: middle;\n",
       "    }\n",
       "\n",
       "    .dataframe tbody tr th {\n",
       "        vertical-align: top;\n",
       "    }\n",
       "\n",
       "    .dataframe thead th {\n",
       "        text-align: right;\n",
       "    }\n",
       "</style>\n",
       "<table border=\"1\" class=\"dataframe\">\n",
       "  <thead>\n",
       "    <tr style=\"text-align: right;\">\n",
       "      <th></th>\n",
       "      <th>Western Conference</th>\n",
       "      <th>W</th>\n",
       "      <th>L</th>\n",
       "      <th>W/L%</th>\n",
       "      <th>GB</th>\n",
       "      <th>PS/G</th>\n",
       "      <th>PA/G</th>\n",
       "    </tr>\n",
       "  </thead>\n",
       "  <tbody>\n",
       "  </tbody>\n",
       "</table>\n",
       "</div>"
      ],
      "text/plain": [
       "Empty DataFrame\n",
       "Columns: [Western Conference, W, L, W/L%, GB, PS/G, PA/G]\n",
       "Index: []"
      ]
     },
     "execution_count": 571,
     "metadata": {},
     "output_type": "execute_result"
    }
   ],
   "source": [
    "resultado_pontos_atualizado = atualizar_dados()\n",
    "df_titulo_West"
   ]
  },
  {
   "cell_type": "markdown",
   "id": "b5a78cbb-2bf4-4a59-9160-991ca056f70c",
   "metadata": {},
   "source": [
    "#### Resultado do West"
   ]
  },
  {
   "cell_type": "code",
   "execution_count": 572,
   "id": "183708c6-15d1-499e-8fa9-5442521d1bde",
   "metadata": {
    "scrolled": true
   },
   "outputs": [
    {
     "data": {
      "text/plain": [
       "[<tr class=\"full_table\"><th class=\"left\" csk=\"0.231\" data-stat=\"team_name\" scope=\"row\"><a href=\"/teams/MIN/2024.html\">Minnesota Timberwolves</a></th><td class=\"right\" data-stat=\"wins\">20</td><td class=\"right\" data-stat=\"losses\">6</td><td class=\"right\" data-stat=\"win_loss_pct\">.769</td><td class=\"right\" data-stat=\"gb\">—</td><td class=\"right\" data-stat=\"pts_per_g\">113.5</td><td class=\"right\" data-stat=\"opp_pts_per_g\">106.7</td></tr>,\n",
       " <tr class=\"full_table\"><th class=\"left\" csk=\"0.320\" data-stat=\"team_name\" scope=\"row\"><a href=\"/teams/OKC/2024.html\">Oklahoma City Thunder</a></th><td class=\"right\" data-stat=\"wins\">17</td><td class=\"right\" data-stat=\"losses\">8</td><td class=\"right\" data-stat=\"win_loss_pct\">.680</td><td class=\"right\" data-stat=\"gb\">2.5</td><td class=\"right\" data-stat=\"pts_per_g\">120.2</td><td class=\"right\" data-stat=\"opp_pts_per_g\">113.0</td></tr>,\n",
       " <tr class=\"full_table\"><th class=\"left\" csk=\"0.345\" data-stat=\"team_name\" scope=\"row\"><a href=\"/teams/DEN/2024.html\">Denver Nuggets</a></th><td class=\"right\" data-stat=\"wins\">19</td><td class=\"right\" data-stat=\"losses\">10</td><td class=\"right\" data-stat=\"win_loss_pct\">.655</td><td class=\"right\" data-stat=\"gb\">2.5</td><td class=\"right\" data-stat=\"pts_per_g\">115.2</td><td class=\"right\" data-stat=\"opp_pts_per_g\">110.3</td></tr>,\n",
       " <tr class=\"full_table\"><th class=\"left\" csk=\"0.370\" data-stat=\"team_name\" scope=\"row\"><a href=\"/teams/LAC/2024.html\">Los Angeles Clippers</a></th><td class=\"right\" data-stat=\"wins\">17</td><td class=\"right\" data-stat=\"losses\">10</td><td class=\"right\" data-stat=\"win_loss_pct\">.630</td><td class=\"right\" data-stat=\"gb\">3.5</td><td class=\"right\" data-stat=\"pts_per_g\">117.1</td><td class=\"right\" data-stat=\"opp_pts_per_g\">110.7</td></tr>,\n",
       " <tr class=\"full_table\"><th class=\"left\" csk=\"0.385\" data-stat=\"team_name\" scope=\"row\"><a href=\"/teams/SAC/2024.html\">Sacramento Kings</a></th><td class=\"right\" data-stat=\"wins\">16</td><td class=\"right\" data-stat=\"losses\">10</td><td class=\"right\" data-stat=\"win_loss_pct\">.615</td><td class=\"right\" data-stat=\"gb\">4.0</td><td class=\"right\" data-stat=\"pts_per_g\">118.2</td><td class=\"right\" data-stat=\"opp_pts_per_g\">118.2</td></tr>,\n",
       " <tr class=\"full_table\"><th class=\"left\" csk=\"0.407\" data-stat=\"team_name\" scope=\"row\"><a href=\"/teams/DAL/2024.html\">Dallas Mavericks</a></th><td class=\"right\" data-stat=\"wins\">16</td><td class=\"right\" data-stat=\"losses\">11</td><td class=\"right\" data-stat=\"win_loss_pct\">.593</td><td class=\"right\" data-stat=\"gb\">4.5</td><td class=\"right\" data-stat=\"pts_per_g\">119.0</td><td class=\"right\" data-stat=\"opp_pts_per_g\">117.7</td></tr>,\n",
       " <tr class=\"full_table\"><th class=\"left\" csk=\"0.429\" data-stat=\"team_name\" scope=\"row\"><a href=\"/teams/NOP/2024.html\">New Orleans Pelicans</a></th><td class=\"right\" data-stat=\"wins\">16</td><td class=\"right\" data-stat=\"losses\">12</td><td class=\"right\" data-stat=\"win_loss_pct\">.571</td><td class=\"right\" data-stat=\"gb\">5.0</td><td class=\"right\" data-stat=\"pts_per_g\">115.9</td><td class=\"right\" data-stat=\"opp_pts_per_g\">113.9</td></tr>,\n",
       " <tr class=\"full_table\"><th class=\"left\" csk=\"0.464\" data-stat=\"team_name\" scope=\"row\"><a href=\"/teams/LAL/2024.html\">Los Angeles Lakers</a></th><td class=\"right\" data-stat=\"wins\">15</td><td class=\"right\" data-stat=\"losses\">13</td><td class=\"right\" data-stat=\"win_loss_pct\">.536</td><td class=\"right\" data-stat=\"gb\">6.0</td><td class=\"right\" data-stat=\"pts_per_g\">113.6</td><td class=\"right\" data-stat=\"opp_pts_per_g\">113.9</td></tr>,\n",
       " <tr class=\"full_table\"><th class=\"left\" csk=\"0.480\" data-stat=\"team_name\" scope=\"row\"><a href=\"/teams/HOU/2024.html\">Houston Rockets</a></th><td class=\"right\" data-stat=\"wins\">13</td><td class=\"right\" data-stat=\"losses\">12</td><td class=\"right\" data-stat=\"win_loss_pct\">.520</td><td class=\"right\" data-stat=\"gb\">6.5</td><td class=\"right\" data-stat=\"pts_per_g\">111.4</td><td class=\"right\" data-stat=\"opp_pts_per_g\">108.4</td></tr>,\n",
       " <tr class=\"full_table\"><th class=\"left\" csk=\"0.481\" data-stat=\"team_name\" scope=\"row\"><a href=\"/teams/PHO/2024.html\">Phoenix Suns</a></th><td class=\"right\" data-stat=\"wins\">14</td><td class=\"right\" data-stat=\"losses\">13</td><td class=\"right\" data-stat=\"win_loss_pct\">.519</td><td class=\"right\" data-stat=\"gb\">6.5</td><td class=\"right\" data-stat=\"pts_per_g\">114.9</td><td class=\"right\" data-stat=\"opp_pts_per_g\">113.8</td></tr>,\n",
       " <tr class=\"full_table\"><th class=\"left\" csk=\"0.519\" data-stat=\"team_name\" scope=\"row\"><a href=\"/teams/GSW/2024.html\">Golden State Warriors</a></th><td class=\"right\" data-stat=\"wins\">13</td><td class=\"right\" data-stat=\"losses\">14</td><td class=\"right\" data-stat=\"win_loss_pct\">.481</td><td class=\"right\" data-stat=\"gb\">7.5</td><td class=\"right\" data-stat=\"pts_per_g\">116.5</td><td class=\"right\" data-stat=\"opp_pts_per_g\">116.0</td></tr>,\n",
       " <tr class=\"full_table\"><th class=\"left\" csk=\"0.643\" data-stat=\"team_name\" scope=\"row\"><a href=\"/teams/UTA/2024.html\">Utah Jazz</a></th><td class=\"right\" data-stat=\"wins\">10</td><td class=\"right\" data-stat=\"losses\">18</td><td class=\"right\" data-stat=\"win_loss_pct\">.357</td><td class=\"right\" data-stat=\"gb\">11.0</td><td class=\"right\" data-stat=\"pts_per_g\">112.3</td><td class=\"right\" data-stat=\"opp_pts_per_g\">119.7</td></tr>,\n",
       " <tr class=\"full_table\"><th class=\"left\" csk=\"0.731\" data-stat=\"team_name\" scope=\"row\"><a href=\"/teams/MEM/2024.html\">Memphis Grizzlies</a></th><td class=\"right\" data-stat=\"wins\">7</td><td class=\"right\" data-stat=\"losses\">19</td><td class=\"right\" data-stat=\"win_loss_pct\">.269</td><td class=\"right\" data-stat=\"gb\">13.0</td><td class=\"right\" data-stat=\"pts_per_g\">106.0</td><td class=\"right\" data-stat=\"opp_pts_per_g\">112.5</td></tr>,\n",
       " <tr class=\"full_table\"><th class=\"left\" csk=\"0.731\" data-stat=\"team_name\" scope=\"row\"><a href=\"/teams/POR/2024.html\">Portland Trail Blazers</a></th><td class=\"right\" data-stat=\"wins\">7</td><td class=\"right\" data-stat=\"losses\">19</td><td class=\"right\" data-stat=\"win_loss_pct\">.269</td><td class=\"right\" data-stat=\"gb\">13.0</td><td class=\"right\" data-stat=\"pts_per_g\">107.7</td><td class=\"right\" data-stat=\"opp_pts_per_g\">114.2</td></tr>,\n",
       " <tr class=\"full_table\"><th class=\"left\" csk=\"0.846\" data-stat=\"team_name\" scope=\"row\"><a href=\"/teams/SAS/2024.html\">San Antonio Spurs</a></th><td class=\"right\" data-stat=\"wins\">4</td><td class=\"right\" data-stat=\"losses\">22</td><td class=\"right\" data-stat=\"win_loss_pct\">.154</td><td class=\"right\" data-stat=\"gb\">16.0</td><td class=\"right\" data-stat=\"pts_per_g\">110.9</td><td class=\"right\" data-stat=\"opp_pts_per_g\">122.5</td></tr>]"
      ]
     },
     "execution_count": 572,
     "metadata": {},
     "output_type": "execute_result"
    }
   ],
   "source": [
    "resultado_pontos_West = soup.find_all('tr')[88:]\n",
    "resultado_pontos_West"
   ]
  },
  {
   "cell_type": "code",
   "execution_count": 573,
   "id": "c03478c7-74ae-4ce4-8e75-e32a2f24ce3f",
   "metadata": {},
   "outputs": [],
   "source": [
    "dados_totais_West = []\n",
    "\n",
    "for dados in resultado_pontos_West:\n",
    "    th_west = dados.find_all('th')\n",
    "    td_west = dados.find_all('td')\n",
    "    th_limpeza = [dados.text.strip() for dados in th_west]\n",
    "    td_limpeza = [dados.text.strip() for dados in td_west]\n",
    "    dados_totais_West.append(th_limpeza+td_limpeza)"
   ]
  },
  {
   "cell_type": "code",
   "execution_count": 574,
   "id": "21ebf942-ae86-4a18-80e1-f4bc6f1d1397",
   "metadata": {},
   "outputs": [
    {
     "data": {
      "text/plain": [
       "[['Minnesota Timberwolves', '20', '6', '.769', '—', '113.5', '106.7'],\n",
       " ['Oklahoma City Thunder', '17', '8', '.680', '2.5', '120.2', '113.0'],\n",
       " ['Denver Nuggets', '19', '10', '.655', '2.5', '115.2', '110.3'],\n",
       " ['Los Angeles Clippers', '17', '10', '.630', '3.5', '117.1', '110.7'],\n",
       " ['Sacramento Kings', '16', '10', '.615', '4.0', '118.2', '118.2'],\n",
       " ['Dallas Mavericks', '16', '11', '.593', '4.5', '119.0', '117.7'],\n",
       " ['New Orleans Pelicans', '16', '12', '.571', '5.0', '115.9', '113.9'],\n",
       " ['Los Angeles Lakers', '15', '13', '.536', '6.0', '113.6', '113.9'],\n",
       " ['Houston Rockets', '13', '12', '.520', '6.5', '111.4', '108.4'],\n",
       " ['Phoenix Suns', '14', '13', '.519', '6.5', '114.9', '113.8'],\n",
       " ['Golden State Warriors', '13', '14', '.481', '7.5', '116.5', '116.0'],\n",
       " ['Utah Jazz', '10', '18', '.357', '11.0', '112.3', '119.7'],\n",
       " ['Memphis Grizzlies', '7', '19', '.269', '13.0', '106.0', '112.5'],\n",
       " ['Portland Trail Blazers', '7', '19', '.269', '13.0', '107.7', '114.2'],\n",
       " ['San Antonio Spurs', '4', '22', '.154', '16.0', '110.9', '122.5']]"
      ]
     },
     "execution_count": 574,
     "metadata": {},
     "output_type": "execute_result"
    }
   ],
   "source": [
    "dados_totais_West"
   ]
  },
  {
   "cell_type": "code",
   "execution_count": 575,
   "id": "6ab4ffb6-545f-47ff-9696-86016b08fdba",
   "metadata": {},
   "outputs": [],
   "source": [
    "df_West = pd.DataFrame(dados_totais_West)"
   ]
  },
  {
   "cell_type": "code",
   "execution_count": 576,
   "id": "149ff450-22fa-4f15-914c-ebf7aa03b4f5",
   "metadata": {},
   "outputs": [],
   "source": [
    "if df_West.shape[1] == df_titulo_West.shape[1]:\n",
    "    df_West.columns = df_titulo_West.columns\n",
    "else:\n",
    "    print('Não tem o mesmo número de colunas')"
   ]
  },
  {
   "cell_type": "code",
   "execution_count": null,
   "id": "52770585-aba8-4013-a4a1-dae739d0d112",
   "metadata": {},
   "outputs": [],
   "source": []
  },
  {
   "cell_type": "code",
   "execution_count": null,
   "id": "fa76634d-cabd-4099-a5ee-bbf9cfd16eff",
   "metadata": {},
   "outputs": [],
   "source": []
  },
  {
   "cell_type": "code",
   "execution_count": null,
   "id": "7b86a0f1-21b3-4c06-97ea-3bd2923c4c16",
   "metadata": {},
   "outputs": [],
   "source": []
  }
 ],
 "metadata": {
  "kernelspec": {
   "display_name": "Python 3 (ipykernel)",
   "language": "python",
   "name": "python3"
  },
  "language_info": {
   "codemirror_mode": {
    "name": "ipython",
    "version": 3
   },
   "file_extension": ".py",
   "mimetype": "text/x-python",
   "name": "python",
   "nbconvert_exporter": "python",
   "pygments_lexer": "ipython3",
   "version": "3.11.5"
  }
 },
 "nbformat": 4,
 "nbformat_minor": 5
}
