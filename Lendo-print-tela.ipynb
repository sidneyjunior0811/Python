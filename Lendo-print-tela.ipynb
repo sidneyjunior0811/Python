{
 "cells": [
  {
   "cell_type": "code",
   "execution_count": 2,
   "metadata": {},
   "outputs": [],
   "source": [
    "import cv2\n",
    "import pytesseract"
   ]
  },
  {
   "cell_type": "code",
   "execution_count": 6,
   "metadata": {},
   "outputs": [],
   "source": [
    "# Passo 01 - Ler a imagem:\n",
    "imagem = cv2.imread('C:/Users/sidne/Desktop/Python/link.jpg')"
   ]
  },
  {
   "cell_type": "code",
   "execution_count": 7,
   "metadata": {},
   "outputs": [],
   "source": [
    "Caminho = r'C:\\Users\\sidne\\AppData\\Local\\Programs\\Tesseract-OCR'\n",
    "pytesseract.pytesseract.tesseract_cmd = Caminho + r'\\tesseract.exe'\n",
    "# Passo 02 - Extraindo texto da imagem\n",
    "texto = pytesseract.image_to_string(imagem)"
   ]
  },
  {
   "cell_type": "code",
   "execution_count": 8,
   "metadata": {},
   "outputs": [
    {
     "name": "stdout",
     "output_type": "stream",
     "text": [
      "https: omy ild-your-first-machi ing-pipeline-using-scikit-\n",
      "\n"
     ]
    }
   ],
   "source": [
    "print(texto)"
   ]
  }
 ],
 "metadata": {
  "interpreter": {
   "hash": "8c991f69f4835ef0c35cbd5a4e1a08631e61e3a92f02e728dc2f521d9af95601"
  },
  "kernelspec": {
   "display_name": "Python 3.9.7 ('base')",
   "language": "python",
   "name": "python3"
  },
  "language_info": {
   "codemirror_mode": {
    "name": "ipython",
    "version": 3
   },
   "file_extension": ".py",
   "mimetype": "text/x-python",
   "name": "python",
   "nbconvert_exporter": "python",
   "pygments_lexer": "ipython3",
   "version": "3.9.7"
  },
  "orig_nbformat": 4
 },
 "nbformat": 4,
 "nbformat_minor": 2
}
