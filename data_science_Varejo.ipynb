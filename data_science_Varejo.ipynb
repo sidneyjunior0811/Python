{
  "nbformat": 4,
  "nbformat_minor": 0,
  "metadata": {
    "colab": {
      "provenance": [],
      "collapsed_sections": []
    },
    "kernelspec": {
      "name": "python3",
      "display_name": "Python 3"
    },
    "language_info": {
      "name": "python"
    }
  },
  "cells": [
    {
      "cell_type": "code",
      "execution_count": 94,
      "metadata": {
        "id": "6b-zdV2A6ixJ"
      },
      "outputs": [],
      "source": [
        "import pandas as pd\n",
        "import numpy as np\n",
        "import matplotlib.pyplot as plt\n",
        "import re\n",
        "import datetime\n",
        "import seaborn as sns"
      ]
    },
    {
      "cell_type": "code",
      "source": [
        "df = pd.read_csv('/content/drive/MyDrive/Online Retail Dataset.csv')"
      ],
      "metadata": {
        "id": "h2T-Dli263ih"
      },
      "execution_count": 95,
      "outputs": []
    },
    {
      "cell_type": "code",
      "source": [
        "# removendo duplicados\n",
        "df = df.drop_duplicates()"
      ],
      "metadata": {
        "id": "Ac9ZkCuQv7xq"
      },
      "execution_count": 96,
      "outputs": []
    },
    {
      "cell_type": "code",
      "source": [
        "# valor total da venda\n",
        "df['Sales'] = df['Quantity'] * df['UnitPrice']"
      ],
      "metadata": {
        "id": "29GYyQRY6-No"
      },
      "execution_count": 97,
      "outputs": []
    },
    {
      "cell_type": "code",
      "source": [
        "df.shape"
      ],
      "metadata": {
        "colab": {
          "base_uri": "https://localhost:8080/"
        },
        "id": "gnbI2EBS7TQ3",
        "outputId": "3164f51f-2e8f-4821-9309-fb969def5ff4"
      },
      "execution_count": 98,
      "outputs": [
        {
          "output_type": "execute_result",
          "data": {
            "text/plain": [
              "(536744, 9)"
            ]
          },
          "metadata": {},
          "execution_count": 98
        }
      ]
    },
    {
      "cell_type": "code",
      "source": [
        "# Separando os cancelados da Base\n",
        "Cancelados = df.loc[df['InvoiceNo'].str.contains('C')]"
      ],
      "metadata": {
        "id": "fhiTGUJZR-D0"
      },
      "execution_count": 99,
      "outputs": []
    },
    {
      "cell_type": "code",
      "source": [
        "# Removendo Cancelados da base\n",
        "df = df.drop(df.loc[df['InvoiceNo'].str.contains('C')].index)"
      ],
      "metadata": {
        "id": "O80MY4mdXII-"
      },
      "execution_count": 100,
      "outputs": []
    },
    {
      "cell_type": "code",
      "source": [
        "# Transformando data em datatime\n",
        "df['InvoiceDate'] = pd.to_datetime(df['InvoiceDate'])"
      ],
      "metadata": {
        "id": "jnkd-ksucgcc"
      },
      "execution_count": 101,
      "outputs": []
    },
    {
      "cell_type": "code",
      "source": [
        "# Extraindo Ano, Mes\n",
        "df['Year'] = df['InvoiceDate'].dt.year\n",
        "df['Month'] = df['InvoiceDate'].dt.month\n",
        "df['Year-Month'] = df['InvoiceDate'].dt.strftime('%Y-%m')"
      ],
      "metadata": {
        "id": "LsIbOQH9yv4U"
      },
      "execution_count": 102,
      "outputs": []
    },
    {
      "cell_type": "code",
      "source": [
        "# Excluindo coluna \n",
        "df = df.drop(columns='InvoiceDate')"
      ],
      "metadata": {
        "id": "yw2PVexn5MC9"
      },
      "execution_count": 103,
      "outputs": []
    },
    {
      "cell_type": "code",
      "source": [
        "# Ordenando colunas\n",
        "df = df[['InvoiceNo', 'StockCode', 'Description','Month','Year' , 'Year-Month','Quantity','UnitPrice',\t'CustomerID',\t'Country',\t'Sales']]"
      ],
      "metadata": {
        "id": "9Iy1AZF46FXg"
      },
      "execution_count": 104,
      "outputs": []
    },
    {
      "cell_type": "code",
      "source": [
        "df.Year.value_counts().plot.bar()"
      ],
      "metadata": {
        "colab": {
          "base_uri": "https://localhost:8080/",
          "height": 298
        },
        "id": "667BOA4d-ad1",
        "outputId": "038d90d3-de19-4c3e-c840-6c263b07523d"
      },
      "execution_count": 105,
      "outputs": [
        {
          "output_type": "execute_result",
          "data": {
            "text/plain": [
              "<matplotlib.axes._subplots.AxesSubplot at 0x7fcc6e7897d0>"
            ]
          },
          "metadata": {},
          "execution_count": 105
        },
        {
          "output_type": "display_data",
          "data": {
            "text/plain": [
              "<Figure size 432x288 with 1 Axes>"
            ],
            "image/png": "[encoded data removed]"
          },
          "metadata": {
            "needs_background": "light"
          }
        }
      ]
    },
    {
      "cell_type": "code",
      "source": [
        "# Separando dados por ano\n",
        "Ano_2010 = df.loc[df.Year == 2010]\n",
        "Ano_2011 = df.loc[df.Year == 2011]"
      ],
      "metadata": {
        "id": "rFV1Nxirba09"
      },
      "execution_count": 106,
      "outputs": []
    },
    {
      "cell_type": "code",
      "source": [
        "# País que mais comprou produto no ano de 2010\n",
        "round(df.loc[df.Year == 2010].groupby('Country')['Sales'].sum().head(10).sort_values(ascending = False), 0).plot.bar()"
      ],
      "metadata": {
        "colab": {
          "base_uri": "https://localhost:8080/",
          "height": 366
        },
        "id": "rFLv1DeMb0zg",
        "outputId": "8ac4cd8a-6a31-46af-b1f4-b47ad63b4040"
      },
      "execution_count": 107,
      "outputs": [
        {
          "output_type": "execute_result",
          "data": {
            "text/plain": [
              "<matplotlib.axes._subplots.AxesSubplot at 0x7fcc7090db10>"
            ]
          },
          "metadata": {},
          "execution_count": 107
        },
        {
          "output_type": "display_data",
          "data": {
            "text/plain": [
              "<Figure size 432x288 with 1 Axes>"
            ],
            "image/png": "[encoded data removed]"
          },
          "metadata": {
            "needs_background": "light"
          }
        }
      ]
    },
    {
      "cell_type": "code",
      "source": [
        "# PRODUTO MAIS VENDIDO NO ANO DE 2010\n",
        "round(df.loc[df.Year == 2010].groupby('Description')['Sales'].sum().sort_values(ascending = False).head(10),0)"
      ],
      "metadata": {
        "colab": {
          "base_uri": "https://localhost:8080/"
        },
        "id": "Oco2Qz6seNYE",
        "outputId": "d3d2435e-9340-47ce-fd97-3d2732bb3fdc"
      },
      "execution_count": 108,
      "outputs": [
        {
          "output_type": "execute_result",
          "data": {
            "text/plain": [
              "Description\n",
              "REGENCY CAKESTAND 3 TIER              27695.0\n",
              "DOTCOM POSTAGE                        24671.0\n",
              "RUSTIC  SEVENTEEN DRAWER SIDEBOARD    16790.0\n",
              "AMAZON FEE                            13541.0\n",
              "WHITE HANGING HEART T-LIGHT HOLDER    11234.0\n",
              "RED WOOLLY HOTTIE WHITE HEART.         9292.0\n",
              "PAPER CHAIN KIT 50'S CHRISTMAS         9208.0\n",
              "WHITE SKULL HOT WATER BOTTLE           8225.0\n",
              "HOT WATER BOTTLE TEA AND SYMPATHY      8119.0\n",
              "CHILLI LIGHTS                          7556.0\n",
              "Name: Sales, dtype: float64"
            ]
          },
          "metadata": {},
          "execution_count": 108
        }
      ]
    },
    {
      "cell_type": "code",
      "source": [
        "# PRODUTO MAIS VENDIDO NO ANO DE 2011\n",
        "round(df.loc[df.Year == 2011].groupby('Description')['Sales'].sum().sort_values(ascending = False).head(10),0)"
      ],
      "metadata": {
        "colab": {
          "base_uri": "https://localhost:8080/"
        },
        "id": "QGPIl1t4pb1u",
        "outputId": "2a397374-8ae3-46e6-cd35-f709a9bf48b2"
      },
      "execution_count": 109,
      "outputs": [
        {
          "output_type": "execute_result",
          "data": {
            "text/plain": [
              "Description\n",
              "DOTCOM POSTAGE                        181578.0\n",
              "PAPER CRAFT , LITTLE BIRDIE           168470.0\n",
              "REGENCY CAKESTAND 3 TIER              146462.0\n",
              "PARTY BUNTING                          98237.0\n",
              "WHITE HANGING HEART T-LIGHT HOLDER     95002.0\n",
              "JUMBO BAG RED RETROSPOT                90141.0\n",
              "MEDIUM CERAMIC TOP STORAGE JAR         81701.0\n",
              "Manual                                 75273.0\n",
              "POSTAGE                                73672.0\n",
              "RABBIT NIGHT LIGHT                     66870.0\n",
              "Name: Sales, dtype: float64"
            ]
          },
          "metadata": {},
          "execution_count": 109
        }
      ]
    },
    {
      "cell_type": "code",
      "source": [
        "# Linha do tempo de United Kingdom, Mas pode colocar qualquer País\n",
        "df.loc[df.Country == 'United Kingdom'].groupby('Year-Month')['Sales'].sum().plot()"
      ],
      "metadata": {
        "id": "Jy0jSM7p-fj4",
        "colab": {
          "base_uri": "https://localhost:8080/",
          "height": 307
        },
        "outputId": "ffe14d00-ad77-4919-e3ae-badce589bf78"
      },
      "execution_count": 110,
      "outputs": [
        {
          "output_type": "execute_result",
          "data": {
            "text/plain": [
              "<matplotlib.axes._subplots.AxesSubplot at 0x7fcc70d25150>"
            ]
          },
          "metadata": {},
          "execution_count": 110
        },
        {
          "output_type": "display_data",
          "data": {
            "text/plain": [
              "<Figure size 432x288 with 1 Axes>"
            ],
            "image/png": "[encoded data removed]"
          },
          "metadata": {
            "needs_background": "light"
          }
        }
      ]
    },
    {
      "cell_type": "code",
      "source": [
        "# Produtos que mais venderam no ano de 2010\n",
        "round(df.loc[df.Year == 2010].groupby('Description')['Sales'].sum().sort_values(ascending = False).head(10),0)"
      ],
      "metadata": {
        "colab": {
          "base_uri": "https://localhost:8080/"
        },
        "id": "5Txv5CUKqkfm",
        "outputId": "9fe54077-e5aa-40ad-d3e9-004d9babe334"
      },
      "execution_count": 111,
      "outputs": [
        {
          "output_type": "execute_result",
          "data": {
            "text/plain": [
              "Description\n",
              "REGENCY CAKESTAND 3 TIER              27695.0\n",
              "DOTCOM POSTAGE                        24671.0\n",
              "RUSTIC  SEVENTEEN DRAWER SIDEBOARD    16790.0\n",
              "AMAZON FEE                            13541.0\n",
              "WHITE HANGING HEART T-LIGHT HOLDER    11234.0\n",
              "RED WOOLLY HOTTIE WHITE HEART.         9292.0\n",
              "PAPER CHAIN KIT 50'S CHRISTMAS         9208.0\n",
              "WHITE SKULL HOT WATER BOTTLE           8225.0\n",
              "HOT WATER BOTTLE TEA AND SYMPATHY      8119.0\n",
              "CHILLI LIGHTS                          7556.0\n",
              "Name: Sales, dtype: float64"
            ]
          },
          "metadata": {},
          "execution_count": 111
        }
      ]
    },
    {
      "cell_type": "code",
      "source": [
        "# Produtos que mais venderam no ano de 2011\n",
        "round(df.loc[df.Year == 2011].groupby('Description')['Sales'].sum().sort_values(ascending = False).head(10),0)"
      ],
      "metadata": {
        "colab": {
          "base_uri": "https://localhost:8080/"
        },
        "id": "1qnPgcdFh6XH",
        "outputId": "59765194-c71f-4abd-ca0b-62c8a72864f0"
      },
      "execution_count": 112,
      "outputs": [
        {
          "output_type": "execute_result",
          "data": {
            "text/plain": [
              "Description\n",
              "DOTCOM POSTAGE                        181578.0\n",
              "PAPER CRAFT , LITTLE BIRDIE           168470.0\n",
              "REGENCY CAKESTAND 3 TIER              146462.0\n",
              "PARTY BUNTING                          98237.0\n",
              "WHITE HANGING HEART T-LIGHT HOLDER     95002.0\n",
              "JUMBO BAG RED RETROSPOT                90141.0\n",
              "MEDIUM CERAMIC TOP STORAGE JAR         81701.0\n",
              "Manual                                 75273.0\n",
              "POSTAGE                                73672.0\n",
              "RABBIT NIGHT LIGHT                     66870.0\n",
              "Name: Sales, dtype: float64"
            ]
          },
          "metadata": {},
          "execution_count": 112
        }
      ]
    },
    {
      "cell_type": "code",
      "source": [
        "# Melhor Mes de vendas de produtos no ano de 2010\n",
        "df.loc[df.Year == 2010].groupby('Month')['Sales'].sum().sort_values(ascending = False)"
      ],
      "metadata": {
        "colab": {
          "base_uri": "https://localhost:8080/"
        },
        "id": "CabDNsHCrJ59",
        "outputId": "0e683e4f-20b7-46c3-e4ee-352296e2413f"
      },
      "execution_count": 113,
      "outputs": [
        {
          "output_type": "execute_result",
          "data": {
            "text/plain": [
              "Month\n",
              "12    324800.69\n",
              "7      99553.85\n",
              "1      79616.02\n",
              "10     59021.02\n",
              "6      54624.15\n",
              "9      53548.19\n",
              "2      47629.42\n",
              "3      46898.63\n",
              "8      45235.36\n",
              "5      31364.63\n",
              "Name: Sales, dtype: float64"
            ]
          },
          "metadata": {},
          "execution_count": 113
        }
      ]
    },
    {
      "cell_type": "code",
      "source": [
        "# Melhor Mes de vendas de produtos no ano de 2011\n",
        "df.loc[df.Year == 2011].groupby('Month')['Sales'].sum().sort_values(ascending = False)"
      ],
      "metadata": {
        "colab": {
          "base_uri": "https://localhost:8080/"
        },
        "id": "YWQzrXy2vDKX",
        "outputId": "5c99a59a-7332-4311-ae40-c7031131a1fc"
      },
      "execution_count": 114,
      "outputs": [
        {
          "output_type": "execute_result",
          "data": {
            "text/plain": [
              "Month\n",
              "11    1336139.480\n",
              "9     1203625.302\n",
              "10    1027029.940\n",
              "7      905018.561\n",
              "5      824906.880\n",
              "6      786516.590\n",
              "3      756961.460\n",
              "8      753503.840\n",
              "4      706669.411\n",
              "1      700510.610\n",
              "2      575211.670\n",
              "12     222440.210\n",
              "Name: Sales, dtype: float64"
            ]
          },
          "metadata": {},
          "execution_count": 114
        }
      ]
    },
    {
      "cell_type": "code",
      "source": [
        "df.loc[df.Year == 2010].groupby('Country')['CustomerID'].sum().sort_values(ascending = False).head(10)"
      ],
      "metadata": {
        "colab": {
          "base_uri": "https://localhost:8080/"
        },
        "id": "x2P4LmTflPV2",
        "outputId": "925feb06-2471-40a7-fead-7ad4b60c2188"
      },
      "execution_count": 115,
      "outputs": [
        {
          "output_type": "execute_result",
          "data": {
            "text/plain": [
              "Country\n",
              "United Kingdom    370712259.0\n",
              "Germany             6458736.0\n",
              "France              5534217.0\n",
              "EIRE                4943104.0\n",
              "Norway              1827651.0\n",
              "Portugal            1482360.0\n",
              "Belgium             1177771.0\n",
              "Spain               1122975.0\n",
              "Netherlands         1050802.0\n",
              "Cyprus              1014340.0\n",
              "Name: CustomerID, dtype: float64"
            ]
          },
          "metadata": {},
          "execution_count": 115
        }
      ]
    }
  ]
}