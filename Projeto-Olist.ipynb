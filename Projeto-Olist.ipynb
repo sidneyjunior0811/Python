{
 "cells": [
  {
   "cell_type": "code",
   "execution_count": 193,
   "id": "8f3d55c9-c817-4313-b7dd-4620f551a9c0",
   "metadata": {},
   "outputs": [],
   "source": [
    "import pandas as pd\n",
    "import numpy as np\n",
    "import pyodbc\n",
    "import matplotlib.pyplot as plt\n",
    "import seaborn as sns\n",
    "plt.rcParams['font.family'] = 'DejaVu Sans'  # fonte padrão do matplotlib"
   ]
  },
  {
   "cell_type": "code",
   "execution_count": 194,
   "id": "76678471-73a6-4c13-b045-a977fab53719",
   "metadata": {
    "jupyter": {
     "source_hidden": true
    },
    "scrolled": true
   },
   "outputs": [
    {
     "name": "stderr",
     "output_type": "stream",
     "text": [
      "C:\\Users\\sidne\\AppData\\Local\\Temp\\ipykernel_17540\\3159878578.py:11: UserWarning: pandas only supports SQLAlchemy connectable (engine/connection) or database string URI or sqlite3 DBAPI2 connection. Other DBAPI2 objects are not tested. Please consider using SQLAlchemy.\n",
      "  df_customers = pd.read_sql(\"SELECT * FROM customers\", conn)\n",
      "C:\\Users\\sidne\\AppData\\Local\\Temp\\ipykernel_17540\\3159878578.py:12: UserWarning: pandas only supports SQLAlchemy connectable (engine/connection) or database string URI or sqlite3 DBAPI2 connection. Other DBAPI2 objects are not tested. Please consider using SQLAlchemy.\n",
      "  df_geolocation = pd.read_sql(\"SELECT * FROM geolocation\", conn)\n",
      "C:\\Users\\sidne\\AppData\\Local\\Temp\\ipykernel_17540\\3159878578.py:13: UserWarning: pandas only supports SQLAlchemy connectable (engine/connection) or database string URI or sqlite3 DBAPI2 connection. Other DBAPI2 objects are not tested. Please consider using SQLAlchemy.\n",
      "  df_order_items = pd.read_sql(\"SELECT * FROM order_items\", conn)\n",
      "C:\\Users\\sidne\\AppData\\Local\\Temp\\ipykernel_17540\\3159878578.py:14: UserWarning: pandas only supports SQLAlchemy connectable (engine/connection) or database string URI or sqlite3 DBAPI2 connection. Other DBAPI2 objects are not tested. Please consider using SQLAlchemy.\n",
      "  df_order_payments = pd.read_sql(\"SELECT * FROM order_payments\", conn)\n",
      "C:\\Users\\sidne\\AppData\\Local\\Temp\\ipykernel_17540\\3159878578.py:15: UserWarning: pandas only supports SQLAlchemy connectable (engine/connection) or database string URI or sqlite3 DBAPI2 connection. Other DBAPI2 objects are not tested. Please consider using SQLAlchemy.\n",
      "  df_reviews = pd.read_sql(\"SELECT * FROM reviews\", conn)\n",
      "C:\\Users\\sidne\\AppData\\Local\\Temp\\ipykernel_17540\\3159878578.py:16: UserWarning: pandas only supports SQLAlchemy connectable (engine/connection) or database string URI or sqlite3 DBAPI2 connection. Other DBAPI2 objects are not tested. Please consider using SQLAlchemy.\n",
      "  df_orders = pd.read_sql(\"SELECT * FROM orders\", conn)\n",
      "C:\\Users\\sidne\\AppData\\Local\\Temp\\ipykernel_17540\\3159878578.py:17: UserWarning: pandas only supports SQLAlchemy connectable (engine/connection) or database string URI or sqlite3 DBAPI2 connection. Other DBAPI2 objects are not tested. Please consider using SQLAlchemy.\n",
      "  df_products = pd.read_sql(\"SELECT * FROM products\", conn)\n",
      "C:\\Users\\sidne\\AppData\\Local\\Temp\\ipykernel_17540\\3159878578.py:18: UserWarning: pandas only supports SQLAlchemy connectable (engine/connection) or database string URI or sqlite3 DBAPI2 connection. Other DBAPI2 objects are not tested. Please consider using SQLAlchemy.\n",
      "  df_sellers = pd.read_sql(\"SELECT * FROM sellers\", conn)\n",
      "C:\\Users\\sidne\\AppData\\Local\\Temp\\ipykernel_17540\\3159878578.py:19: UserWarning: pandas only supports SQLAlchemy connectable (engine/connection) or database string URI or sqlite3 DBAPI2 connection. Other DBAPI2 objects are not tested. Please consider using SQLAlchemy.\n",
      "  df_product_category_name_translation = pd.read_sql(\"SELECT * FROM product_category_name_translation\", conn)\n"
     ]
    }
   ],
   "source": [
    "import pyodbc\n",
    "import pandas as pd\n",
    "\n",
    "server_name = \"JUNIOR\"  # nome do servidor retornado\n",
    "database_name = \"Olist\"\n",
    "\n",
    "connection_string = f\"DRIVER={{ODBC Driver 17 for SQL Server}};SERVER={server_name};DATABASE={database_name};Trusted_Connection=yes\"\n",
    "\n",
    "conn = pyodbc.connect(connection_string)\n",
    "\n",
    "df_customers = pd.read_sql(\"SELECT * FROM customers\", conn)\n",
    "df_geolocation = pd.read_sql(\"SELECT * FROM geolocation\", conn)\n",
    "df_order_items = pd.read_sql(\"SELECT * FROM order_items\", conn)\n",
    "df_order_payments = pd.read_sql(\"SELECT * FROM order_payments\", conn)\n",
    "df_reviews = pd.read_sql(\"SELECT * FROM reviews\", conn)\n",
    "df_orders = pd.read_sql(\"SELECT * FROM orders\", conn)\n",
    "df_products = pd.read_sql(\"SELECT * FROM products\", conn)\n",
    "df_sellers = pd.read_sql(\"SELECT * FROM sellers\", conn)\n",
    "df_product_category_name_translation = pd.read_sql(\"SELECT * FROM product_category_name_translation\", conn)\n"
   ]
  },
  {
   "cell_type": "markdown",
   "id": "a79b668c-38e9-4257-a18d-916e9f64adcf",
   "metadata": {
    "jp-MarkdownHeadingCollapsed": true
   },
   "source": [
    "#### 1. Visões Comerciais (Negócio):\n",
    "##### Vendas:\n",
    "* Vendas e faturamento\n",
    "* Total vendido por período (sazonalidade).\n",
    "* Produtos e categorias mais vendidos.\n",
    "##### Clientes\n",
    "* Segmentação de clientes por frequência de compra, ticket médio e localização.\n",
    "* Análise de retenção: quantos clientes voltam a comprar?\n",
    "* Cohort analysis (como grupos de clientes evoluem ao longo do tempo).\n",
    "##### Pagamentos\n",
    "* Preferência por método de pagamento (boleto, cartão, parcelado).\n",
    "* Análise de inadimplência/estorno."
   ]
  },
  {
   "cell_type": "markdown",
   "id": "1a2c93a9-9142-422c-8810-df4e11ea4d26",
   "metadata": {},
   "source": [
    "#### 1. Visões Comerciais (Negócio):\n",
    "##### Vendas:\n",
    "* Vendas e faturamento\n",
    "* Total vendido por período (sazonalidade).\n",
    "* Produtos e categorias mais vendidos."
   ]
  },
  {
   "cell_type": "code",
   "execution_count": 195,
   "id": "ffd0edfe-868e-4c3e-b2e4-fb5e4386b611",
   "metadata": {},
   "outputs": [],
   "source": [
    "# Cruzando a base de ordem do pedido com clientes\n",
    "df_base = df_orders.merge(df_customers[['customer_id','customer_unique_id','customer_city','customer_state']], \n",
    "                                            on = 'customer_id', how = 'left')"
   ]
  },
  {
   "cell_type": "code",
   "execution_count": 196,
   "id": "f3b2b143-ac1f-4648-bd96-256a136c94b6",
   "metadata": {},
   "outputs": [],
   "source": [
    "# Cruzando com a base dos itens\n",
    "df_base = df_base.merge(df_order_items[['order_id','product_id','price','freight_value']], on = 'order_id', how= 'left')"
   ]
  },
  {
   "cell_type": "code",
   "execution_count": 197,
   "id": "60e11130-df19-4156-b3af-5eeec0a692ce",
   "metadata": {},
   "outputs": [],
   "source": [
    "# Cruzando com a base dos produtos\n",
    "df_base = df_base.merge(\\\n",
    "    df_products[['product_category_name','product_id','product_weight_g','product_length_cm','product_height_cm','product_width_cm']], on = 'product_id', how = 'left')"
   ]
  },
  {
   "cell_type": "code",
   "execution_count": 198,
   "id": "dc28831e-c4ac-40f8-8737-398ba3d9561c",
   "metadata": {},
   "outputs": [],
   "source": [
    "# Cruzando com a base dos reviews\n",
    "df_base = df_base.merge(df_reviews[['order_id','review_score','review_comment_message']],\\\n",
    "                                            on = 'order_id',how = 'left')"
   ]
  },
  {
   "cell_type": "code",
   "execution_count": 199,
   "id": "7afec03f-e35f-4f5a-bc01-c3d76a03450c",
   "metadata": {},
   "outputs": [],
   "source": [
    "# Cruzando com a base de ordem de pagamento\n",
    "df_base = df_base.merge(df_order_payments[['order_id','payment_type','payment_installments']],\\\n",
    "                                            on = 'order_id', how = 'left')"
   ]
  },
  {
   "cell_type": "code",
   "execution_count": 200,
   "id": "4e14409e-0a72-4307-9bf1-d02224cfedaa",
   "metadata": {
    "scrolled": true
   },
   "outputs": [
    {
     "data": {
      "text/plain": [
       "order_id                             0\n",
       "customer_id                          0\n",
       "order_status                         0\n",
       "order_purchase_timestamp             0\n",
       "order_approved_at                    0\n",
       "order_delivered_carrier_date         0\n",
       "order_delivered_customer_date        0\n",
       "order_estimated_delivery_date        0\n",
       "customer_unique_id                   0\n",
       "customer_city                        0\n",
       "customer_state                       0\n",
       "product_id                         833\n",
       "price                              833\n",
       "freight_value                      833\n",
       "product_category_name              833\n",
       "product_weight_g                   833\n",
       "product_length_cm                  833\n",
       "product_height_cm                  833\n",
       "product_width_cm                   833\n",
       "review_score                       997\n",
       "review_comment_message           68898\n",
       "payment_type                         3\n",
       "payment_installments                 3\n",
       "dtype: int64"
      ]
     },
     "execution_count": 200,
     "metadata": {},
     "output_type": "execute_result"
    }
   ],
   "source": [
    "# Verificando informações vazias\n",
    "df_base.isna().sum()"
   ]
  },
  {
   "cell_type": "code",
   "execution_count": 201,
   "id": "635f635f-a3ab-4f06-bc76-6d4e493a5c1e",
   "metadata": {},
   "outputs": [],
   "source": [
    "# ID do produto não pode ser vazio.\n",
    "df_base = df_base.dropna(subset=['product_id'])"
   ]
  },
  {
   "cell_type": "code",
   "execution_count": 202,
   "id": "63cc66fe-e9d2-4f82-9901-3a5b9e0e107d",
   "metadata": {
    "scrolled": true
   },
   "outputs": [
    {
     "data": {
      "text/plain": [
       "order_id                             0\n",
       "customer_id                          0\n",
       "order_status                         0\n",
       "order_purchase_timestamp             0\n",
       "order_approved_at                    0\n",
       "order_delivered_carrier_date         0\n",
       "order_delivered_customer_date        0\n",
       "order_estimated_delivery_date        0\n",
       "customer_unique_id                   0\n",
       "customer_city                        0\n",
       "customer_state                       0\n",
       "product_id                           0\n",
       "price                                0\n",
       "freight_value                        0\n",
       "product_category_name                0\n",
       "product_weight_g                     0\n",
       "product_length_cm                    0\n",
       "product_height_cm                    0\n",
       "product_width_cm                     0\n",
       "review_score                       978\n",
       "review_comment_message           68628\n",
       "payment_type                         3\n",
       "payment_installments                 3\n",
       "dtype: int64"
      ]
     },
     "execution_count": 202,
     "metadata": {},
     "output_type": "execute_result"
    }
   ],
   "source": [
    "# Apos do Drop\n",
    "df_base.isna().sum()"
   ]
  },
  {
   "cell_type": "code",
   "execution_count": 203,
   "id": "adf64a55-a66f-487b-8c05-ffc4251da3d0",
   "metadata": {
    "scrolled": true
   },
   "outputs": [
    {
     "name": "stdout",
     "output_type": "stream",
     "text": [
      "<class 'pandas.core.frame.DataFrame'>\n",
      "Index: 118310 entries, 0 to 119142\n",
      "Data columns (total 23 columns):\n",
      " #   Column                         Non-Null Count   Dtype \n",
      "---  ------                         --------------   ----- \n",
      " 0   order_id                       118310 non-null  object\n",
      " 1   customer_id                    118310 non-null  object\n",
      " 2   order_status                   118310 non-null  object\n",
      " 3   order_purchase_timestamp       118310 non-null  object\n",
      " 4   order_approved_at              118310 non-null  object\n",
      " 5   order_delivered_carrier_date   118310 non-null  object\n",
      " 6   order_delivered_customer_date  118310 non-null  object\n",
      " 7   order_estimated_delivery_date  118310 non-null  object\n",
      " 8   customer_unique_id             118310 non-null  object\n",
      " 9   customer_city                  118310 non-null  object\n",
      " 10  customer_state                 118310 non-null  object\n",
      " 11  product_id                     118310 non-null  object\n",
      " 12  price                          118310 non-null  object\n",
      " 13  freight_value                  118310 non-null  object\n",
      " 14  product_category_name          118310 non-null  object\n",
      " 15  product_weight_g               118310 non-null  object\n",
      " 16  product_length_cm              118310 non-null  object\n",
      " 17  product_height_cm              118310 non-null  object\n",
      " 18  product_width_cm               118310 non-null  object\n",
      " 19  review_score                   117332 non-null  object\n",
      " 20  review_comment_message         49682 non-null   object\n",
      " 21  payment_type                   118307 non-null  object\n",
      " 22  payment_installments           118307 non-null  object\n",
      "dtypes: object(23)\n",
      "memory usage: 21.7+ MB\n"
     ]
    }
   ],
   "source": [
    "# Analisando o type das colunas\n",
    "df_base.info()"
   ]
  },
  {
   "cell_type": "code",
   "execution_count": 204,
   "id": "25db7c30-c1e0-4331-976e-dc641dc021ac",
   "metadata": {
    "scrolled": true
   },
   "outputs": [],
   "source": [
    "# To Data\n",
    "df_base['order_purchase_timestamp'] = pd.to_datetime(df_base['order_purchase_timestamp']).dt.normalize()\n",
    "df_base['order_approved_at'] = pd.to_datetime(df_base['order_approved_at']).dt.normalize()\n",
    "df_base['order_delivered_carrier_date'] = pd.to_datetime(df_base['order_delivered_carrier_date']).dt.normalize()\n",
    "df_base['order_delivered_customer_date'] = pd.to_datetime(df_base['order_delivered_customer_date']).dt.normalize()\n",
    "df_base['order_estimated_delivery_date'] = pd.to_datetime(df_base['order_estimated_delivery_date']).dt.normalize()\n",
    "\n",
    "# To String\n",
    "\n",
    "df_base['order_status'] = df_base['order_status'].astype('string')\n",
    "df_base['customer_city'] = df_base['customer_city'].astype('string')\n",
    "df_base['customer_state'] = df_base['customer_state'].astype('string')\n",
    "df_base['product_category_name'] = df_base['product_category_name'].astype('string')\n",
    "\n",
    "# To Numeric\n",
    "df_base['price'] = pd.to_numeric(df_base['price'])\n",
    "df_base['freight_value'] = pd.to_numeric(df_base['freight_value'])\n",
    "df_base['review_score'] = df_base['review_score'].fillna(0).astype(int)\n",
    "df_base['product_weight_g'] = pd.to_numeric(df_base['product_weight_g'])\n",
    "df_base['product_length_cm'] = pd.to_numeric(df_base['product_length_cm'])\n",
    "df_base['product_height_cm'] = pd.to_numeric(df_base['product_height_cm'])\n",
    "df_base['product_width_cm'] = pd.to_numeric(df_base['product_width_cm'])"
   ]
  },
  {
   "cell_type": "code",
   "execution_count": 205,
   "id": "604cdd81-9b90-4591-b490-3655b2c44671",
   "metadata": {
    "scrolled": true
   },
   "outputs": [
    {
     "name": "stdout",
     "output_type": "stream",
     "text": [
      "<class 'pandas.core.frame.DataFrame'>\n",
      "Index: 118310 entries, 0 to 119142\n",
      "Data columns (total 23 columns):\n",
      " #   Column                         Non-Null Count   Dtype         \n",
      "---  ------                         --------------   -----         \n",
      " 0   order_id                       118310 non-null  object        \n",
      " 1   customer_id                    118310 non-null  object        \n",
      " 2   order_status                   118310 non-null  string        \n",
      " 3   order_purchase_timestamp       118310 non-null  datetime64[ns]\n",
      " 4   order_approved_at              118295 non-null  datetime64[ns]\n",
      " 5   order_delivered_carrier_date   117056 non-null  datetime64[ns]\n",
      " 6   order_delivered_customer_date  115722 non-null  datetime64[ns]\n",
      " 7   order_estimated_delivery_date  118310 non-null  datetime64[ns]\n",
      " 8   customer_unique_id             118310 non-null  object        \n",
      " 9   customer_city                  118310 non-null  string        \n",
      " 10  customer_state                 118310 non-null  string        \n",
      " 11  product_id                     118310 non-null  object        \n",
      " 12  price                          118310 non-null  float64       \n",
      " 13  freight_value                  118310 non-null  float64       \n",
      " 14  product_category_name          118310 non-null  string        \n",
      " 15  product_weight_g               118290 non-null  float64       \n",
      " 16  product_length_cm              118290 non-null  float64       \n",
      " 17  product_height_cm              118290 non-null  float64       \n",
      " 18  product_width_cm               118290 non-null  float64       \n",
      " 19  review_score                   118310 non-null  int32         \n",
      " 20  review_comment_message         49682 non-null   object        \n",
      " 21  payment_type                   118307 non-null  object        \n",
      " 22  payment_installments           118307 non-null  object        \n",
      "dtypes: datetime64[ns](5), float64(6), int32(1), object(7), string(4)\n",
      "memory usage: 21.2+ MB\n"
     ]
    }
   ],
   "source": [
    "# Apos a transformações do tipo da coluna, foi analisado que a quantidade de linhas estão diferentes\n",
    "df_base.info()"
   ]
  },
  {
   "cell_type": "code",
   "execution_count": 206,
   "id": "cc03baa8-c6d3-42f7-a7f3-22afa4d7de0f",
   "metadata": {},
   "outputs": [],
   "source": [
    "#Pedidos sem essa data não podem ter rastreamento válido\n",
    "df_base = df_base.dropna(subset=['order_delivered_carrier_date'])"
   ]
  },
  {
   "cell_type": "code",
   "execution_count": 207,
   "id": "32f62e36-674a-4676-ba78-2b9992bf415b",
   "metadata": {},
   "outputs": [],
   "source": [
    "# Sem peso, não é possível análise de custos logísticos\n",
    "df_base = df_base.dropna(subset=['product_weight_g'])"
   ]
  },
  {
   "cell_type": "code",
   "execution_count": 208,
   "id": "4a069f51-ad46-41ca-86fb-f94b08c97929",
   "metadata": {},
   "outputs": [],
   "source": [
    "# Pedidos não aprovados representam falha no processo de venda\n",
    "df_base = df_base.dropna(subset=['order_approved_at'])"
   ]
  },
  {
   "cell_type": "code",
   "execution_count": 209,
   "id": "c7d54640-1163-4ed0-a7dd-228df8ab72a4",
   "metadata": {},
   "outputs": [],
   "source": [
    "# Informação essencial para receita e conversão de vendas\n",
    "df_base = df_base.dropna(subset=['payment_type'])"
   ]
  },
  {
   "cell_type": "code",
   "execution_count": 210,
   "id": "b93231cf-a0c6-4881-880e-5911ba99c866",
   "metadata": {},
   "outputs": [],
   "source": [
    "# Assegura que todos os registros tenham data válida para cálculo de prazos\n",
    "df_base = df_base.dropna(subset=['order_delivered_customer_date'])"
   ]
  },
  {
   "cell_type": "code",
   "execution_count": 211,
   "id": "a172b903-1ee8-43a9-ac76-ac64499af8a0",
   "metadata": {
    "scrolled": true
   },
   "outputs": [
    {
     "name": "stdout",
     "output_type": "stream",
     "text": [
      "<class 'pandas.core.frame.DataFrame'>\n",
      "Index: 115683 entries, 0 to 119142\n",
      "Data columns (total 23 columns):\n",
      " #   Column                         Non-Null Count   Dtype         \n",
      "---  ------                         --------------   -----         \n",
      " 0   order_id                       115683 non-null  object        \n",
      " 1   customer_id                    115683 non-null  object        \n",
      " 2   order_status                   115683 non-null  string        \n",
      " 3   order_purchase_timestamp       115683 non-null  datetime64[ns]\n",
      " 4   order_approved_at              115683 non-null  datetime64[ns]\n",
      " 5   order_delivered_carrier_date   115683 non-null  datetime64[ns]\n",
      " 6   order_delivered_customer_date  115683 non-null  datetime64[ns]\n",
      " 7   order_estimated_delivery_date  115683 non-null  datetime64[ns]\n",
      " 8   customer_unique_id             115683 non-null  object        \n",
      " 9   customer_city                  115683 non-null  string        \n",
      " 10  customer_state                 115683 non-null  string        \n",
      " 11  product_id                     115683 non-null  object        \n",
      " 12  price                          115683 non-null  float64       \n",
      " 13  freight_value                  115683 non-null  float64       \n",
      " 14  product_category_name          115683 non-null  string        \n",
      " 15  product_weight_g               115683 non-null  float64       \n",
      " 16  product_length_cm              115683 non-null  float64       \n",
      " 17  product_height_cm              115683 non-null  float64       \n",
      " 18  product_width_cm               115683 non-null  float64       \n",
      " 19  review_score                   115683 non-null  int32         \n",
      " 20  review_comment_message         48072 non-null   object        \n",
      " 21  payment_type                   115683 non-null  object        \n",
      " 22  payment_installments           115683 non-null  object        \n",
      "dtypes: datetime64[ns](5), float64(6), int32(1), object(7), string(4)\n",
      "memory usage: 20.7+ MB\n"
     ]
    }
   ],
   "source": [
    "df_base.info()"
   ]
  },
  {
   "cell_type": "code",
   "execution_count": 212,
   "id": "93b41cf6-255d-451f-a086-b42f35df3bab",
   "metadata": {},
   "outputs": [],
   "source": [
    "df_base['total_items'] = df_base['price'] + df_base['freight_value']\n",
    "\n",
    "df_base['delivery_diff_days'] = pd.to_numeric(\n",
    "    (df_base['order_delivered_customer_date'] - df_base['order_approved_at']).dt.days\n",
    ")\n",
    "\n",
    "df_base['estimated_diff_days'] = pd.to_numeric(\n",
    "    (df_base['order_estimated_delivery_date'] - df_base['order_approved_at']).dt.days\n",
    ")\n",
    "\n",
    "df_base['dias_atraso'] = pd.to_numeric(\n",
    "    df_base['delivery_diff_days'] - df_base['estimated_diff_days']\n",
    ")"
   ]
  },
  {
   "cell_type": "code",
   "execution_count": 213,
   "id": "5cdfc39e-144c-4419-8b59-3281fabc7706",
   "metadata": {},
   "outputs": [
    {
     "data": {
      "text/html": [
       "<div>\n",
       "<style scoped>\n",
       "    .dataframe tbody tr th:only-of-type {\n",
       "        vertical-align: middle;\n",
       "    }\n",
       "\n",
       "    .dataframe tbody tr th {\n",
       "        vertical-align: top;\n",
       "    }\n",
       "\n",
       "    .dataframe thead th {\n",
       "        text-align: right;\n",
       "    }\n",
       "</style>\n",
       "<table border=\"1\" class=\"dataframe\">\n",
       "  <thead>\n",
       "    <tr style=\"text-align: right;\">\n",
       "      <th></th>\n",
       "      <th>order_id</th>\n",
       "      <th>customer_id</th>\n",
       "      <th>order_status</th>\n",
       "      <th>order_purchase_timestamp</th>\n",
       "      <th>order_approved_at</th>\n",
       "      <th>order_delivered_carrier_date</th>\n",
       "      <th>order_delivered_customer_date</th>\n",
       "      <th>order_estimated_delivery_date</th>\n",
       "      <th>customer_unique_id</th>\n",
       "      <th>customer_city</th>\n",
       "      <th>...</th>\n",
       "      <th>product_height_cm</th>\n",
       "      <th>product_width_cm</th>\n",
       "      <th>review_score</th>\n",
       "      <th>review_comment_message</th>\n",
       "      <th>payment_type</th>\n",
       "      <th>payment_installments</th>\n",
       "      <th>total_items</th>\n",
       "      <th>delivery_diff_days</th>\n",
       "      <th>estimated_diff_days</th>\n",
       "      <th>dias_atraso</th>\n",
       "    </tr>\n",
       "  </thead>\n",
       "  <tbody>\n",
       "    <tr>\n",
       "      <th>0</th>\n",
       "      <td>6bf0953ea2856ef95e31030263eacc2e</td>\n",
       "      <td>a602a55269bd7ad0a6d3d7ef86ea249d</td>\n",
       "      <td>delivered</td>\n",
       "      <td>2017-02-11</td>\n",
       "      <td>2017-02-11</td>\n",
       "      <td>2017-02-15</td>\n",
       "      <td>2017-02-17</td>\n",
       "      <td>2017-03-10</td>\n",
       "      <td>bf90a7aa2fc913b4f227d1d2a9edf73d</td>\n",
       "      <td>sao paulo</td>\n",
       "      <td>...</td>\n",
       "      <td>11.0</td>\n",
       "      <td>18.0</td>\n",
       "      <td>4</td>\n",
       "      <td>None</td>\n",
       "      <td>credit_card</td>\n",
       "      <td>1</td>\n",
       "      <td>32.62</td>\n",
       "      <td>6</td>\n",
       "      <td>27</td>\n",
       "      <td>-21</td>\n",
       "    </tr>\n",
       "    <tr>\n",
       "      <th>1</th>\n",
       "      <td>338084a6f213912faa2ab6b87c6d388f</td>\n",
       "      <td>11e55f8da60d95653cfe027e0e90c51a</td>\n",
       "      <td>delivered</td>\n",
       "      <td>2018-04-09</td>\n",
       "      <td>2018-04-10</td>\n",
       "      <td>2018-04-10</td>\n",
       "      <td>2018-04-16</td>\n",
       "      <td>2018-04-25</td>\n",
       "      <td>9084ddf25334d2b3afaf25994ce72e98</td>\n",
       "      <td>diadema</td>\n",
       "      <td>...</td>\n",
       "      <td>11.0</td>\n",
       "      <td>20.0</td>\n",
       "      <td>4</td>\n",
       "      <td>É um kit bom de qualidade, no entanto o pincel...</td>\n",
       "      <td>boleto</td>\n",
       "      <td>1</td>\n",
       "      <td>63.28</td>\n",
       "      <td>6</td>\n",
       "      <td>15</td>\n",
       "      <td>-9</td>\n",
       "    </tr>\n",
       "    <tr>\n",
       "      <th>2</th>\n",
       "      <td>621de62735eae3ffa4affa5e73d860db</td>\n",
       "      <td>422290a11dc46ec8ca6fb7e6bd45dd1b</td>\n",
       "      <td>delivered</td>\n",
       "      <td>2018-03-02</td>\n",
       "      <td>2018-03-02</td>\n",
       "      <td>2018-03-06</td>\n",
       "      <td>2018-04-03</td>\n",
       "      <td>2018-03-23</td>\n",
       "      <td>a53b34c2c302d82e6378f4b310fa41c6</td>\n",
       "      <td>ponta grossa</td>\n",
       "      <td>...</td>\n",
       "      <td>10.0</td>\n",
       "      <td>15.0</td>\n",
       "      <td>1</td>\n",
       "      <td>None</td>\n",
       "      <td>credit_card</td>\n",
       "      <td>1</td>\n",
       "      <td>156.73</td>\n",
       "      <td>32</td>\n",
       "      <td>21</td>\n",
       "      <td>11</td>\n",
       "    </tr>\n",
       "    <tr>\n",
       "      <th>3</th>\n",
       "      <td>36272970346cb4aadae6ef0defd79773</td>\n",
       "      <td>9df54e366988cfc2cebe295b76ca03e1</td>\n",
       "      <td>delivered</td>\n",
       "      <td>2018-03-16</td>\n",
       "      <td>2018-03-16</td>\n",
       "      <td>2018-03-19</td>\n",
       "      <td>2018-04-10</td>\n",
       "      <td>2018-04-05</td>\n",
       "      <td>8a2116bb6477d75ea533208c915be658</td>\n",
       "      <td>linhares</td>\n",
       "      <td>...</td>\n",
       "      <td>83.0</td>\n",
       "      <td>20.0</td>\n",
       "      <td>1</td>\n",
       "      <td>Preciso da cadeira com urgência, pessoa com de...</td>\n",
       "      <td>boleto</td>\n",
       "      <td>1</td>\n",
       "      <td>599.30</td>\n",
       "      <td>25</td>\n",
       "      <td>20</td>\n",
       "      <td>5</td>\n",
       "    </tr>\n",
       "    <tr>\n",
       "      <th>4</th>\n",
       "      <td>7ab2b693aebb8e032fc16f9c75051fdc</td>\n",
       "      <td>10dd2ea9384e83d9cde6177042b4b55d</td>\n",
       "      <td>delivered</td>\n",
       "      <td>2018-02-20</td>\n",
       "      <td>2018-02-20</td>\n",
       "      <td>2018-03-01</td>\n",
       "      <td>2018-04-11</td>\n",
       "      <td>2018-03-23</td>\n",
       "      <td>c966cd5248ab87272ee8d8e9479880bc</td>\n",
       "      <td>fortaleza</td>\n",
       "      <td>...</td>\n",
       "      <td>6.0</td>\n",
       "      <td>23.0</td>\n",
       "      <td>2</td>\n",
       "      <td>não recebi o produto  o prazo já acabou</td>\n",
       "      <td>credit_card</td>\n",
       "      <td>3</td>\n",
       "      <td>87.76</td>\n",
       "      <td>50</td>\n",
       "      <td>31</td>\n",
       "      <td>19</td>\n",
       "    </tr>\n",
       "  </tbody>\n",
       "</table>\n",
       "<p>5 rows × 27 columns</p>\n",
       "</div>"
      ],
      "text/plain": [
       "                           order_id                       customer_id  \\\n",
       "0  6bf0953ea2856ef95e31030263eacc2e  a602a55269bd7ad0a6d3d7ef86ea249d   \n",
       "1  338084a6f213912faa2ab6b87c6d388f  11e55f8da60d95653cfe027e0e90c51a   \n",
       "2  621de62735eae3ffa4affa5e73d860db  422290a11dc46ec8ca6fb7e6bd45dd1b   \n",
       "3  36272970346cb4aadae6ef0defd79773  9df54e366988cfc2cebe295b76ca03e1   \n",
       "4  7ab2b693aebb8e032fc16f9c75051fdc  10dd2ea9384e83d9cde6177042b4b55d   \n",
       "\n",
       "  order_status order_purchase_timestamp order_approved_at  \\\n",
       "0    delivered               2017-02-11        2017-02-11   \n",
       "1    delivered               2018-04-09        2018-04-10   \n",
       "2    delivered               2018-03-02        2018-03-02   \n",
       "3    delivered               2018-03-16        2018-03-16   \n",
       "4    delivered               2018-02-20        2018-02-20   \n",
       "\n",
       "  order_delivered_carrier_date order_delivered_customer_date  \\\n",
       "0                   2017-02-15                    2017-02-17   \n",
       "1                   2018-04-10                    2018-04-16   \n",
       "2                   2018-03-06                    2018-04-03   \n",
       "3                   2018-03-19                    2018-04-10   \n",
       "4                   2018-03-01                    2018-04-11   \n",
       "\n",
       "  order_estimated_delivery_date                customer_unique_id  \\\n",
       "0                    2017-03-10  bf90a7aa2fc913b4f227d1d2a9edf73d   \n",
       "1                    2018-04-25  9084ddf25334d2b3afaf25994ce72e98   \n",
       "2                    2018-03-23  a53b34c2c302d82e6378f4b310fa41c6   \n",
       "3                    2018-04-05  8a2116bb6477d75ea533208c915be658   \n",
       "4                    2018-03-23  c966cd5248ab87272ee8d8e9479880bc   \n",
       "\n",
       "  customer_city  ... product_height_cm product_width_cm  review_score  \\\n",
       "0     sao paulo  ...              11.0             18.0             4   \n",
       "1       diadema  ...              11.0             20.0             4   \n",
       "2  ponta grossa  ...              10.0             15.0             1   \n",
       "3      linhares  ...              83.0             20.0             1   \n",
       "4     fortaleza  ...               6.0             23.0             2   \n",
       "\n",
       "                              review_comment_message payment_type  \\\n",
       "0                                               None  credit_card   \n",
       "1  É um kit bom de qualidade, no entanto o pincel...       boleto   \n",
       "2                                               None  credit_card   \n",
       "3  Preciso da cadeira com urgência, pessoa com de...       boleto   \n",
       "4            não recebi o produto  o prazo já acabou  credit_card   \n",
       "\n",
       "   payment_installments  total_items  delivery_diff_days  estimated_diff_days  \\\n",
       "0                     1        32.62                   6                   27   \n",
       "1                     1        63.28                   6                   15   \n",
       "2                     1       156.73                  32                   21   \n",
       "3                     1       599.30                  25                   20   \n",
       "4                     3        87.76                  50                   31   \n",
       "\n",
       "   dias_atraso  \n",
       "0          -21  \n",
       "1           -9  \n",
       "2           11  \n",
       "3            5  \n",
       "4           19  \n",
       "\n",
       "[5 rows x 27 columns]"
      ]
     },
     "execution_count": 213,
     "metadata": {},
     "output_type": "execute_result"
    }
   ],
   "source": [
    "df_base.head()"
   ]
  },
  {
   "cell_type": "code",
   "execution_count": 214,
   "id": "d5e5be7c-9ba0-48b1-98ea-382e19af3d85",
   "metadata": {
    "scrolled": true
   },
   "outputs": [
    {
     "data": {
      "text/html": [
       "<div>\n",
       "<style scoped>\n",
       "    .dataframe tbody tr th:only-of-type {\n",
       "        vertical-align: middle;\n",
       "    }\n",
       "\n",
       "    .dataframe tbody tr th {\n",
       "        vertical-align: top;\n",
       "    }\n",
       "\n",
       "    .dataframe thead th {\n",
       "        text-align: right;\n",
       "    }\n",
       "</style>\n",
       "<table border=\"1\" class=\"dataframe\">\n",
       "  <thead>\n",
       "    <tr style=\"text-align: right;\">\n",
       "      <th></th>\n",
       "      <th>order_purchase_timestamp</th>\n",
       "      <th>order_delivered_carrier_date</th>\n",
       "      <th>order_approved_at</th>\n",
       "      <th>order_delivered_customer_date</th>\n",
       "      <th>order_estimated_delivery_date</th>\n",
       "      <th>price</th>\n",
       "      <th>freight_value</th>\n",
       "      <th>product_weight_g</th>\n",
       "      <th>product_length_cm</th>\n",
       "      <th>product_height_cm</th>\n",
       "      <th>product_width_cm</th>\n",
       "      <th>delivery_diff_days</th>\n",
       "      <th>estimated_diff_days</th>\n",
       "    </tr>\n",
       "  </thead>\n",
       "  <tbody>\n",
       "    <tr>\n",
       "      <th>order_purchase_timestamp</th>\n",
       "      <td>1.000000</td>\n",
       "      <td>0.999715</td>\n",
       "      <td>0.999980</td>\n",
       "      <td>0.998088</td>\n",
       "      <td>0.998379</td>\n",
       "      <td>-0.000891</td>\n",
       "      <td>0.047113</td>\n",
       "      <td>-0.033084</td>\n",
       "      <td>-0.065432</td>\n",
       "      <td>-0.023803</td>\n",
       "      <td>-0.067242</td>\n",
       "      <td>-0.103578</td>\n",
       "      <td>-0.218966</td>\n",
       "    </tr>\n",
       "    <tr>\n",
       "      <th>order_delivered_carrier_date</th>\n",
       "      <td>0.999715</td>\n",
       "      <td>1.000000</td>\n",
       "      <td>0.999725</td>\n",
       "      <td>0.998392</td>\n",
       "      <td>0.998362</td>\n",
       "      <td>0.000650</td>\n",
       "      <td>0.049411</td>\n",
       "      <td>-0.029615</td>\n",
       "      <td>-0.063437</td>\n",
       "      <td>-0.020631</td>\n",
       "      <td>-0.066035</td>\n",
       "      <td>-0.094548</td>\n",
       "      <td>-0.214869</td>\n",
       "    </tr>\n",
       "    <tr>\n",
       "      <th>order_approved_at</th>\n",
       "      <td>0.999980</td>\n",
       "      <td>0.999725</td>\n",
       "      <td>1.000000</td>\n",
       "      <td>0.998102</td>\n",
       "      <td>0.998373</td>\n",
       "      <td>-0.000831</td>\n",
       "      <td>0.047285</td>\n",
       "      <td>-0.033014</td>\n",
       "      <td>-0.065388</td>\n",
       "      <td>-0.023740</td>\n",
       "      <td>-0.067253</td>\n",
       "      <td>-0.103686</td>\n",
       "      <td>-0.219428</td>\n",
       "    </tr>\n",
       "    <tr>\n",
       "      <th>order_delivered_customer_date</th>\n",
       "      <td>0.998088</td>\n",
       "      <td>0.998392</td>\n",
       "      <td>0.998102</td>\n",
       "      <td>1.000000</td>\n",
       "      <td>0.997778</td>\n",
       "      <td>0.002952</td>\n",
       "      <td>0.060577</td>\n",
       "      <td>-0.027961</td>\n",
       "      <td>-0.061558</td>\n",
       "      <td>-0.019666</td>\n",
       "      <td>-0.065090</td>\n",
       "      <td>-0.042234</td>\n",
       "      <td>-0.196769</td>\n",
       "    </tr>\n",
       "    <tr>\n",
       "      <th>order_estimated_delivery_date</th>\n",
       "      <td>0.998379</td>\n",
       "      <td>0.998362</td>\n",
       "      <td>0.998373</td>\n",
       "      <td>0.997778</td>\n",
       "      <td>1.000000</td>\n",
       "      <td>0.003173</td>\n",
       "      <td>0.063701</td>\n",
       "      <td>-0.028799</td>\n",
       "      <td>-0.062533</td>\n",
       "      <td>-0.019688</td>\n",
       "      <td>-0.065439</td>\n",
       "      <td>-0.082524</td>\n",
       "      <td>-0.163441</td>\n",
       "    </tr>\n",
       "    <tr>\n",
       "      <th>price</th>\n",
       "      <td>-0.000891</td>\n",
       "      <td>0.000650</td>\n",
       "      <td>-0.000831</td>\n",
       "      <td>0.002952</td>\n",
       "      <td>0.003173</td>\n",
       "      <td>1.000000</td>\n",
       "      <td>0.414418</td>\n",
       "      <td>0.338620</td>\n",
       "      <td>0.142730</td>\n",
       "      <td>0.222823</td>\n",
       "      <td>0.173039</td>\n",
       "      <td>0.061141</td>\n",
       "      <td>0.068670</td>\n",
       "    </tr>\n",
       "    <tr>\n",
       "      <th>freight_value</th>\n",
       "      <td>0.047113</td>\n",
       "      <td>0.049411</td>\n",
       "      <td>0.047285</td>\n",
       "      <td>0.060577</td>\n",
       "      <td>0.063701</td>\n",
       "      <td>0.414418</td>\n",
       "      <td>1.000000</td>\n",
       "      <td>0.610833</td>\n",
       "      <td>0.305026</td>\n",
       "      <td>0.391391</td>\n",
       "      <td>0.323637</td>\n",
       "      <td>0.211218</td>\n",
       "      <td>0.271833</td>\n",
       "    </tr>\n",
       "    <tr>\n",
       "      <th>product_weight_g</th>\n",
       "      <td>-0.033084</td>\n",
       "      <td>-0.029615</td>\n",
       "      <td>-0.033014</td>\n",
       "      <td>-0.027961</td>\n",
       "      <td>-0.028799</td>\n",
       "      <td>0.338620</td>\n",
       "      <td>0.610833</td>\n",
       "      <td>1.000000</td>\n",
       "      <td>0.460215</td>\n",
       "      <td>0.583236</td>\n",
       "      <td>0.507690</td>\n",
       "      <td>0.084014</td>\n",
       "      <td>0.078446</td>\n",
       "    </tr>\n",
       "    <tr>\n",
       "      <th>product_length_cm</th>\n",
       "      <td>-0.065432</td>\n",
       "      <td>-0.063437</td>\n",
       "      <td>-0.065388</td>\n",
       "      <td>-0.061558</td>\n",
       "      <td>-0.062533</td>\n",
       "      <td>0.142730</td>\n",
       "      <td>0.305026</td>\n",
       "      <td>0.460215</td>\n",
       "      <td>1.000000</td>\n",
       "      <td>0.191624</td>\n",
       "      <td>0.536101</td>\n",
       "      <td>0.066628</td>\n",
       "      <td>0.061371</td>\n",
       "    </tr>\n",
       "    <tr>\n",
       "      <th>product_height_cm</th>\n",
       "      <td>-0.023803</td>\n",
       "      <td>-0.020631</td>\n",
       "      <td>-0.023740</td>\n",
       "      <td>-0.019666</td>\n",
       "      <td>-0.019688</td>\n",
       "      <td>0.222823</td>\n",
       "      <td>0.391391</td>\n",
       "      <td>0.583236</td>\n",
       "      <td>0.191624</td>\n",
       "      <td>1.000000</td>\n",
       "      <td>0.278671</td>\n",
       "      <td>0.067531</td>\n",
       "      <td>0.073873</td>\n",
       "    </tr>\n",
       "    <tr>\n",
       "      <th>product_width_cm</th>\n",
       "      <td>-0.067242</td>\n",
       "      <td>-0.066035</td>\n",
       "      <td>-0.067253</td>\n",
       "      <td>-0.065090</td>\n",
       "      <td>-0.065439</td>\n",
       "      <td>0.173039</td>\n",
       "      <td>0.323637</td>\n",
       "      <td>0.507690</td>\n",
       "      <td>0.536101</td>\n",
       "      <td>0.278671</td>\n",
       "      <td>1.000000</td>\n",
       "      <td>0.039840</td>\n",
       "      <td>0.043921</td>\n",
       "    </tr>\n",
       "    <tr>\n",
       "      <th>delivery_diff_days</th>\n",
       "      <td>-0.103578</td>\n",
       "      <td>-0.094548</td>\n",
       "      <td>-0.103686</td>\n",
       "      <td>-0.042234</td>\n",
       "      <td>-0.082524</td>\n",
       "      <td>0.061141</td>\n",
       "      <td>0.211218</td>\n",
       "      <td>0.084014</td>\n",
       "      <td>0.066628</td>\n",
       "      <td>0.067531</td>\n",
       "      <td>0.039840</td>\n",
       "      <td>1.000000</td>\n",
       "      <td>0.381960</td>\n",
       "    </tr>\n",
       "    <tr>\n",
       "      <th>estimated_diff_days</th>\n",
       "      <td>-0.218966</td>\n",
       "      <td>-0.214869</td>\n",
       "      <td>-0.219428</td>\n",
       "      <td>-0.196769</td>\n",
       "      <td>-0.163441</td>\n",
       "      <td>0.068670</td>\n",
       "      <td>0.271833</td>\n",
       "      <td>0.078446</td>\n",
       "      <td>0.061371</td>\n",
       "      <td>0.073873</td>\n",
       "      <td>0.043921</td>\n",
       "      <td>0.381960</td>\n",
       "      <td>1.000000</td>\n",
       "    </tr>\n",
       "  </tbody>\n",
       "</table>\n",
       "</div>"
      ],
      "text/plain": [
       "                               order_purchase_timestamp  \\\n",
       "order_purchase_timestamp                       1.000000   \n",
       "order_delivered_carrier_date                   0.999715   \n",
       "order_approved_at                              0.999980   \n",
       "order_delivered_customer_date                  0.998088   \n",
       "order_estimated_delivery_date                  0.998379   \n",
       "price                                         -0.000891   \n",
       "freight_value                                  0.047113   \n",
       "product_weight_g                              -0.033084   \n",
       "product_length_cm                             -0.065432   \n",
       "product_height_cm                             -0.023803   \n",
       "product_width_cm                              -0.067242   \n",
       "delivery_diff_days                            -0.103578   \n",
       "estimated_diff_days                           -0.218966   \n",
       "\n",
       "                               order_delivered_carrier_date  \\\n",
       "order_purchase_timestamp                           0.999715   \n",
       "order_delivered_carrier_date                       1.000000   \n",
       "order_approved_at                                  0.999725   \n",
       "order_delivered_customer_date                      0.998392   \n",
       "order_estimated_delivery_date                      0.998362   \n",
       "price                                              0.000650   \n",
       "freight_value                                      0.049411   \n",
       "product_weight_g                                  -0.029615   \n",
       "product_length_cm                                 -0.063437   \n",
       "product_height_cm                                 -0.020631   \n",
       "product_width_cm                                  -0.066035   \n",
       "delivery_diff_days                                -0.094548   \n",
       "estimated_diff_days                               -0.214869   \n",
       "\n",
       "                               order_approved_at  \\\n",
       "order_purchase_timestamp                0.999980   \n",
       "order_delivered_carrier_date            0.999725   \n",
       "order_approved_at                       1.000000   \n",
       "order_delivered_customer_date           0.998102   \n",
       "order_estimated_delivery_date           0.998373   \n",
       "price                                  -0.000831   \n",
       "freight_value                           0.047285   \n",
       "product_weight_g                       -0.033014   \n",
       "product_length_cm                      -0.065388   \n",
       "product_height_cm                      -0.023740   \n",
       "product_width_cm                       -0.067253   \n",
       "delivery_diff_days                     -0.103686   \n",
       "estimated_diff_days                    -0.219428   \n",
       "\n",
       "                               order_delivered_customer_date  \\\n",
       "order_purchase_timestamp                            0.998088   \n",
       "order_delivered_carrier_date                        0.998392   \n",
       "order_approved_at                                   0.998102   \n",
       "order_delivered_customer_date                       1.000000   \n",
       "order_estimated_delivery_date                       0.997778   \n",
       "price                                               0.002952   \n",
       "freight_value                                       0.060577   \n",
       "product_weight_g                                   -0.027961   \n",
       "product_length_cm                                  -0.061558   \n",
       "product_height_cm                                  -0.019666   \n",
       "product_width_cm                                   -0.065090   \n",
       "delivery_diff_days                                 -0.042234   \n",
       "estimated_diff_days                                -0.196769   \n",
       "\n",
       "                               order_estimated_delivery_date     price  \\\n",
       "order_purchase_timestamp                            0.998379 -0.000891   \n",
       "order_delivered_carrier_date                        0.998362  0.000650   \n",
       "order_approved_at                                   0.998373 -0.000831   \n",
       "order_delivered_customer_date                       0.997778  0.002952   \n",
       "order_estimated_delivery_date                       1.000000  0.003173   \n",
       "price                                               0.003173  1.000000   \n",
       "freight_value                                       0.063701  0.414418   \n",
       "product_weight_g                                   -0.028799  0.338620   \n",
       "product_length_cm                                  -0.062533  0.142730   \n",
       "product_height_cm                                  -0.019688  0.222823   \n",
       "product_width_cm                                   -0.065439  0.173039   \n",
       "delivery_diff_days                                 -0.082524  0.061141   \n",
       "estimated_diff_days                                -0.163441  0.068670   \n",
       "\n",
       "                               freight_value  product_weight_g  \\\n",
       "order_purchase_timestamp            0.047113         -0.033084   \n",
       "order_delivered_carrier_date        0.049411         -0.029615   \n",
       "order_approved_at                   0.047285         -0.033014   \n",
       "order_delivered_customer_date       0.060577         -0.027961   \n",
       "order_estimated_delivery_date       0.063701         -0.028799   \n",
       "price                               0.414418          0.338620   \n",
       "freight_value                       1.000000          0.610833   \n",
       "product_weight_g                    0.610833          1.000000   \n",
       "product_length_cm                   0.305026          0.460215   \n",
       "product_height_cm                   0.391391          0.583236   \n",
       "product_width_cm                    0.323637          0.507690   \n",
       "delivery_diff_days                  0.211218          0.084014   \n",
       "estimated_diff_days                 0.271833          0.078446   \n",
       "\n",
       "                               product_length_cm  product_height_cm  \\\n",
       "order_purchase_timestamp               -0.065432          -0.023803   \n",
       "order_delivered_carrier_date           -0.063437          -0.020631   \n",
       "order_approved_at                      -0.065388          -0.023740   \n",
       "order_delivered_customer_date          -0.061558          -0.019666   \n",
       "order_estimated_delivery_date          -0.062533          -0.019688   \n",
       "price                                   0.142730           0.222823   \n",
       "freight_value                           0.305026           0.391391   \n",
       "product_weight_g                        0.460215           0.583236   \n",
       "product_length_cm                       1.000000           0.191624   \n",
       "product_height_cm                       0.191624           1.000000   \n",
       "product_width_cm                        0.536101           0.278671   \n",
       "delivery_diff_days                      0.066628           0.067531   \n",
       "estimated_diff_days                     0.061371           0.073873   \n",
       "\n",
       "                               product_width_cm  delivery_diff_days  \\\n",
       "order_purchase_timestamp              -0.067242           -0.103578   \n",
       "order_delivered_carrier_date          -0.066035           -0.094548   \n",
       "order_approved_at                     -0.067253           -0.103686   \n",
       "order_delivered_customer_date         -0.065090           -0.042234   \n",
       "order_estimated_delivery_date         -0.065439           -0.082524   \n",
       "price                                  0.173039            0.061141   \n",
       "freight_value                          0.323637            0.211218   \n",
       "product_weight_g                       0.507690            0.084014   \n",
       "product_length_cm                      0.536101            0.066628   \n",
       "product_height_cm                      0.278671            0.067531   \n",
       "product_width_cm                       1.000000            0.039840   \n",
       "delivery_diff_days                     0.039840            1.000000   \n",
       "estimated_diff_days                    0.043921            0.381960   \n",
       "\n",
       "                               estimated_diff_days  \n",
       "order_purchase_timestamp                 -0.218966  \n",
       "order_delivered_carrier_date             -0.214869  \n",
       "order_approved_at                        -0.219428  \n",
       "order_delivered_customer_date            -0.196769  \n",
       "order_estimated_delivery_date            -0.163441  \n",
       "price                                     0.068670  \n",
       "freight_value                             0.271833  \n",
       "product_weight_g                          0.078446  \n",
       "product_length_cm                         0.061371  \n",
       "product_height_cm                         0.073873  \n",
       "product_width_cm                          0.043921  \n",
       "delivery_diff_days                        0.381960  \n",
       "estimated_diff_days                       1.000000  "
      ]
     },
     "execution_count": 214,
     "metadata": {},
     "output_type": "execute_result"
    }
   ],
   "source": [
    "df_base[['order_purchase_timestamp','order_delivered_carrier_date','order_approved_at','order_delivered_customer_date','order_estimated_delivery_date','price','freight_value',\\\n",
    "         'product_weight_g','product_length_cm','product_height_cm','product_width_cm','delivery_diff_days','estimated_diff_days']].corr()"
   ]
  },
  {
   "cell_type": "code",
   "execution_count": null,
   "id": "cb198e88-688c-4070-a5b6-06cfb988b61d",
   "metadata": {},
   "outputs": [],
   "source": []
  },
  {
   "cell_type": "markdown",
   "id": "58a417f5-fded-498a-bc75-1d7b32089f49",
   "metadata": {
    "jp-MarkdownHeadingCollapsed": true
   },
   "source": [
    "#### 1. Visões Comerciais (Negócio):\n",
    "\n",
    "* Vendas e faturamento\n",
    "* Total vendido por período (sazonalidade)."
   ]
  },
  {
   "cell_type": "code",
   "execution_count": 215,
   "id": "2fed376e-1823-4c3b-a4e5-ce8558ababa7",
   "metadata": {},
   "outputs": [],
   "source": [
    "# Selecionando orders que foram entrega concretizada para os clientes.\n",
    "Faturamento_Venda = df_base.loc[\n",
    "    (df_base['order_status'] == 'delivered') & \n",
    "    (pd.to_datetime(df_base['order_delivered_customer_date'], errors='coerce').dt.year.isin([2016, 2017, 2018]))\n",
    "]"
   ]
  },
  {
   "cell_type": "code",
   "execution_count": 216,
   "id": "b2cef228-70b4-4a2c-b616-4207f7246758",
   "metadata": {},
   "outputs": [],
   "source": [
    "# Fazendo um count para saber o comportamento dos clientes ao decorrer das safras\n",
    "qtdeClientes = Faturamento_Venda.groupby(\n",
    "    [Faturamento_Venda['order_delivered_customer_date'].dt.year.rename('ano'),\n",
    "    Faturamento_Venda['order_delivered_customer_date'].dt.month.rename('mes')]\n",
    "    )['customer_unique_id'].nunique().reset_index(name = 'QtdeVenda')"
   ]
  },
  {
   "cell_type": "code",
   "execution_count": 217,
   "id": "769c0bd4-2a7e-41a3-9002-28cbbd805254",
   "metadata": {},
   "outputs": [
    {
     "data": {
      "image/png": "[encoded data removed]",
      "text/plain": [
       "<Figure size 1000x300 with 1 Axes>"
      ]
     },
     "metadata": {},
     "output_type": "display_data"
    }
   ],
   "source": [
    "# Plotando a visão de quantidade clientes\n",
    "plt.figure(figsize = (10,3))\n",
    "ax = sns.barplot(x = qtdeClientes['ano'].astype(str) + '-' + qtdeClientes['mes'].astype(str).str.zfill(2),\n",
    "                 y = qtdeClientes['QtdeVenda'],\n",
    "                 color = 'darkcyan')\n",
    "ax.bar_label(ax.containers[0], fontsize = 8, color = 'black')\n",
    "plt.xticks(rotation = 90)\n",
    "plt.show()"
   ]
  },
  {
   "cell_type": "code",
   "execution_count": 218,
   "id": "f9413864-a00b-4766-ba1e-e34224adedac",
   "metadata": {},
   "outputs": [],
   "source": [
    "# Plotando o comportamento do faturamento\n",
    "Faturamento = Faturamento_Venda.groupby(\n",
    "    [Faturamento_Venda['order_delivered_customer_date'].dt.year.rename('ano'),\n",
    "     Faturamento_Venda['order_delivered_customer_date'].dt.month.rename('mes')]\n",
    ")['total_items'].sum().reset_index(name='total_venda')"
   ]
  },
  {
   "cell_type": "code",
   "execution_count": 219,
   "id": "8ba34071-b47a-446c-b04c-1731d3c6d597",
   "metadata": {},
   "outputs": [
    {
     "data": {
      "image/png": "[encoded data removed]",
      "text/plain": [
       "<Figure size 1000x200 with 1 Axes>"
      ]
     },
     "metadata": {},
     "output_type": "display_data"
    }
   ],
   "source": [
    "# Plotando visão de Faturamento\n",
    "plt.figure(figsize = (10,2))\n",
    "ax = sns.barplot(\n",
    "            x = Faturamento['ano'].astype(str) + '-' + Faturamento['mes'].astype(str).str.zfill(2),\n",
    "            y = Faturamento['total_venda'],\n",
    "            color = 'darkcyan'\n",
    ")\n",
    "ax.bar_label(ax.containers[0], fontsize = 8, color = 'black', fmt = '%.0f',rotation = 90)\n",
    "plt.xticks(rotation = 90)\n",
    "plt.show()"
   ]
  },
  {
   "cell_type": "markdown",
   "id": "17ab9c0d-c490-4736-a7b1-483e5836f1ae",
   "metadata": {
    "jp-MarkdownHeadingCollapsed": true
   },
   "source": [
    "#### 1. Visões Comerciais (Negócio):\n",
    "##### Vendas:\n",
    "* Produtos e categorias mais vendidos."
   ]
  },
  {
   "cell_type": "code",
   "execution_count": 220,
   "id": "0f47dc6d-e8df-4c9f-9ab4-7c48739ffbe2",
   "metadata": {},
   "outputs": [],
   "source": [
    "# Quantidade de clientes que fizeram a compra dos cinco produtos mais vendidos\n",
    "product_category_Qtde = Faturamento_Venda.groupby(\n",
    "    Faturamento_Venda['product_category_name']\n",
    ")['customer_unique_id'].nunique().sort_values(ascending = False).head().reset_index(name = 'QtdeVenda')"
   ]
  },
  {
   "cell_type": "code",
   "execution_count": 221,
   "id": "7bee90c3-cbb0-421c-abf3-689f88ff09ae",
   "metadata": {},
   "outputs": [
    {
     "data": {
      "image/png": "[encoded data removed]",
      "text/plain": [
       "<Figure size 1000x300 with 1 Axes>"
      ]
     },
     "metadata": {},
     "output_type": "display_data"
    }
   ],
   "source": [
    "# Produtos mais comprados\n",
    "plt.figure(figsize=(10,3))\n",
    "ax = sns.barplot(\n",
    "    x = product_category_Qtde['product_category_name'],\n",
    "    y = product_category_Qtde['QtdeVenda']\n",
    ")\n",
    "ax.bar_label(ax.containers[0], fontsize = 8, color = 'black', fmt = '%.0f')\n",
    "plt.show()"
   ]
  },
  {
   "cell_type": "code",
   "execution_count": 222,
   "id": "3e458174-7e1e-433c-ab72-0fd44eabf396",
   "metadata": {},
   "outputs": [],
   "source": [
    "product_category_Valor = Faturamento_Venda.groupby(\n",
    "    Faturamento_Venda['product_category_name']\n",
    ")['total_items'].sum().sort_values(ascending = False).head().reset_index(name = 'total_venda')"
   ]
  },
  {
   "cell_type": "code",
   "execution_count": 223,
   "id": "3f35a6bb-4441-4c7b-805c-3239f4a8c888",
   "metadata": {},
   "outputs": [
    {
     "data": {
      "image/png": "[encoded data removed]",
      "text/plain": [
       "<Figure size 1000x300 with 1 Axes>"
      ]
     },
     "metadata": {},
     "output_type": "display_data"
    }
   ],
   "source": [
    "plt.figure(figsize=(10,3))\n",
    "ax = sns.barplot(\n",
    "    x = product_category_Valor['product_category_name'],\n",
    "    y = product_category_Valor['total_venda']\n",
    ") \n",
    "ax.bar_label(ax.containers[0], fontsize = 8, color = 'black', fmt = '%.0f')\n",
    "plt.show()"
   ]
  },
  {
   "cell_type": "markdown",
   "id": "b843437b-53ac-4f2e-917a-6fbf27c67d93",
   "metadata": {},
   "source": [
    "##### Clientes\n",
    "* Segmentação de clientes por frequência de compra, ticket médio e localização.\n",
    "* Análise de retenção: quantos clientes voltam a comprar?\n",
    "* Cohort analysis (como grupos de clientes evoluem ao longo do tempo)."
   ]
  },
  {
   "cell_type": "code",
   "execution_count": 224,
   "id": "2fbb804c-73db-4e7d-b011-2e13d573dc3d",
   "metadata": {},
   "outputs": [],
   "source": [
    "# Segmentação de clientes\n",
    "SegmentacaoCliente = Faturamento_Venda.groupby('customer_unique_id').agg(\n",
    "    {\n",
    "        \"order_id\": \"nunique\",\n",
    "        \"total_items\": \"sum\",\n",
    "        \"order_purchase_timestamp\": \"min\",\n",
    "        \"customer_city\":\"last\",\n",
    "        \"customer_state\":\"last\"\n",
    "    }\n",
    ").reset_index()"
   ]
  },
  {
   "cell_type": "code",
   "execution_count": 225,
   "id": "0eeea0af-150e-48b5-a1cb-530a6d4e7ad1",
   "metadata": {},
   "outputs": [],
   "source": [
    "SegmentacaoCliente['ticket_medio'] = round(SegmentacaoCliente['total_items']/SegmentacaoCliente['order_id'],2)"
   ]
  },
  {
   "cell_type": "code",
   "execution_count": 226,
   "id": "39d037b3-cf56-4d55-ac37-135031df573b",
   "metadata": {},
   "outputs": [
    {
     "data": {
      "text/html": [
       "<div>\n",
       "<style scoped>\n",
       "    .dataframe tbody tr th:only-of-type {\n",
       "        vertical-align: middle;\n",
       "    }\n",
       "\n",
       "    .dataframe tbody tr th {\n",
       "        vertical-align: top;\n",
       "    }\n",
       "\n",
       "    .dataframe thead th {\n",
       "        text-align: right;\n",
       "    }\n",
       "</style>\n",
       "<table border=\"1\" class=\"dataframe\">\n",
       "  <thead>\n",
       "    <tr style=\"text-align: right;\">\n",
       "      <th></th>\n",
       "      <th>customer_unique_id</th>\n",
       "      <th>order_id</th>\n",
       "      <th>total_items</th>\n",
       "      <th>order_purchase_timestamp</th>\n",
       "      <th>customer_city</th>\n",
       "      <th>customer_state</th>\n",
       "      <th>ticket_medio</th>\n",
       "    </tr>\n",
       "  </thead>\n",
       "  <tbody>\n",
       "    <tr>\n",
       "      <th>0</th>\n",
       "      <td>0000366f3b9a7992bf8c76cfdf3221e2</td>\n",
       "      <td>1</td>\n",
       "      <td>141.90</td>\n",
       "      <td>2018-05-10</td>\n",
       "      <td>cajamar</td>\n",
       "      <td>SP</td>\n",
       "      <td>141.90</td>\n",
       "    </tr>\n",
       "    <tr>\n",
       "      <th>1</th>\n",
       "      <td>0000b849f77a49e4a4ce2b2a4ca5be3f</td>\n",
       "      <td>1</td>\n",
       "      <td>27.19</td>\n",
       "      <td>2018-05-07</td>\n",
       "      <td>osasco</td>\n",
       "      <td>SP</td>\n",
       "      <td>27.19</td>\n",
       "    </tr>\n",
       "    <tr>\n",
       "      <th>2</th>\n",
       "      <td>0000f46a3911fa3c0805444483337064</td>\n",
       "      <td>1</td>\n",
       "      <td>86.22</td>\n",
       "      <td>2017-03-10</td>\n",
       "      <td>sao jose</td>\n",
       "      <td>SC</td>\n",
       "      <td>86.22</td>\n",
       "    </tr>\n",
       "    <tr>\n",
       "      <th>3</th>\n",
       "      <td>0000f6ccb0745a6a4b88665a16c9f078</td>\n",
       "      <td>1</td>\n",
       "      <td>43.62</td>\n",
       "      <td>2017-10-12</td>\n",
       "      <td>belem</td>\n",
       "      <td>PA</td>\n",
       "      <td>43.62</td>\n",
       "    </tr>\n",
       "    <tr>\n",
       "      <th>4</th>\n",
       "      <td>0004aac84e0df4da2b147fca70cf8255</td>\n",
       "      <td>1</td>\n",
       "      <td>196.89</td>\n",
       "      <td>2017-11-14</td>\n",
       "      <td>sorocaba</td>\n",
       "      <td>SP</td>\n",
       "      <td>196.89</td>\n",
       "    </tr>\n",
       "  </tbody>\n",
       "</table>\n",
       "</div>"
      ],
      "text/plain": [
       "                 customer_unique_id  order_id  total_items  \\\n",
       "0  0000366f3b9a7992bf8c76cfdf3221e2         1       141.90   \n",
       "1  0000b849f77a49e4a4ce2b2a4ca5be3f         1        27.19   \n",
       "2  0000f46a3911fa3c0805444483337064         1        86.22   \n",
       "3  0000f6ccb0745a6a4b88665a16c9f078         1        43.62   \n",
       "4  0004aac84e0df4da2b147fca70cf8255         1       196.89   \n",
       "\n",
       "  order_purchase_timestamp customer_city customer_state  ticket_medio  \n",
       "0               2018-05-10       cajamar             SP        141.90  \n",
       "1               2018-05-07        osasco             SP         27.19  \n",
       "2               2017-03-10      sao jose             SC         86.22  \n",
       "3               2017-10-12         belem             PA         43.62  \n",
       "4               2017-11-14      sorocaba             SP        196.89  "
      ]
     },
     "execution_count": 226,
     "metadata": {},
     "output_type": "execute_result"
    }
   ],
   "source": [
    "SegmentacaoCliente.head()"
   ]
  },
  {
   "cell_type": "code",
   "execution_count": 227,
   "id": "f1bd0fd8-0508-4240-bc5b-3afe927e650b",
   "metadata": {},
   "outputs": [],
   "source": [
    "def segmenta_cliente(row):\n",
    "    if row['order_id'] == 1:\n",
    "        return 'Cliente Unico'\n",
    "    elif row['order_id'] <= 3:\n",
    "        return \"Cliente Recorrente\"\n",
    "    else:\n",
    "        return \"Cliente Fiel\""
   ]
  },
  {
   "cell_type": "code",
   "execution_count": 228,
   "id": "96ae9bce-0b65-4ecd-92fa-c9e9ef9252f8",
   "metadata": {},
   "outputs": [],
   "source": [
    "SegmentacaoCliente['segmento'] = SegmentacaoCliente.apply(segmenta_cliente, axis=1)"
   ]
  },
  {
   "cell_type": "markdown",
   "id": "2755db65-d563-41dc-9e7a-8190621cd46c",
   "metadata": {},
   "source": [
    "* Análise de retenção: quantos clientes voltam a comprar?"
   ]
  },
  {
   "cell_type": "code",
   "execution_count": 229,
   "id": "c72d7eb7-c3a3-4aef-88e6-685b764164d6",
   "metadata": {},
   "outputs": [
    {
     "data": {
      "text/plain": [
       "segmento\n",
       "Cliente Unico         90525\n",
       "Cliente Recorrente     2750\n",
       "Cliente Fiel             47\n",
       "Name: count, dtype: int64"
      ]
     },
     "execution_count": 229,
     "metadata": {},
     "output_type": "execute_result"
    }
   ],
   "source": [
    "SegmentacaoCliente['segmento'].value_counts()"
   ]
  },
  {
   "cell_type": "code",
   "execution_count": 230,
   "id": "cacbfdfe-0f50-4e1c-875a-3caea0718f69",
   "metadata": {},
   "outputs": [],
   "source": [
    "SegmentacaoCliente['cohort_month'] = SegmentacaoCliente['order_purchase_timestamp'].dt.to_period('M')"
   ]
  },
  {
   "cell_type": "markdown",
   "id": "2379beb3-8098-40a7-8622-fd95a2962294",
   "metadata": {},
   "source": [
    "* Cohort analysis (como grupos de clientes evoluem ao longo do tempo)."
   ]
  },
  {
   "cell_type": "code",
   "execution_count": 231,
   "id": "fef82ae2-9f10-4302-9321-2b19451852f4",
   "metadata": {},
   "outputs": [],
   "source": [
    "SegmentacaoCliente['months_active'] = Faturamento_Venda.groupby('customer_unique_id')['order_purchase_timestamp']\\\n",
    "    .agg(lambda x: (x.max().to_period('M') - x.min().to_period('M')).n+1)\\\n",
    "    .reset_index(drop = True)"
   ]
  },
  {
   "cell_type": "markdown",
   "id": "c0120a9a-4370-487a-9035-55d236034e45",
   "metadata": {},
   "source": [
    "##### Pagamentos\n",
    "* Preferência por método de pagamento (boleto, cartão, parcelado).\n",
    "* Análise de inadimplência/estorno."
   ]
  },
  {
   "cell_type": "code",
   "execution_count": 232,
   "id": "128cbb5c-270f-4b20-8555-90138033101a",
   "metadata": {},
   "outputs": [
    {
     "data": {
      "text/plain": [
       "payment_type\n",
       "credit_card    85350\n",
       "boleto         22486\n",
       "voucher         6179\n",
       "debit_card      1661\n",
       "Name: count, dtype: int64"
      ]
     },
     "execution_count": 232,
     "metadata": {},
     "output_type": "execute_result"
    }
   ],
   "source": [
    "# Preferencia em modo de pagamento\n",
    "Faturamento_Venda['payment_type'].value_counts()"
   ]
  },
  {
   "cell_type": "code",
   "execution_count": 233,
   "id": "8488844d-f98f-4196-8748-b20db62a3a0d",
   "metadata": {},
   "outputs": [
    {
     "data": {
      "text/html": [
       "<div>\n",
       "<style scoped>\n",
       "    .dataframe tbody tr th:only-of-type {\n",
       "        vertical-align: middle;\n",
       "    }\n",
       "\n",
       "    .dataframe tbody tr th {\n",
       "        vertical-align: top;\n",
       "    }\n",
       "\n",
       "    .dataframe thead th {\n",
       "        text-align: right;\n",
       "    }\n",
       "</style>\n",
       "<table border=\"1\" class=\"dataframe\">\n",
       "  <thead>\n",
       "    <tr style=\"text-align: right;\">\n",
       "      <th></th>\n",
       "      <th>payment_installments</th>\n",
       "      <th>qtde_clientes</th>\n",
       "    </tr>\n",
       "  </thead>\n",
       "  <tbody>\n",
       "    <tr>\n",
       "      <th>1</th>\n",
       "      <td>1</td>\n",
       "      <td>27325</td>\n",
       "    </tr>\n",
       "    <tr>\n",
       "      <th>11</th>\n",
       "      <td>2</td>\n",
       "      <td>13478</td>\n",
       "    </tr>\n",
       "    <tr>\n",
       "      <th>17</th>\n",
       "      <td>3</td>\n",
       "      <td>11567</td>\n",
       "    </tr>\n",
       "    <tr>\n",
       "      <th>18</th>\n",
       "      <td>4</td>\n",
       "      <td>7848</td>\n",
       "    </tr>\n",
       "    <tr>\n",
       "      <th>2</th>\n",
       "      <td>10</td>\n",
       "      <td>6760</td>\n",
       "    </tr>\n",
       "  </tbody>\n",
       "</table>\n",
       "</div>"
      ],
      "text/plain": [
       "   payment_installments  qtde_clientes\n",
       "1                     1          27325\n",
       "11                    2          13478\n",
       "17                    3          11567\n",
       "18                    4           7848\n",
       "2                    10           6760"
      ]
     },
     "execution_count": 233,
     "metadata": {},
     "output_type": "execute_result"
    }
   ],
   "source": [
    "# Preferencia de quantas vezes o cliente deseja fazer o pagamento\n",
    "Faturamento_Venda[Faturamento_Venda['payment_type'] == 'credit_card'].groupby('payment_installments')['customer_unique_id'].\\\n",
    "count().reset_index(name='qtde_clientes').sort_values('qtde_clientes', ascending=False).head(5)"
   ]
  },
  {
   "cell_type": "markdown",
   "id": "13000e34-7d42-4e9d-8270-89092d853df7",
   "metadata": {
    "jp-MarkdownHeadingCollapsed": true
   },
   "source": [
    "#### 2. Visões Operacionais (Logística e Atendimento)\n",
    "\n",
    "##### Logística\n",
    "    * Tempo médio de entrega real vs estimado.\n",
    "    * Regiões com maior atraso.\n",
    "    * Custos implícitos em entregas longas.\n",
    "##### Atendimento\n",
    "    * Análise de reviews (avaliação média por categoria, estado, vendedor).\n",
    "    * Identificação de fatores que geram reviews ruins (atraso, produto defeituoso, frete alto)."
   ]
  },
  {
   "cell_type": "code",
   "execution_count": 234,
   "id": "e581635c-79cb-4fb2-8984-0c9632996d54",
   "metadata": {},
   "outputs": [],
   "source": [
    "def definir_regiao (estado):\n",
    "    if estado in ['AC','AM','AP','PA','RO','RR','TO']:\n",
    "        return 'NORTE'\n",
    "    elif estado in ['MA','BA','CE','MA','PB','PI','PE','RN','SE']:\n",
    "        return 'NORDESTE'\n",
    "    elif estado in ['MT','DF','MS','GO']:\n",
    "        return 'CENTRO-OESTE'\n",
    "    elif estado in ['MG','ES','RJ','SP']:\n",
    "        return 'SUDESTE'\n",
    "    elif estado in ['PR','SC','RS']:\n",
    "        return 'SUL'"
   ]
  },
  {
   "cell_type": "code",
   "execution_count": 235,
   "id": "200cd086-3f03-4ef8-81ac-0a8215a17edc",
   "metadata": {},
   "outputs": [
    {
     "name": "stderr",
     "output_type": "stream",
     "text": [
      "C:\\Users\\sidne\\AppData\\Local\\Temp\\ipykernel_17540\\704798324.py:1: SettingWithCopyWarning: \n",
      "A value is trying to be set on a copy of a slice from a DataFrame.\n",
      "Try using .loc[row_indexer,col_indexer] = value instead\n",
      "\n",
      "See the caveats in the documentation: https://pandas.pydata.org/pandas-docs/stable/user_guide/indexing.html#returning-a-view-versus-a-copy\n",
      "  Faturamento_Venda['Regiao'] = Faturamento_Venda['customer_state'].apply(definir_regiao)\n"
     ]
    }
   ],
   "source": [
    "Faturamento_Venda['Regiao'] = Faturamento_Venda['customer_state'].apply(definir_regiao)"
   ]
  },
  {
   "cell_type": "code",
   "execution_count": 236,
   "id": "fe61fa05-a7da-4729-9e97-711e7c306d66",
   "metadata": {},
   "outputs": [
    {
     "name": "stderr",
     "output_type": "stream",
     "text": [
      "C:\\Users\\sidne\\AppData\\Local\\Temp\\ipykernel_17540\\181219686.py:1: SettingWithCopyWarning: \n",
      "A value is trying to be set on a copy of a slice from a DataFrame.\n",
      "Try using .loc[row_indexer,col_indexer] = value instead\n",
      "\n",
      "See the caveats in the documentation: https://pandas.pydata.org/pandas-docs/stable/user_guide/indexing.html#returning-a-view-versus-a-copy\n",
      "  Faturamento_Venda['dias_atraso'] = np.select(\n"
     ]
    }
   ],
   "source": [
    "Faturamento_Venda['dias_atraso'] = np.select(\n",
    "    [\n",
    "        Faturamento_Venda['dias_atraso'] < -3,\n",
    "        (Faturamento_Venda['dias_atraso'] >= -3) & (Faturamento_Venda['dias_atraso'] < 0),\n",
    "        Faturamento_Venda['dias_atraso'] == 0,\n",
    "        (Faturamento_Venda['dias_atraso'] > 0) & (Faturamento_Venda['dias_atraso'] <= 3),\n",
    "         Faturamento_Venda['dias_atraso'] > 3\n",
    "    ],\n",
    "    [\n",
    "        'Adiantada Forte',\n",
    "        'Adiantada Leve',\n",
    "        'No Prazo',\n",
    "        'Atraso Leve',\n",
    "        'Atraso Forte'\n",
    "    ]\n",
    ")"
   ]
  },
  {
   "cell_type": "code",
   "execution_count": 237,
   "id": "f836d8d3-e0a3-4813-b62d-4104c03a7ca3",
   "metadata": {},
   "outputs": [
    {
     "data": {
      "text/html": [
       "<div>\n",
       "<style scoped>\n",
       "    .dataframe tbody tr th:only-of-type {\n",
       "        vertical-align: middle;\n",
       "    }\n",
       "\n",
       "    .dataframe tbody tr th {\n",
       "        vertical-align: top;\n",
       "    }\n",
       "\n",
       "    .dataframe thead th {\n",
       "        text-align: right;\n",
       "    }\n",
       "</style>\n",
       "<table border=\"1\" class=\"dataframe\">\n",
       "  <thead>\n",
       "    <tr style=\"text-align: right;\">\n",
       "      <th></th>\n",
       "      <th>total_items</th>\n",
       "      <th>freight_value</th>\n",
       "      <th>delivery_diff_days</th>\n",
       "      <th>estimated_diff_days</th>\n",
       "    </tr>\n",
       "    <tr>\n",
       "      <th>Regiao</th>\n",
       "      <th></th>\n",
       "      <th></th>\n",
       "      <th></th>\n",
       "      <th></th>\n",
       "    </tr>\n",
       "  </thead>\n",
       "  <tbody>\n",
       "    <tr>\n",
       "      <th>NORTE</th>\n",
       "      <td>420247.41</td>\n",
       "      <td>37.060271</td>\n",
       "      <td>21.851306</td>\n",
       "      <td>37.625178</td>\n",
       "    </tr>\n",
       "    <tr>\n",
       "      <th>NORDESTE</th>\n",
       "      <td>1827381.90</td>\n",
       "      <td>31.969293</td>\n",
       "      <td>19.043648</td>\n",
       "      <td>30.713993</td>\n",
       "    </tr>\n",
       "    <tr>\n",
       "      <th>CENTRO-OESTE</th>\n",
       "      <td>1041562.93</td>\n",
       "      <td>22.970105</td>\n",
       "      <td>14.298966</td>\n",
       "      <td>26.762925</td>\n",
       "    </tr>\n",
       "    <tr>\n",
       "      <th>SUL</th>\n",
       "      <td>2334888.95</td>\n",
       "      <td>21.217270</td>\n",
       "      <td>13.361286</td>\n",
       "      <td>26.631102</td>\n",
       "    </tr>\n",
       "    <tr>\n",
       "      <th>SUDESTE</th>\n",
       "      <td>10460443.01</td>\n",
       "      <td>17.389880</td>\n",
       "      <td>10.152458</td>\n",
       "      <td>21.878637</td>\n",
       "    </tr>\n",
       "  </tbody>\n",
       "</table>\n",
       "</div>"
      ],
      "text/plain": [
       "              total_items  freight_value  delivery_diff_days  \\\n",
       "Regiao                                                         \n",
       "NORTE           420247.41      37.060271           21.851306   \n",
       "NORDESTE       1827381.90      31.969293           19.043648   \n",
       "CENTRO-OESTE   1041562.93      22.970105           14.298966   \n",
       "SUL            2334888.95      21.217270           13.361286   \n",
       "SUDESTE       10460443.01      17.389880           10.152458   \n",
       "\n",
       "              estimated_diff_days  \n",
       "Regiao                             \n",
       "NORTE                   37.625178  \n",
       "NORDESTE                30.713993  \n",
       "CENTRO-OESTE            26.762925  \n",
       "SUL                     26.631102  \n",
       "SUDESTE                 21.878637  "
      ]
     },
     "execution_count": 237,
     "metadata": {},
     "output_type": "execute_result"
    }
   ],
   "source": [
    "Faturamento_Venda.groupby('Regiao').agg(\n",
    "    {\n",
    "    \"total_items\":\"sum\",\n",
    "    \"freight_value\":\"mean\",\n",
    "    \"delivery_diff_days\":\"mean\",\n",
    "    \"estimated_diff_days\":\"mean\"\n",
    "    }\n",
    ").sort_values(by = 'freight_value', ascending = False)"
   ]
  },
  {
   "cell_type": "code",
   "execution_count": 238,
   "id": "019cd5d4-502d-4cc3-87be-388a8532823d",
   "metadata": {},
   "outputs": [
    {
     "data": {
      "text/plain": [
       "dias_atraso\n",
       "Adiantada Forte    101085\n",
       "Adiantada Leve       5528\n",
       "Atraso Forte         5386\n",
       "Atraso Leve          2168\n",
       "No Prazo             1509\n",
       "Name: customer_unique_id, dtype: int64"
      ]
     },
     "execution_count": 238,
     "metadata": {},
     "output_type": "execute_result"
    }
   ],
   "source": [
    "Faturamento_Venda.groupby('dias_atraso')['customer_unique_id'].count()"
   ]
  },
  {
   "cell_type": "code",
   "execution_count": 239,
   "id": "9fccd9a6-32c3-4414-b142-85b9d3ed61cd",
   "metadata": {},
   "outputs": [],
   "source": [
    "df_atraso = Faturamento_Venda[Faturamento_Venda['dias_atraso'] == 'Atraso Forte']\\\n",
    "    .sort_values(by = 'dias_atraso',ascending= False)"
   ]
  },
  {
   "cell_type": "code",
   "execution_count": 240,
   "id": "0e36d16d-784e-404e-b9c1-f84253cdd2ad",
   "metadata": {},
   "outputs": [],
   "source": [
    "# Cruzar com a base de reviews para identificar os fatores que levam ao atraso dos produtos\n"
   ]
  },
  {
   "cell_type": "code",
   "execution_count": 241,
   "id": "5b9a7ed8-8615-4a17-ad2d-3288e8e613e3",
   "metadata": {},
   "outputs": [],
   "source": [
    "def definir_classificacao(x):\n",
    "    if x in [5.0,4.0]:\n",
    "        return 'Satisfied'\n",
    "    elif x in [3.0]:\n",
    "        return 'Neutral'\n",
    "    elif x in [2.0,1.0]:\n",
    "        return 'Unsatisfied'"
   ]
  },
  {
   "cell_type": "code",
   "execution_count": 242,
   "id": "b95f9ea1-32be-4fa9-94dd-d286fe9a523c",
   "metadata": {},
   "outputs": [
    {
     "name": "stderr",
     "output_type": "stream",
     "text": [
      "C:\\Users\\sidne\\AppData\\Local\\Temp\\ipykernel_17540\\3097453891.py:1: SettingWithCopyWarning: \n",
      "A value is trying to be set on a copy of a slice from a DataFrame.\n",
      "Try using .loc[row_indexer,col_indexer] = value instead\n",
      "\n",
      "See the caveats in the documentation: https://pandas.pydata.org/pandas-docs/stable/user_guide/indexing.html#returning-a-view-versus-a-copy\n",
      "  Faturamento_Venda['review_category'] = Faturamento_Venda['review_score'].apply(definir_classificacao)\n"
     ]
    }
   ],
   "source": [
    "Faturamento_Venda['review_category'] = Faturamento_Venda['review_score'].apply(definir_classificacao)"
   ]
  },
  {
   "cell_type": "markdown",
   "id": "846a1bc8-d173-4eb7-afe2-8362b163e86c",
   "metadata": {},
   "source": [
    "#### Satisfação por região\n",
    "\n",
    "* A maior concentração de clientes satisfeitos está no Sudeste e Sul, que também são as regiões com maior volume de entregas.\n",
    "\n",
    "* O Nordeste tem uma quantidade significativa de clientes insatisfeitos, proporcionalmente maior do que outras regiões, mesmo com entregas majoritariamente adiantadas.\n",
    "\n",
    "* O Norte apresenta menor volume total, mas uma proporção considerável de clientes neutros e insatisfeitos."
   ]
  },
  {
   "cell_type": "code",
   "execution_count": 243,
   "id": "296917bb-9914-471e-8862-2c0b19b66146",
   "metadata": {},
   "outputs": [
    {
     "data": {
      "text/html": [
       "<div>\n",
       "<style scoped>\n",
       "    .dataframe tbody tr th:only-of-type {\n",
       "        vertical-align: middle;\n",
       "    }\n",
       "\n",
       "    .dataframe tbody tr th {\n",
       "        vertical-align: top;\n",
       "    }\n",
       "\n",
       "    .dataframe thead th {\n",
       "        text-align: right;\n",
       "    }\n",
       "</style>\n",
       "<table border=\"1\" class=\"dataframe\">\n",
       "  <thead>\n",
       "    <tr style=\"text-align: right;\">\n",
       "      <th>dias_atraso</th>\n",
       "      <th>Adiantada Forte</th>\n",
       "      <th>Adiantada Leve</th>\n",
       "      <th>Atraso Forte</th>\n",
       "      <th>Atraso Leve</th>\n",
       "      <th>No Prazo</th>\n",
       "    </tr>\n",
       "    <tr>\n",
       "      <th>Regiao</th>\n",
       "      <th></th>\n",
       "      <th></th>\n",
       "      <th></th>\n",
       "      <th></th>\n",
       "      <th></th>\n",
       "    </tr>\n",
       "  </thead>\n",
       "  <tbody>\n",
       "    <tr>\n",
       "      <th>CENTRO-OESTE</th>\n",
       "      <td>4770</td>\n",
       "      <td>260</td>\n",
       "      <td>252</td>\n",
       "      <td>113</td>\n",
       "      <td>80</td>\n",
       "    </tr>\n",
       "    <tr>\n",
       "      <th>NORDESTE</th>\n",
       "      <td>6864</td>\n",
       "      <td>411</td>\n",
       "      <td>828</td>\n",
       "      <td>235</td>\n",
       "      <td>136</td>\n",
       "    </tr>\n",
       "    <tr>\n",
       "      <th>NORTE</th>\n",
       "      <td>1526</td>\n",
       "      <td>52</td>\n",
       "      <td>124</td>\n",
       "      <td>30</td>\n",
       "      <td>22</td>\n",
       "    </tr>\n",
       "    <tr>\n",
       "      <th>SUDESTE</th>\n",
       "      <td>56024</td>\n",
       "      <td>3415</td>\n",
       "      <td>2805</td>\n",
       "      <td>1225</td>\n",
       "      <td>880</td>\n",
       "    </tr>\n",
       "    <tr>\n",
       "      <th>SUL</th>\n",
       "      <td>11918</td>\n",
       "      <td>558</td>\n",
       "      <td>561</td>\n",
       "      <td>250</td>\n",
       "      <td>159</td>\n",
       "    </tr>\n",
       "  </tbody>\n",
       "</table>\n",
       "</div>"
      ],
      "text/plain": [
       "dias_atraso   Adiantada Forte  Adiantada Leve  Atraso Forte  Atraso Leve  \\\n",
       "Regiao                                                                     \n",
       "CENTRO-OESTE             4770             260           252          113   \n",
       "NORDESTE                 6864             411           828          235   \n",
       "NORTE                    1526              52           124           30   \n",
       "SUDESTE                 56024            3415          2805         1225   \n",
       "SUL                     11918             558           561          250   \n",
       "\n",
       "dias_atraso   No Prazo  \n",
       "Regiao                  \n",
       "CENTRO-OESTE        80  \n",
       "NORDESTE           136  \n",
       "NORTE               22  \n",
       "SUDESTE            880  \n",
       "SUL                159  "
      ]
     },
     "execution_count": 243,
     "metadata": {},
     "output_type": "execute_result"
    }
   ],
   "source": [
    "    Faturamento_Venda\\\n",
    "    .groupby(['Regiao', 'dias_atraso'])\\\n",
    "    .agg({'customer_unique_id':'nunique'})\\\n",
    "    .reset_index()\\\n",
    "    .pivot(index='Regiao', columns='dias_atraso', values='customer_unique_id')\\\n",
    "    .fillna(0)"
   ]
  },
  {
   "cell_type": "markdown",
   "id": "e27b3d72-7ccd-4fa4-8c16-5efeacc80fa6",
   "metadata": {
    "jp-MarkdownHeadingCollapsed": true
   },
   "source": [
    "#### Distribuição do status de entrega por região\n",
    "\n",
    "* A maioria das entregas está concentrada no Sudeste, seguida pelo Sul e Nordeste.\n",
    "\n",
    "* A maior parte das entregas é adiantada forte ou adiantada leve, indicando que, em geral, a logística está funcionando bem para antecipar prazos.\n",
    "\n",
    "* Regiões como Norte e Centro-Oeste apresentam menores volumes, mas proporcionalmente ainda têm mais entregas adiantadas do que atrasadas."
   ]
  },
  {
   "cell_type": "code",
   "execution_count": 244,
   "id": "a00aeaff-2279-485f-9b0a-92c6fcc80b49",
   "metadata": {},
   "outputs": [
    {
     "data": {
      "text/html": [
       "<div>\n",
       "<style scoped>\n",
       "    .dataframe tbody tr th:only-of-type {\n",
       "        vertical-align: middle;\n",
       "    }\n",
       "\n",
       "    .dataframe tbody tr th {\n",
       "        vertical-align: top;\n",
       "    }\n",
       "\n",
       "    .dataframe thead th {\n",
       "        text-align: right;\n",
       "    }\n",
       "</style>\n",
       "<table border=\"1\" class=\"dataframe\">\n",
       "  <thead>\n",
       "    <tr style=\"text-align: right;\">\n",
       "      <th>dias_atraso</th>\n",
       "      <th>Adiantada Forte</th>\n",
       "      <th>Adiantada Leve</th>\n",
       "      <th>Atraso Forte</th>\n",
       "      <th>Atraso Leve</th>\n",
       "      <th>No Prazo</th>\n",
       "    </tr>\n",
       "    <tr>\n",
       "      <th>payment_type</th>\n",
       "      <th></th>\n",
       "      <th></th>\n",
       "      <th></th>\n",
       "      <th></th>\n",
       "      <th></th>\n",
       "    </tr>\n",
       "  </thead>\n",
       "  <tbody>\n",
       "    <tr>\n",
       "      <th>boleto</th>\n",
       "      <td>16007</td>\n",
       "      <td>1083</td>\n",
       "      <td>994</td>\n",
       "      <td>407</td>\n",
       "      <td>298</td>\n",
       "    </tr>\n",
       "    <tr>\n",
       "      <th>credit_card</th>\n",
       "      <td>63045</td>\n",
       "      <td>3475</td>\n",
       "      <td>3525</td>\n",
       "      <td>1417</td>\n",
       "      <td>934</td>\n",
       "    </tr>\n",
       "    <tr>\n",
       "      <th>debit_card</th>\n",
       "      <td>1249</td>\n",
       "      <td>104</td>\n",
       "      <td>55</td>\n",
       "      <td>24</td>\n",
       "      <td>39</td>\n",
       "    </tr>\n",
       "    <tr>\n",
       "      <th>voucher</th>\n",
       "      <td>3194</td>\n",
       "      <td>152</td>\n",
       "      <td>167</td>\n",
       "      <td>53</td>\n",
       "      <td>38</td>\n",
       "    </tr>\n",
       "  </tbody>\n",
       "</table>\n",
       "</div>"
      ],
      "text/plain": [
       "dias_atraso   Adiantada Forte  Adiantada Leve  Atraso Forte  Atraso Leve  \\\n",
       "payment_type                                                               \n",
       "boleto                  16007            1083           994          407   \n",
       "credit_card             63045            3475          3525         1417   \n",
       "debit_card               1249             104            55           24   \n",
       "voucher                  3194             152           167           53   \n",
       "\n",
       "dias_atraso   No Prazo  \n",
       "payment_type            \n",
       "boleto             298  \n",
       "credit_card        934  \n",
       "debit_card          39  \n",
       "voucher             38  "
      ]
     },
     "execution_count": 244,
     "metadata": {},
     "output_type": "execute_result"
    }
   ],
   "source": [
    "    Faturamento_Venda\\\n",
    "    .groupby(['dias_atraso', 'payment_type'])\\\n",
    "    .agg({'customer_unique_id':'nunique'})\\\n",
    "    .reset_index()\\\n",
    "    .pivot(index='payment_type', columns='dias_atraso', values='customer_unique_id')\\\n",
    "    .fillna(0)"
   ]
  },
  {
   "cell_type": "markdown",
   "id": "eb6cb4ca-fc37-402c-a630-573eb16a8e6b",
   "metadata": {},
   "source": [
    "#### Satisfação por região\n",
    "\n",
    "* A maior concentração de clientes satisfeitos está no Sudeste e Sul, que também são as regiões com maior volume de entregas.\n",
    "\n",
    "* O Nordeste tem uma quantidade significativa de clientes insatisfeitos, proporcionalmente maior do que outras regiões, mesmo com entregas majoritariamente adiantadas.\n",
    "\n",
    "* O Norte apresenta menor volume total, mas uma proporção considerável de clientes neutros e insatisfeitos."
   ]
  },
  {
   "cell_type": "code",
   "execution_count": 245,
   "id": "6ff9f855-933f-4499-9d11-5e0504d5b02f",
   "metadata": {},
   "outputs": [
    {
     "data": {
      "text/html": [
       "<div>\n",
       "<style scoped>\n",
       "    .dataframe tbody tr th:only-of-type {\n",
       "        vertical-align: middle;\n",
       "    }\n",
       "\n",
       "    .dataframe tbody tr th {\n",
       "        vertical-align: top;\n",
       "    }\n",
       "\n",
       "    .dataframe thead th {\n",
       "        text-align: right;\n",
       "    }\n",
       "</style>\n",
       "<table border=\"1\" class=\"dataframe\">\n",
       "  <thead>\n",
       "    <tr style=\"text-align: right;\">\n",
       "      <th>Regiao</th>\n",
       "      <th>CENTRO-OESTE</th>\n",
       "      <th>NORDESTE</th>\n",
       "      <th>NORTE</th>\n",
       "      <th>SUDESTE</th>\n",
       "      <th>SUL</th>\n",
       "    </tr>\n",
       "    <tr>\n",
       "      <th>payment_type</th>\n",
       "      <th></th>\n",
       "      <th></th>\n",
       "      <th></th>\n",
       "      <th></th>\n",
       "      <th></th>\n",
       "    </tr>\n",
       "  </thead>\n",
       "  <tbody>\n",
       "    <tr>\n",
       "      <th>boleto</th>\n",
       "      <td>1189</td>\n",
       "      <td>1550</td>\n",
       "      <td>400</td>\n",
       "      <td>12338</td>\n",
       "      <td>3161</td>\n",
       "    </tr>\n",
       "    <tr>\n",
       "      <th>credit_card</th>\n",
       "      <td>4145</td>\n",
       "      <td>6616</td>\n",
       "      <td>1294</td>\n",
       "      <td>49752</td>\n",
       "      <td>9899</td>\n",
       "    </tr>\n",
       "    <tr>\n",
       "      <th>debit_card</th>\n",
       "      <td>54</td>\n",
       "      <td>128</td>\n",
       "      <td>26</td>\n",
       "      <td>1069</td>\n",
       "      <td>189</td>\n",
       "    </tr>\n",
       "    <tr>\n",
       "      <th>voucher</th>\n",
       "      <td>190</td>\n",
       "      <td>385</td>\n",
       "      <td>67</td>\n",
       "      <td>2465</td>\n",
       "      <td>476</td>\n",
       "    </tr>\n",
       "  </tbody>\n",
       "</table>\n",
       "</div>"
      ],
      "text/plain": [
       "Regiao        CENTRO-OESTE  NORDESTE  NORTE  SUDESTE   SUL\n",
       "payment_type                                              \n",
       "boleto                1189      1550    400    12338  3161\n",
       "credit_card           4145      6616   1294    49752  9899\n",
       "debit_card              54       128     26     1069   189\n",
       "voucher                190       385     67     2465   476"
      ]
     },
     "execution_count": 245,
     "metadata": {},
     "output_type": "execute_result"
    }
   ],
   "source": [
    "    Faturamento_Venda\\\n",
    "    .groupby(['Regiao', 'payment_type'])\\\n",
    "    .agg({'customer_unique_id':'nunique'})\\\n",
    "    .reset_index()\\\n",
    "    .pivot(index='payment_type', columns='Regiao', values='customer_unique_id')\\\n",
    "    .fillna(0)"
   ]
  },
  {
   "cell_type": "markdown",
   "id": "2feda968-3a1f-484d-8c42-8483541b1414",
   "metadata": {},
   "source": [
    "#### 3. Visões Preditivas (Modelagem de Dados)\n",
    "\n",
    "* Previsão de demanda:\n",
    "\n",
    "        Modelos de séries temporais para prever vendas futuras por região."
   ]
  },
  {
   "cell_type": "code",
   "execution_count": 246,
   "id": "298140f1-0b8f-4dea-b3e9-669541b1a558",
   "metadata": {},
   "outputs": [
    {
     "name": "stdout",
     "output_type": "stream",
     "text": [
      "['order_id', 'customer_id', 'order_status', 'order_purchase_timestamp', 'order_approved_at', 'order_delivered_carrier_date', 'order_delivered_customer_date', 'order_estimated_delivery_date', 'customer_unique_id', 'customer_city', 'customer_state', 'product_id', 'price', 'freight_value', 'product_category_name', 'product_weight_g', 'product_length_cm', 'product_height_cm', 'product_width_cm', 'review_score', 'review_comment_message', 'payment_type', 'payment_installments', 'total_items', 'delivery_diff_days', 'estimated_diff_days', 'dias_atraso', 'Regiao', 'review_category']\n"
     ]
    }
   ],
   "source": [
    "print(list(Faturamento_Venda))"
   ]
  },
  {
   "cell_type": "code",
   "execution_count": 247,
   "id": "f43f161b-8b23-474c-b132-9c2bdc227a1a",
   "metadata": {},
   "outputs": [
    {
     "name": "stderr",
     "output_type": "stream",
     "text": [
      "C:\\Users\\sidne\\AppData\\Local\\Temp\\ipykernel_17540\\1831093637.py:1: SettingWithCopyWarning: \n",
      "A value is trying to be set on a copy of a slice from a DataFrame.\n",
      "Try using .loc[row_indexer,col_indexer] = value instead\n",
      "\n",
      "See the caveats in the documentation: https://pandas.pydata.org/pandas-docs/stable/user_guide/indexing.html#returning-a-view-versus-a-copy\n",
      "  Faturamento_Venda['week_first_sales'] = Faturamento_Venda['order_purchase_timestamp'].dt.to_period('W').apply(lambda r:r.start_time)\n"
     ]
    }
   ],
   "source": [
    "Faturamento_Venda['week_first_sales'] = Faturamento_Venda['order_purchase_timestamp'].dt.to_period('W').apply(lambda r:r.start_time)"
   ]
  },
  {
   "cell_type": "code",
   "execution_count": 248,
   "id": "e61b6d03-abd2-4d61-b4e9-477db1c80b5e",
   "metadata": {},
   "outputs": [
    {
     "name": "stderr",
     "output_type": "stream",
     "text": [
      "C:\\Users\\sidne\\AppData\\Local\\Temp\\ipykernel_17540\\1380299439.py:1: SettingWithCopyWarning: \n",
      "A value is trying to be set on a copy of a slice from a DataFrame.\n",
      "Try using .loc[row_indexer,col_indexer] = value instead\n",
      "\n",
      "See the caveats in the documentation: https://pandas.pydata.org/pandas-docs/stable/user_guide/indexing.html#returning-a-view-versus-a-copy\n",
      "  Faturamento_Venda['month_sales'] = Faturamento_Venda['order_purchase_timestamp'].dt.to_period('M').astype('str')\n"
     ]
    }
   ],
   "source": [
    "Faturamento_Venda['month_sales'] = Faturamento_Venda['order_purchase_timestamp'].dt.to_period('M').astype('str')"
   ]
  },
  {
   "cell_type": "markdown",
   "id": "34a48958-98ee-40bd-bc77-9af567a79c51",
   "metadata": {},
   "source": [
    "#### Previsão de demanda:\n",
    "\n",
    "    - Modelos de séries temporais para prever vendas futuras por região"
   ]
  },
  {
   "cell_type": "code",
   "execution_count": 249,
   "id": "ff51701a-bef5-4e33-bdf2-11383a4fb46f",
   "metadata": {},
   "outputs": [],
   "source": [
    "df_series = Faturamento_Venda.groupby(['order_purchase_timestamp','Regiao']).agg(\n",
    "    {\n",
    "        'total_items':'sum'\n",
    "    }\n",
    ").reset_index().rename(columns={'order_purchase_timestamp':'ds','total_items':'y'}).sort_values('ds')"
   ]
  },
  {
   "cell_type": "code",
   "execution_count": 250,
   "id": "167fbe7e-d7dc-4321-94a7-52fd4834bb8a",
   "metadata": {},
   "outputs": [
    {
     "name": "stdout",
     "output_type": "stream",
     "text": [
      "ADF Statistic: -4.245174137765641\n",
      "p-value: 0.0005520149348569789\n"
     ]
    }
   ],
   "source": [
    "# Vamos usar o MODELO SARIMA.\n",
    "from statsmodels.tsa.stattools import adfuller\n",
    "\n",
    "resultado = adfuller(df_series['y'])\n",
    "print('ADF Statistic:', resultado[0])\n",
    "print('p-value:', resultado[1])\n"
   ]
  },
  {
   "cell_type": "code",
   "execution_count": 251,
   "id": "49043fca-0881-4f18-8aed-e6f5bb16f5a3",
   "metadata": {
    "scrolled": true
   },
   "outputs": [
    {
     "name": "stdout",
     "output_type": "stream",
     "text": [
      "Performing stepwise search to minimize aic\n",
      " ARIMA(0,0,0)(0,1,0)[12] intercept   : AIC=62627.245, Time=0.19 sec\n",
      " ARIMA(1,0,0)(1,1,0)[12] intercept   : AIC=61919.619, Time=2.21 sec\n",
      " ARIMA(0,0,1)(0,1,1)[12] intercept   : AIC=inf, Time=11.45 sec\n",
      " ARIMA(0,0,0)(0,1,0)[12]             : AIC=62625.271, Time=0.24 sec\n",
      " ARIMA(1,0,0)(0,1,0)[12] intercept   : AIC=62598.414, Time=0.32 sec\n",
      " ARIMA(1,0,0)(1,1,1)[12] intercept   : AIC=60971.394, Time=13.69 sec\n",
      " ARIMA(1,0,0)(0,1,1)[12] intercept   : AIC=inf, Time=11.73 sec\n",
      " ARIMA(0,0,0)(1,1,1)[12] intercept   : AIC=inf, Time=11.74 sec\n",
      " ARIMA(2,0,0)(1,1,1)[12] intercept   : AIC=inf, Time=11.34 sec\n",
      " ARIMA(1,0,1)(1,1,1)[12] intercept   : AIC=inf, Time=16.07 sec\n",
      " ARIMA(0,0,1)(1,1,1)[12] intercept   : AIC=inf, Time=13.00 sec\n",
      " ARIMA(2,0,1)(1,1,1)[12] intercept   : AIC=inf, Time=12.17 sec\n",
      " ARIMA(1,0,0)(1,1,1)[12]             : AIC=inf, Time=2.80 sec\n",
      "\n",
      "Best model:  ARIMA(1,0,0)(1,1,1)[12] intercept\n",
      "Total fit time: 106.969 seconds\n"
     ]
    }
   ],
   "source": [
    "from pmdarima import auto_arima\n",
    "modelo = auto_arima(\n",
    "    df_series['y'],\n",
    "    seasonal=True,\n",
    "    m=12,\n",
    "    start_p=0, start_q=0,\n",
    "    max_p=2, max_q=2,\n",
    "    start_P=0, start_Q=0,\n",
    "    max_P=1, max_Q=1,\n",
    "    d=0,\n",
    "    D=1,\n",
    "    trace=True,\n",
    "    error_action='ignore',\n",
    "    suppress_warnings=True,\n",
    "    stepwise=True,  # ⬅️ O stepwise já reduz bastante as combinações\n",
    "    n_fits=30,      # ⬅️ Limitar número de modelos testados\n",
    "    n_jobs=1\n",
    ")\n"
   ]
  },
  {
   "cell_type": "code",
   "execution_count": 252,
   "id": "4d6847f2-f221-49c7-9596-b09fd77dc3e4",
   "metadata": {},
   "outputs": [
    {
     "data": {
      "text/html": [
       "<style>#sk-container-id-2 {color: black;}#sk-container-id-2 pre{padding: 0;}#sk-container-id-2 div.sk-toggleable {background-color: white;}#sk-container-id-2 label.sk-toggleable__label {cursor: pointer;display: block;width: 100%;margin-bottom: 0;padding: 0.3em;box-sizing: border-box;text-align: center;}#sk-container-id-2 label.sk-toggleable__label-arrow:before {content: \"▸\";float: left;margin-right: 0.25em;color: #696969;}#sk-container-id-2 label.sk-toggleable__label-arrow:hover:before {color: black;}#sk-container-id-2 div.sk-estimator:hover label.sk-toggleable__label-arrow:before {color: black;}#sk-container-id-2 div.sk-toggleable__content {max-height: 0;max-width: 0;overflow: hidden;text-align: left;background-color: #f0f8ff;}#sk-container-id-2 div.sk-toggleable__content pre {margin: 0.2em;color: black;border-radius: 0.25em;background-color: #f0f8ff;}#sk-container-id-2 input.sk-toggleable__control:checked~div.sk-toggleable__content {max-height: 200px;max-width: 100%;overflow: auto;}#sk-container-id-2 input.sk-toggleable__control:checked~label.sk-toggleable__label-arrow:before {content: \"▾\";}#sk-container-id-2 div.sk-estimator input.sk-toggleable__control:checked~label.sk-toggleable__label {background-color: #d4ebff;}#sk-container-id-2 div.sk-label input.sk-toggleable__control:checked~label.sk-toggleable__label {background-color: #d4ebff;}#sk-container-id-2 input.sk-hidden--visually {border: 0;clip: rect(1px 1px 1px 1px);clip: rect(1px, 1px, 1px, 1px);height: 1px;margin: -1px;overflow: hidden;padding: 0;position: absolute;width: 1px;}#sk-container-id-2 div.sk-estimator {font-family: monospace;background-color: #f0f8ff;border: 1px dotted black;border-radius: 0.25em;box-sizing: border-box;margin-bottom: 0.5em;}#sk-container-id-2 div.sk-estimator:hover {background-color: #d4ebff;}#sk-container-id-2 div.sk-parallel-item::after {content: \"\";width: 100%;border-bottom: 1px solid gray;flex-grow: 1;}#sk-container-id-2 div.sk-label:hover label.sk-toggleable__label {background-color: #d4ebff;}#sk-container-id-2 div.sk-serial::before {content: \"\";position: absolute;border-left: 1px solid gray;box-sizing: border-box;top: 0;bottom: 0;left: 50%;z-index: 0;}#sk-container-id-2 div.sk-serial {display: flex;flex-direction: column;align-items: center;background-color: white;padding-right: 0.2em;padding-left: 0.2em;position: relative;}#sk-container-id-2 div.sk-item {position: relative;z-index: 1;}#sk-container-id-2 div.sk-parallel {display: flex;align-items: stretch;justify-content: center;background-color: white;position: relative;}#sk-container-id-2 div.sk-item::before, #sk-container-id-2 div.sk-parallel-item::before {content: \"\";position: absolute;border-left: 1px solid gray;box-sizing: border-box;top: 0;bottom: 0;left: 50%;z-index: -1;}#sk-container-id-2 div.sk-parallel-item {display: flex;flex-direction: column;z-index: 1;position: relative;background-color: white;}#sk-container-id-2 div.sk-parallel-item:first-child::after {align-self: flex-end;width: 50%;}#sk-container-id-2 div.sk-parallel-item:last-child::after {align-self: flex-start;width: 50%;}#sk-container-id-2 div.sk-parallel-item:only-child::after {width: 0;}#sk-container-id-2 div.sk-dashed-wrapped {border: 1px dashed gray;margin: 0 0.4em 0.5em 0.4em;box-sizing: border-box;padding-bottom: 0.4em;background-color: white;}#sk-container-id-2 div.sk-label label {font-family: monospace;font-weight: bold;display: inline-block;line-height: 1.2em;}#sk-container-id-2 div.sk-label-container {text-align: center;}#sk-container-id-2 div.sk-container {/* jupyter's `normalize.less` sets `[hidden] { display: none; }` but bootstrap.min.css set `[hidden] { display: none !important; }` so we also need the `!important` here to be able to override the default hidden behavior on the sphinx rendered scikit-learn.org. See: https://github.com/scikit-learn/scikit-learn/issues/21755 */display: inline-block !important;position: relative;}#sk-container-id-2 div.sk-text-repr-fallback {display: none;}</style><div id=\"sk-container-id-2\" class=\"sk-top-container\"><div class=\"sk-text-repr-fallback\"><pre> ARIMA(1,0,0)(1,1,1)[12] intercept</pre><b>In a Jupyter environment, please rerun this cell to show the HTML representation or trust the notebook. <br />On GitHub, the HTML representation is unable to render, please try loading this page with nbviewer.org.</b></div><div class=\"sk-container\" hidden><div class=\"sk-item\"><div class=\"sk-estimator sk-toggleable\"><input class=\"sk-toggleable__control sk-hidden--visually\" id=\"sk-estimator-id-2\" type=\"checkbox\" checked><label for=\"sk-estimator-id-2\" class=\"sk-toggleable__label sk-toggleable__label-arrow\">ARIMA</label><div class=\"sk-toggleable__content\"><pre> ARIMA(1,0,0)(1,1,1)[12] intercept</pre></div></div></div></div></div>"
      ],
      "text/plain": [
       "ARIMA(order=(1, 0, 0), scoring_args={}, seasonal_order=(1, 1, 1, 12),\n",
       "      suppress_warnings=True)"
      ]
     },
     "execution_count": 252,
     "metadata": {},
     "output_type": "execute_result"
    }
   ],
   "source": [
    "modelo"
   ]
  },
  {
   "cell_type": "code",
   "execution_count": 253,
   "id": "014bfe65-20b1-451c-9e8f-cb1b7fd9061d",
   "metadata": {
    "scrolled": true
   },
   "outputs": [
    {
     "name": "stdout",
     "output_type": "stream",
     "text": [
      "Carregando Regiao: CENTRO-OESTE\n"
     ]
    },
    {
     "name": "stderr",
     "output_type": "stream",
     "text": [
      "C:\\Users\\sidne\\AppData\\Local\\Programs\\Python\\Python311\\Lib\\site-packages\\statsmodels\\tsa\\base\\tsa_model.py:473: ValueWarning: An unsupported index was provided. As a result, forecasts cannot be generated. To use the model for forecasting, use one of the supported classes of index.\n",
      "  self._init_dates(dates, freq)\n",
      "C:\\Users\\sidne\\AppData\\Local\\Programs\\Python\\Python311\\Lib\\site-packages\\statsmodels\\tsa\\base\\tsa_model.py:473: ValueWarning: An unsupported index was provided. As a result, forecasts cannot be generated. To use the model for forecasting, use one of the supported classes of index.\n",
      "  self._init_dates(dates, freq)\n",
      "C:\\Users\\sidne\\AppData\\Local\\Programs\\Python\\Python311\\Lib\\site-packages\\statsmodels\\tsa\\base\\tsa_model.py:837: ValueWarning: No supported index is available. Prediction results will be given with an integer index beginning at `start`.\n",
      "  return get_prediction_index(\n",
      "C:\\Users\\sidne\\AppData\\Local\\Programs\\Python\\Python311\\Lib\\site-packages\\statsmodels\\tsa\\base\\tsa_model.py:837: FutureWarning: No supported index is available. In the next version, calling this method in a model without a supported index will result in an exception.\n",
      "  return get_prediction_index(\n",
      "C:\\Users\\sidne\\AppData\\Local\\Programs\\Python\\Python311\\Lib\\site-packages\\statsmodels\\tsa\\base\\tsa_model.py:473: ValueWarning: An unsupported index was provided. As a result, forecasts cannot be generated. To use the model for forecasting, use one of the supported classes of index.\n",
      "  self._init_dates(dates, freq)\n",
      "C:\\Users\\sidne\\AppData\\Local\\Programs\\Python\\Python311\\Lib\\site-packages\\statsmodels\\tsa\\base\\tsa_model.py:473: ValueWarning: An unsupported index was provided. As a result, forecasts cannot be generated. To use the model for forecasting, use one of the supported classes of index.\n",
      "  self._init_dates(dates, freq)\n"
     ]
    },
    {
     "name": "stdout",
     "output_type": "stream",
     "text": [
      "Previsão para CENTRO-OESTE: R$ 1784.27\n",
      "Carregando Regiao: SUDESTE\n"
     ]
    },
    {
     "name": "stderr",
     "output_type": "stream",
     "text": [
      "C:\\Users\\sidne\\AppData\\Local\\Programs\\Python\\Python311\\Lib\\site-packages\\statsmodels\\tsa\\base\\tsa_model.py:837: ValueWarning: No supported index is available. Prediction results will be given with an integer index beginning at `start`.\n",
      "  return get_prediction_index(\n",
      "C:\\Users\\sidne\\AppData\\Local\\Programs\\Python\\Python311\\Lib\\site-packages\\statsmodels\\tsa\\base\\tsa_model.py:837: FutureWarning: No supported index is available. In the next version, calling this method in a model without a supported index will result in an exception.\n",
      "  return get_prediction_index(\n",
      "C:\\Users\\sidne\\AppData\\Local\\Programs\\Python\\Python311\\Lib\\site-packages\\statsmodels\\tsa\\base\\tsa_model.py:473: ValueWarning: An unsupported index was provided. As a result, forecasts cannot be generated. To use the model for forecasting, use one of the supported classes of index.\n",
      "  self._init_dates(dates, freq)\n",
      "C:\\Users\\sidne\\AppData\\Local\\Programs\\Python\\Python311\\Lib\\site-packages\\statsmodels\\tsa\\base\\tsa_model.py:473: ValueWarning: An unsupported index was provided. As a result, forecasts cannot be generated. To use the model for forecasting, use one of the supported classes of index.\n",
      "  self._init_dates(dates, freq)\n"
     ]
    },
    {
     "name": "stdout",
     "output_type": "stream",
     "text": [
      "Previsão para SUDESTE: R$ 13629.95\n",
      "Carregando Regiao: SUL\n"
     ]
    },
    {
     "name": "stderr",
     "output_type": "stream",
     "text": [
      "C:\\Users\\sidne\\AppData\\Local\\Programs\\Python\\Python311\\Lib\\site-packages\\statsmodels\\tsa\\base\\tsa_model.py:837: ValueWarning: No supported index is available. Prediction results will be given with an integer index beginning at `start`.\n",
      "  return get_prediction_index(\n",
      "C:\\Users\\sidne\\AppData\\Local\\Programs\\Python\\Python311\\Lib\\site-packages\\statsmodels\\tsa\\base\\tsa_model.py:837: FutureWarning: No supported index is available. In the next version, calling this method in a model without a supported index will result in an exception.\n",
      "  return get_prediction_index(\n",
      "C:\\Users\\sidne\\AppData\\Local\\Programs\\Python\\Python311\\Lib\\site-packages\\statsmodels\\tsa\\base\\tsa_model.py:473: ValueWarning: An unsupported index was provided. As a result, forecasts cannot be generated. To use the model for forecasting, use one of the supported classes of index.\n",
      "  self._init_dates(dates, freq)\n",
      "C:\\Users\\sidne\\AppData\\Local\\Programs\\Python\\Python311\\Lib\\site-packages\\statsmodels\\tsa\\base\\tsa_model.py:473: ValueWarning: An unsupported index was provided. As a result, forecasts cannot be generated. To use the model for forecasting, use one of the supported classes of index.\n",
      "  self._init_dates(dates, freq)\n"
     ]
    },
    {
     "name": "stdout",
     "output_type": "stream",
     "text": [
      "Previsão para SUL: R$ 4375.93\n",
      "Carregando Regiao: NORDESTE\n"
     ]
    },
    {
     "name": "stderr",
     "output_type": "stream",
     "text": [
      "C:\\Users\\sidne\\AppData\\Local\\Programs\\Python\\Python311\\Lib\\site-packages\\statsmodels\\tsa\\base\\tsa_model.py:837: ValueWarning: No supported index is available. Prediction results will be given with an integer index beginning at `start`.\n",
      "  return get_prediction_index(\n",
      "C:\\Users\\sidne\\AppData\\Local\\Programs\\Python\\Python311\\Lib\\site-packages\\statsmodels\\tsa\\base\\tsa_model.py:837: FutureWarning: No supported index is available. In the next version, calling this method in a model without a supported index will result in an exception.\n",
      "  return get_prediction_index(\n",
      "C:\\Users\\sidne\\AppData\\Local\\Programs\\Python\\Python311\\Lib\\site-packages\\statsmodels\\tsa\\base\\tsa_model.py:473: ValueWarning: An unsupported index was provided. As a result, forecasts cannot be generated. To use the model for forecasting, use one of the supported classes of index.\n",
      "  self._init_dates(dates, freq)\n",
      "C:\\Users\\sidne\\AppData\\Local\\Programs\\Python\\Python311\\Lib\\site-packages\\statsmodels\\tsa\\base\\tsa_model.py:473: ValueWarning: An unsupported index was provided. As a result, forecasts cannot be generated. To use the model for forecasting, use one of the supported classes of index.\n",
      "  self._init_dates(dates, freq)\n"
     ]
    },
    {
     "name": "stdout",
     "output_type": "stream",
     "text": [
      "Previsão para NORDESTE: R$ 3105.26\n",
      "Carregando Regiao: NORTE\n",
      "Previsão para NORTE: R$ 1010.15\n"
     ]
    },
    {
     "name": "stderr",
     "output_type": "stream",
     "text": [
      "C:\\Users\\sidne\\AppData\\Local\\Programs\\Python\\Python311\\Lib\\site-packages\\statsmodels\\tsa\\base\\tsa_model.py:837: ValueWarning: No supported index is available. Prediction results will be given with an integer index beginning at `start`.\n",
      "  return get_prediction_index(\n",
      "C:\\Users\\sidne\\AppData\\Local\\Programs\\Python\\Python311\\Lib\\site-packages\\statsmodels\\tsa\\base\\tsa_model.py:837: FutureWarning: No supported index is available. In the next version, calling this method in a model without a supported index will result in an exception.\n",
      "  return get_prediction_index(\n"
     ]
    }
   ],
   "source": [
    "from statsmodels.tsa.statespace.sarimax import SARIMAX\n",
    "\n",
    "previsao_por_Regiao = {}\n",
    "\n",
    "for regiao in df_series['Regiao'].unique():\n",
    "    print(f'Carregando Regiao: {regiao}' )\n",
    "\n",
    "    dados_regiao = df_series[df_series['Regiao'] == regiao]\n",
    "\n",
    "    # Verificar se a quantidade de dados é maior que 10\n",
    "    if len(dados_regiao) > 10:\n",
    "        modelo = SARIMAX(\n",
    "            dados_regiao['y'],\n",
    "            order=(1,0,0),\n",
    "            seasonal_order=(1,1,1,12)\n",
    "        )\n",
    "        \n",
    "        resultado = modelo.fit()\n",
    "        previsao = resultado.forecast(steps = 1)\n",
    "        previsao_por_Regiao[regiao] = previsao.iloc[0]\n",
    "        \n",
    "        print(f\"Previsão para {regiao}: R$ {previsao.iloc[0]:.2f}\")\n",
    "    else:\n",
    "        print(f\"⚠️ Dados insuficientes para {regiao}\")\n",
    "\n",
    "        # Mostra o resultado final\n",
    "        print(\"\\n\" + \"=\"*50)\n",
    "        print(\"PREVISÕES FINAIS POR REGIÃO:\")\n",
    "        for regiao, valor in previsoes_por_regiao.items():\n",
    "            print(f\"{regiao}: R$ {valor:.2f}\")"
   ]
  },
  {
   "cell_type": "code",
   "execution_count": 254,
   "id": "4a3345f9-9cd2-4dd6-a10b-2f4d8b61c393",
   "metadata": {},
   "outputs": [
    {
     "data": {
      "text/plain": [
       "{'CENTRO-OESTE': 1784.2724945952493,\n",
       " 'SUDESTE': 13629.947787498551,\n",
       " 'SUL': 4375.925329750916,\n",
       " 'NORDESTE': 3105.259495718348,\n",
       " 'NORTE': 1010.1478950178576}"
      ]
     },
     "execution_count": 254,
     "metadata": {},
     "output_type": "execute_result"
    }
   ],
   "source": [
    "previsao_por_Regiao"
   ]
  },
  {
   "cell_type": "code",
   "execution_count": 255,
   "id": "0b938ede-08d8-48ad-87a4-225e17536491",
   "metadata": {},
   "outputs": [
    {
     "name": "stdout",
     "output_type": "stream",
     "text": [
      "CENTRO-OESTE: Previsão R$ 1784.27 vs Média R$ 1765.36 | Variação: 1.1%\n",
      "SUDESTE: Previsão R$ 13629.95 vs Média R$ 17148.27 | Variação: -20.5%\n",
      "SUL: Previsão R$ 4375.93 vs Média R$ 3833.97 | Variação: 14.1%\n",
      "NORDESTE: Previsão R$ 3105.26 vs Média R$ 3060.94 | Variação: 1.4%\n",
      "NORTE: Previsão R$ 1010.15 vs Média R$ 776.80 | Variação: 30.0%\n"
     ]
    }
   ],
   "source": [
    "for regiao, previsao in previsao_por_Regiao.items():\n",
    "    historico = df_series[df_series['Regiao'] == regiao]['y']\n",
    "    media_historica = historico.mean()\n",
    "    percentual = ((previsao - media_historica) / media_historica * 100)\n",
    "    \n",
    "    print(f\"{regiao}: Previsão R$ {previsao:.2f} vs Média R$ {media_historica:.2f} | Variação: {percentual:.1f}%\")"
   ]
  }
 ],
 "metadata": {
  "kernelspec": {
   "display_name": "Python (venv)",
   "language": "python",
   "name": "venv"
  },
  "language_info": {
   "codemirror_mode": {
    "name": "ipython",
    "version": 3
   },
   "file_extension": ".py",
   "mimetype": "text/x-python",
   "name": "python",
   "nbconvert_exporter": "python",
   "pygments_lexer": "ipython3",
   "version": "3.11.9"
  }
 },
 "nbformat": 4,
 "nbformat_minor": 5
}
