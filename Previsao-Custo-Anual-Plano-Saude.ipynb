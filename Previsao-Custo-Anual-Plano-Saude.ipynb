{
 "cells": [
  {
   "cell_type": "code",
   "execution_count": 4,
   "metadata": {},
   "outputs": [],
   "source": [
    "import seaborn as sns\n",
    "import pandas as pd\n",
    "import numpy as np\n",
    "import matplotlib.pyplot as plt\n",
    "from sklearn.metrics import mean_squared_error, r2_score\n",
    "from sklearn.linear_model import Lasso\n",
    "from sklearn.model_selection import train_test_split\n",
    "from sklearn.linear_model import LinearRegression\n",
    "from sklearn.linear_model import Ridge\n",
    "from sklearn.ensemble import RandomForestRegressor\n",
    "import pickle"
   ]
  },
  {
   "cell_type": "code",
   "execution_count": 87,
   "metadata": {},
   "outputs": [
    {
     "data": {
      "text/html": [
       "<div>\n",
       "<style scoped>\n",
       "    .dataframe tbody tr th:only-of-type {\n",
       "        vertical-align: middle;\n",
       "    }\n",
       "\n",
       "    .dataframe tbody tr th {\n",
       "        vertical-align: top;\n",
       "    }\n",
       "\n",
       "    .dataframe thead th {\n",
       "        text-align: right;\n",
       "    }\n",
       "</style>\n",
       "<table border=\"1\" class=\"dataframe\">\n",
       "  <thead>\n",
       "    <tr style=\"text-align: right;\">\n",
       "      <th></th>\n",
       "      <th>age</th>\n",
       "      <th>sex</th>\n",
       "      <th>bmi</th>\n",
       "      <th>smoker</th>\n",
       "      <th>region</th>\n",
       "      <th>children</th>\n",
       "      <th>charges</th>\n",
       "    </tr>\n",
       "  </thead>\n",
       "  <tbody>\n",
       "    <tr>\n",
       "      <th>0</th>\n",
       "      <td>21.000000</td>\n",
       "      <td>male</td>\n",
       "      <td>25.745000</td>\n",
       "      <td>no</td>\n",
       "      <td>northeast</td>\n",
       "      <td>2</td>\n",
       "      <td>3279.868550</td>\n",
       "    </tr>\n",
       "    <tr>\n",
       "      <th>1</th>\n",
       "      <td>36.976978</td>\n",
       "      <td>female</td>\n",
       "      <td>25.744165</td>\n",
       "      <td>yes</td>\n",
       "      <td>southeast</td>\n",
       "      <td>3</td>\n",
       "      <td>21454.494239</td>\n",
       "    </tr>\n",
       "    <tr>\n",
       "      <th>2</th>\n",
       "      <td>18.000000</td>\n",
       "      <td>male</td>\n",
       "      <td>30.030000</td>\n",
       "      <td>no</td>\n",
       "      <td>southeast</td>\n",
       "      <td>1</td>\n",
       "      <td>1720.353700</td>\n",
       "    </tr>\n",
       "    <tr>\n",
       "      <th>3</th>\n",
       "      <td>37.000000</td>\n",
       "      <td>male</td>\n",
       "      <td>30.676891</td>\n",
       "      <td>no</td>\n",
       "      <td>northeast</td>\n",
       "      <td>3</td>\n",
       "      <td>6801.437542</td>\n",
       "    </tr>\n",
       "    <tr>\n",
       "      <th>4</th>\n",
       "      <td>58.000000</td>\n",
       "      <td>male</td>\n",
       "      <td>32.010000</td>\n",
       "      <td>no</td>\n",
       "      <td>southeast</td>\n",
       "      <td>1</td>\n",
       "      <td>11946.625900</td>\n",
       "    </tr>\n",
       "  </tbody>\n",
       "</table>\n",
       "</div>"
      ],
      "text/plain": [
       "         age     sex        bmi smoker     region  children       charges\n",
       "0  21.000000    male  25.745000     no  northeast         2   3279.868550\n",
       "1  36.976978  female  25.744165    yes  southeast         3  21454.494239\n",
       "2  18.000000    male  30.030000     no  southeast         1   1720.353700\n",
       "3  37.000000    male  30.676891     no  northeast         3   6801.437542\n",
       "4  58.000000    male  32.010000     no  southeast         1  11946.625900"
      ]
     },
     "execution_count": 87,
     "metadata": {},
     "output_type": "execute_result"
    }
   ],
   "source": [
    "# Carregando os dados\n",
    "train_data = pd.read_csv('C:/Users/sidne/Desktop/Python/Projetos - Machine Learning/Train_Data.csv')\n",
    "# Verificando os 05 primeiros dados\n",
    "train_data.head()"
   ]
  },
  {
   "cell_type": "code",
   "execution_count": 88,
   "metadata": {},
   "outputs": [
    {
     "data": {
      "text/plain": [
       "(3630, 7)"
      ]
     },
     "execution_count": 88,
     "metadata": {},
     "output_type": "execute_result"
    }
   ],
   "source": [
    "# Dimensão dos dados\n",
    "train_data.shape"
   ]
  },
  {
   "cell_type": "code",
   "execution_count": 89,
   "metadata": {},
   "outputs": [
    {
     "data": {
      "text/plain": [
       "age         0\n",
       "sex         0\n",
       "bmi         0\n",
       "smoker      0\n",
       "region      0\n",
       "children    0\n",
       "charges     0\n",
       "dtype: int64"
      ]
     },
     "execution_count": 89,
     "metadata": {},
     "output_type": "execute_result"
    }
   ],
   "source": [
    "# Chegando vazios nos dados\n",
    "train_data.isnull().sum()"
   ]
  },
  {
   "cell_type": "code",
   "execution_count": 90,
   "metadata": {},
   "outputs": [
    {
     "name": "stdout",
     "output_type": "stream",
     "text": [
      "<class 'pandas.core.frame.DataFrame'>\n",
      "RangeIndex: 3630 entries, 0 to 3629\n",
      "Data columns (total 7 columns):\n",
      " #   Column    Non-Null Count  Dtype  \n",
      "---  ------    --------------  -----  \n",
      " 0   age       3630 non-null   float64\n",
      " 1   sex       3630 non-null   object \n",
      " 2   bmi       3630 non-null   float64\n",
      " 3   smoker    3630 non-null   object \n",
      " 4   region    3630 non-null   object \n",
      " 5   children  3630 non-null   int64  \n",
      " 6   charges   3630 non-null   float64\n",
      "dtypes: float64(3), int64(1), object(3)\n",
      "memory usage: 198.6+ KB\n"
     ]
    }
   ],
   "source": [
    "# informação dos dados\n",
    "train_data.info()"
   ]
  },
  {
   "cell_type": "code",
   "execution_count": 91,
   "metadata": {},
   "outputs": [
    {
     "data": {
      "text/html": [
       "<div>\n",
       "<style scoped>\n",
       "    .dataframe tbody tr th:only-of-type {\n",
       "        vertical-align: middle;\n",
       "    }\n",
       "\n",
       "    .dataframe tbody tr th {\n",
       "        vertical-align: top;\n",
       "    }\n",
       "\n",
       "    .dataframe thead th {\n",
       "        text-align: right;\n",
       "    }\n",
       "</style>\n",
       "<table border=\"1\" class=\"dataframe\">\n",
       "  <thead>\n",
       "    <tr style=\"text-align: right;\">\n",
       "      <th></th>\n",
       "      <th>age</th>\n",
       "      <th>bmi</th>\n",
       "      <th>children</th>\n",
       "      <th>charges</th>\n",
       "    </tr>\n",
       "  </thead>\n",
       "  <tbody>\n",
       "    <tr>\n",
       "      <th>count</th>\n",
       "      <td>3630.000000</td>\n",
       "      <td>3630.000000</td>\n",
       "      <td>3630.000000</td>\n",
       "      <td>3630.000000</td>\n",
       "    </tr>\n",
       "    <tr>\n",
       "      <th>mean</th>\n",
       "      <td>38.887036</td>\n",
       "      <td>30.629652</td>\n",
       "      <td>2.503581</td>\n",
       "      <td>12784.808644</td>\n",
       "    </tr>\n",
       "    <tr>\n",
       "      <th>std</th>\n",
       "      <td>12.151029</td>\n",
       "      <td>5.441307</td>\n",
       "      <td>1.712568</td>\n",
       "      <td>10746.166743</td>\n",
       "    </tr>\n",
       "    <tr>\n",
       "      <th>min</th>\n",
       "      <td>18.000000</td>\n",
       "      <td>15.960000</td>\n",
       "      <td>0.000000</td>\n",
       "      <td>1121.873900</td>\n",
       "    </tr>\n",
       "    <tr>\n",
       "      <th>25%</th>\n",
       "      <td>29.000000</td>\n",
       "      <td>26.694526</td>\n",
       "      <td>1.000000</td>\n",
       "      <td>5654.818262</td>\n",
       "    </tr>\n",
       "    <tr>\n",
       "      <th>50%</th>\n",
       "      <td>39.170922</td>\n",
       "      <td>30.200000</td>\n",
       "      <td>3.000000</td>\n",
       "      <td>9443.807222</td>\n",
       "    </tr>\n",
       "    <tr>\n",
       "      <th>75%</th>\n",
       "      <td>48.343281</td>\n",
       "      <td>34.100000</td>\n",
       "      <td>4.000000</td>\n",
       "      <td>14680.407505</td>\n",
       "    </tr>\n",
       "    <tr>\n",
       "      <th>max</th>\n",
       "      <td>64.000000</td>\n",
       "      <td>53.130000</td>\n",
       "      <td>5.000000</td>\n",
       "      <td>63770.428010</td>\n",
       "    </tr>\n",
       "  </tbody>\n",
       "</table>\n",
       "</div>"
      ],
      "text/plain": [
       "               age          bmi     children       charges\n",
       "count  3630.000000  3630.000000  3630.000000   3630.000000\n",
       "mean     38.887036    30.629652     2.503581  12784.808644\n",
       "std      12.151029     5.441307     1.712568  10746.166743\n",
       "min      18.000000    15.960000     0.000000   1121.873900\n",
       "25%      29.000000    26.694526     1.000000   5654.818262\n",
       "50%      39.170922    30.200000     3.000000   9443.807222\n",
       "75%      48.343281    34.100000     4.000000  14680.407505\n",
       "max      64.000000    53.130000     5.000000  63770.428010"
      ]
     },
     "execution_count": 91,
     "metadata": {},
     "output_type": "execute_result"
    }
   ],
   "source": [
    "# Dimensões dos dados - Numerico\n",
    "train_data.describe()"
   ]
  },
  {
   "cell_type": "code",
   "execution_count": 92,
   "metadata": {},
   "outputs": [
    {
     "data": {
      "text/html": [
       "<div>\n",
       "<style scoped>\n",
       "    .dataframe tbody tr th:only-of-type {\n",
       "        vertical-align: middle;\n",
       "    }\n",
       "\n",
       "    .dataframe tbody tr th {\n",
       "        vertical-align: top;\n",
       "    }\n",
       "\n",
       "    .dataframe thead th {\n",
       "        text-align: right;\n",
       "    }\n",
       "</style>\n",
       "<table border=\"1\" class=\"dataframe\">\n",
       "  <thead>\n",
       "    <tr style=\"text-align: right;\">\n",
       "      <th></th>\n",
       "      <th>sex</th>\n",
       "      <th>smoker</th>\n",
       "      <th>region</th>\n",
       "    </tr>\n",
       "  </thead>\n",
       "  <tbody>\n",
       "    <tr>\n",
       "      <th>count</th>\n",
       "      <td>3630</td>\n",
       "      <td>3630</td>\n",
       "      <td>3630</td>\n",
       "    </tr>\n",
       "    <tr>\n",
       "      <th>unique</th>\n",
       "      <td>2</td>\n",
       "      <td>2</td>\n",
       "      <td>4</td>\n",
       "    </tr>\n",
       "    <tr>\n",
       "      <th>top</th>\n",
       "      <td>male</td>\n",
       "      <td>no</td>\n",
       "      <td>southeast</td>\n",
       "    </tr>\n",
       "    <tr>\n",
       "      <th>freq</th>\n",
       "      <td>2029</td>\n",
       "      <td>3070</td>\n",
       "      <td>1021</td>\n",
       "    </tr>\n",
       "  </tbody>\n",
       "</table>\n",
       "</div>"
      ],
      "text/plain": [
       "         sex smoker     region\n",
       "count   3630   3630       3630\n",
       "unique     2      2          4\n",
       "top     male     no  southeast\n",
       "freq    2029   3070       1021"
      ]
     },
     "execution_count": 92,
     "metadata": {},
     "output_type": "execute_result"
    }
   ],
   "source": [
    "# Dimensões dos dados - Categorico\n",
    "train_data.describe(include=['O'])"
   ]
  },
  {
   "cell_type": "code",
   "execution_count": 93,
   "metadata": {},
   "outputs": [
    {
     "data": {
      "image/png": "[encoded data removed]",
      "text/plain": [
       "<Figure size 576x360 with 1 Axes>"
      ]
     },
     "metadata": {
      "needs_background": "light"
     },
     "output_type": "display_data"
    }
   ],
   "source": [
    "# Histograma \n",
    "plt.figure(figsize=(8,5))\n",
    "sns.histplot(train_data['charges'], kde= True)\n",
    "plt.title('Despesas com Plano de Saúde', fontsize = 20)\n",
    "plt.show()"
   ]
  },
  {
   "cell_type": "code",
   "execution_count": 94,
   "metadata": {},
   "outputs": [
    {
     "name": "stderr",
     "output_type": "stream",
     "text": [
      "C:\\Users\\sidne\\anaconda3\\lib\\site-packages\\seaborn\\_decorators.py:36: FutureWarning: Pass the following variable as a keyword arg: x. From version 0.12, the only valid positional argument will be `data`, and passing other arguments without an explicit keyword will result in an error or misinterpretation.\n",
      "  warnings.warn(\n"
     ]
    },
    {
     "data": {
      "image/png": "[encoded data removed]",
      "text/plain": [
       "<Figure size 576x360 with 1 Axes>"
      ]
     },
     "metadata": {
      "needs_background": "light"
     },
     "output_type": "display_data"
    }
   ],
   "source": [
    "# Boxplot\n",
    "plt.figure(figsize=(8,5))\n",
    "sns.boxplot(train_data['charges'])\n",
    "plt.title('Despesas com Planos de Saúde (Boxplot)', fontsize = 20)\n",
    "plt.show()"
   ]
  },
  {
   "cell_type": "code",
   "execution_count": 95,
   "metadata": {},
   "outputs": [
    {
     "data": {
      "image/png": "[encoded data removed]",
      "text/plain": [
       "<Figure size 576x360 with 1 Axes>"
      ]
     },
     "metadata": {
      "needs_background": "light"
     },
     "output_type": "display_data"
    }
   ],
   "source": [
    "# Histograma de Idade\n",
    "plt.figure(figsize=(8,5))\n",
    "sns.histplot(train_data['age'], kde= True)\n",
    "plt.title('Idade', fontsize = 20)\n",
    "plt.show()"
   ]
  },
  {
   "cell_type": "code",
   "execution_count": 96,
   "metadata": {},
   "outputs": [
    {
     "name": "stderr",
     "output_type": "stream",
     "text": [
      "C:\\Users\\sidne\\anaconda3\\lib\\site-packages\\seaborn\\_decorators.py:36: FutureWarning: Pass the following variable as a keyword arg: x. From version 0.12, the only valid positional argument will be `data`, and passing other arguments without an explicit keyword will result in an error or misinterpretation.\n",
      "  warnings.warn(\n"
     ]
    },
    {
     "data": {
      "image/png": "[encoded data removed]",
      "text/plain": [
       "<Figure size 576x360 with 1 Axes>"
      ]
     },
     "metadata": {
      "needs_background": "light"
     },
     "output_type": "display_data"
    }
   ],
   "source": [
    "# Boxplot de Idade\n",
    "plt.figure(figsize=(8,5))\n",
    "sns.boxplot(train_data['age'])\n",
    "plt.title('Idade', fontsize = 20)\n",
    "plt.show()"
   ]
  },
  {
   "cell_type": "code",
   "execution_count": 97,
   "metadata": {},
   "outputs": [
    {
     "data": {
      "image/png": "[encoded data removed]",
      "text/plain": [
       "<Figure size 576x360 with 1 Axes>"
      ]
     },
     "metadata": {
      "needs_background": "light"
     },
     "output_type": "display_data"
    }
   ],
   "source": [
    "# Histograma Massa Corporal\n",
    "plt.figure(figsize = (8,5))\n",
    "sns.histplot(train_data['bmi'], kde=True)\n",
    "plt.title('Massa Corporal', fontsize = 20)\n",
    "plt.show()"
   ]
  },
  {
   "cell_type": "code",
   "execution_count": 98,
   "metadata": {},
   "outputs": [
    {
     "name": "stderr",
     "output_type": "stream",
     "text": [
      "C:\\Users\\sidne\\anaconda3\\lib\\site-packages\\seaborn\\_decorators.py:36: FutureWarning: Pass the following variable as a keyword arg: x. From version 0.12, the only valid positional argument will be `data`, and passing other arguments without an explicit keyword will result in an error or misinterpretation.\n",
      "  warnings.warn(\n"
     ]
    },
    {
     "data": {
      "image/png": "[encoded data removed]",
      "text/plain": [
       "<Figure size 576x360 with 1 Axes>"
      ]
     },
     "metadata": {
      "needs_background": "light"
     },
     "output_type": "display_data"
    }
   ],
   "source": [
    "# Boxplot Massa Corporal\n",
    "plt.figure(figsize= (8,5))\n",
    "sns.boxplot(train_data['bmi'])\n",
    "plt.title('Boxplot de Massa Corporal', fontsize = 20)\n",
    "plt.show()\n"
   ]
  },
  {
   "cell_type": "code",
   "execution_count": 99,
   "metadata": {},
   "outputs": [
    {
     "data": {
      "image/png": "[encoded data removed]",
      "text/plain": [
       "<Figure size 576x360 with 1 Axes>"
      ]
     },
     "metadata": {
      "needs_background": "light"
     },
     "output_type": "display_data"
    }
   ],
   "source": [
    "# Histograma - Dependentes\n",
    "plt.figure(figsize = (8,5))\n",
    "sns.histplot(train_data['children'], kde = True)    \n",
    "plt.title('Dependentes')\n",
    "plt.show()"
   ]
  },
  {
   "cell_type": "code",
   "execution_count": 100,
   "metadata": {},
   "outputs": [
    {
     "name": "stderr",
     "output_type": "stream",
     "text": [
      "C:\\Users\\sidne\\anaconda3\\lib\\site-packages\\seaborn\\_decorators.py:36: FutureWarning: Pass the following variable as a keyword arg: x. From version 0.12, the only valid positional argument will be `data`, and passing other arguments without an explicit keyword will result in an error or misinterpretation.\n",
      "  warnings.warn(\n"
     ]
    },
    {
     "data": {
      "image/png": "[encoded data removed]",
      "text/plain": [
       "<Figure size 576x360 with 1 Axes>"
      ]
     },
     "metadata": {
      "needs_background": "light"
     },
     "output_type": "display_data"
    }
   ],
   "source": [
    "# Boxplot de dependentes\n",
    "plt.figure(figsize= (8,5))\n",
    "sns.boxplot(train_data['children'])\n",
    "plt.title('Boxplot - dependentes')\n",
    "plt.show()"
   ]
  },
  {
   "cell_type": "code",
   "execution_count": 101,
   "metadata": {},
   "outputs": [
    {
     "name": "stdout",
     "output_type": "stream",
     "text": [
      "Masculino:  2029\n",
      "Feminino:  1601\n"
     ]
    },
    {
     "name": "stderr",
     "output_type": "stream",
     "text": [
      "C:\\Users\\sidne\\anaconda3\\lib\\site-packages\\seaborn\\_decorators.py:36: FutureWarning: Pass the following variable as a keyword arg: x. From version 0.12, the only valid positional argument will be `data`, and passing other arguments without an explicit keyword will result in an error or misinterpretation.\n",
      "  warnings.warn(\n"
     ]
    },
    {
     "data": {
      "image/png": "[encoded data removed]",
      "text/plain": [
       "<Figure size 432x216 with 1 Axes>"
      ]
     },
     "metadata": {
      "needs_background": "light"
     },
     "output_type": "display_data"
    }
   ],
   "source": [
    "# Histograms - Sexo\n",
    "\n",
    "# Contagem\n",
    "print('Masculino: ', train_data['sex'].value_counts()[0])\n",
    "print('Feminino: ', train_data['sex'].value_counts()[1])\n",
    "#Visualização\n",
    "plt.figure(figsize= (6,3))\n",
    "sns.countplot(train_data['sex'])\n",
    "plt.title('Histograma - Sexo', fontsize = 20)\n",
    "plt.show()"
   ]
  },
  {
   "cell_type": "code",
   "execution_count": 102,
   "metadata": {},
   "outputs": [
    {
     "name": "stdout",
     "output_type": "stream",
     "text": [
      "Fumantes:  3070\n",
      "Não Fumante:  560\n"
     ]
    },
    {
     "name": "stderr",
     "output_type": "stream",
     "text": [
      "C:\\Users\\sidne\\anaconda3\\lib\\site-packages\\seaborn\\_decorators.py:36: FutureWarning: Pass the following variable as a keyword arg: x. From version 0.12, the only valid positional argument will be `data`, and passing other arguments without an explicit keyword will result in an error or misinterpretation.\n",
      "  warnings.warn(\n"
     ]
    },
    {
     "data": {
      "image/png": "[encoded data removed]",
      "text/plain": [
       "<Figure size 432x216 with 1 Axes>"
      ]
     },
     "metadata": {
      "needs_background": "light"
     },
     "output_type": "display_data"
    }
   ],
   "source": [
    "# Fumantes \n",
    "\n",
    "# Contagem \n",
    "print('Fumantes: ', train_data['smoker'].value_counts()[0])\n",
    "print('Não Fumante: ', train_data['smoker'].value_counts()[1])\n",
    "# Visualização\n",
    "plt.figure(figsize = (6,3))\n",
    "sns.countplot(train_data['smoker'])\n",
    "plt.title('Fumantes e Não Fumantes')\n",
    "plt.show()\n"
   ]
  },
  {
   "cell_type": "code",
   "execution_count": 103,
   "metadata": {},
   "outputs": [
    {
     "name": "stdout",
     "output_type": "stream",
     "text": [
      "South-East:  1021\n",
      "North-West:  911\n",
      "South-West:  850\n",
      "North-East:  848\n"
     ]
    },
    {
     "name": "stderr",
     "output_type": "stream",
     "text": [
      "C:\\Users\\sidne\\anaconda3\\lib\\site-packages\\seaborn\\_decorators.py:36: FutureWarning: Pass the following variable as a keyword arg: x. From version 0.12, the only valid positional argument will be `data`, and passing other arguments without an explicit keyword will result in an error or misinterpretation.\n",
      "  warnings.warn(\n"
     ]
    },
    {
     "data": {
      "image/png": "[encoded data removed]",
      "text/plain": [
       "<Figure size 432x216 with 1 Axes>"
      ]
     },
     "metadata": {
      "needs_background": "light"
     },
     "output_type": "display_data"
    }
   ],
   "source": [
    "# Região\n",
    "\n",
    "# Contagem\n",
    "print('South-East: ', train_data['region'].value_counts()[0])\n",
    "print('North-West: ', train_data['region'].value_counts()[1])\n",
    "print('South-West: ', train_data['region'].value_counts()[2])\n",
    "print('North-East: ', train_data['region'].value_counts()[3])\n",
    "\n",
    "# Visualização\n",
    "plt.figure(figsize=(6,3))\n",
    "sns.countplot(train_data['region'])\n",
    "plt.title('Região', fontsize = 20)\n",
    "plt.show()"
   ]
  },
  {
   "cell_type": "code",
   "execution_count": 104,
   "metadata": {},
   "outputs": [],
   "source": [
    "# Pré-Processamento dos dados\n",
    "train_data['age'] = round(train_data['age'])"
   ]
  },
  {
   "cell_type": "code",
   "execution_count": 105,
   "metadata": {},
   "outputs": [],
   "source": [
    "# Transformando Variáveis em númericos\n",
    "train_data = pd.get_dummies(train_data, drop_first=True)"
   ]
  },
  {
   "cell_type": "code",
   "execution_count": 106,
   "metadata": {},
   "outputs": [
    {
     "data": {
      "text/html": [
       "<div>\n",
       "<style scoped>\n",
       "    .dataframe tbody tr th:only-of-type {\n",
       "        vertical-align: middle;\n",
       "    }\n",
       "\n",
       "    .dataframe tbody tr th {\n",
       "        vertical-align: top;\n",
       "    }\n",
       "\n",
       "    .dataframe thead th {\n",
       "        text-align: right;\n",
       "    }\n",
       "</style>\n",
       "<table border=\"1\" class=\"dataframe\">\n",
       "  <thead>\n",
       "    <tr style=\"text-align: right;\">\n",
       "      <th></th>\n",
       "      <th>age</th>\n",
       "      <th>bmi</th>\n",
       "      <th>children</th>\n",
       "      <th>charges</th>\n",
       "      <th>sex_male</th>\n",
       "      <th>smoker_yes</th>\n",
       "      <th>region_northwest</th>\n",
       "      <th>region_southeast</th>\n",
       "      <th>region_southwest</th>\n",
       "    </tr>\n",
       "  </thead>\n",
       "  <tbody>\n",
       "    <tr>\n",
       "      <th>0</th>\n",
       "      <td>21.0</td>\n",
       "      <td>25.745000</td>\n",
       "      <td>2</td>\n",
       "      <td>3279.868550</td>\n",
       "      <td>1</td>\n",
       "      <td>0</td>\n",
       "      <td>0</td>\n",
       "      <td>0</td>\n",
       "      <td>0</td>\n",
       "    </tr>\n",
       "    <tr>\n",
       "      <th>1</th>\n",
       "      <td>37.0</td>\n",
       "      <td>25.744165</td>\n",
       "      <td>3</td>\n",
       "      <td>21454.494239</td>\n",
       "      <td>0</td>\n",
       "      <td>1</td>\n",
       "      <td>0</td>\n",
       "      <td>1</td>\n",
       "      <td>0</td>\n",
       "    </tr>\n",
       "    <tr>\n",
       "      <th>2</th>\n",
       "      <td>18.0</td>\n",
       "      <td>30.030000</td>\n",
       "      <td>1</td>\n",
       "      <td>1720.353700</td>\n",
       "      <td>1</td>\n",
       "      <td>0</td>\n",
       "      <td>0</td>\n",
       "      <td>1</td>\n",
       "      <td>0</td>\n",
       "    </tr>\n",
       "    <tr>\n",
       "      <th>3</th>\n",
       "      <td>37.0</td>\n",
       "      <td>30.676891</td>\n",
       "      <td>3</td>\n",
       "      <td>6801.437542</td>\n",
       "      <td>1</td>\n",
       "      <td>0</td>\n",
       "      <td>0</td>\n",
       "      <td>0</td>\n",
       "      <td>0</td>\n",
       "    </tr>\n",
       "    <tr>\n",
       "      <th>4</th>\n",
       "      <td>58.0</td>\n",
       "      <td>32.010000</td>\n",
       "      <td>1</td>\n",
       "      <td>11946.625900</td>\n",
       "      <td>1</td>\n",
       "      <td>0</td>\n",
       "      <td>0</td>\n",
       "      <td>1</td>\n",
       "      <td>0</td>\n",
       "    </tr>\n",
       "  </tbody>\n",
       "</table>\n",
       "</div>"
      ],
      "text/plain": [
       "    age        bmi  children       charges  sex_male  smoker_yes  \\\n",
       "0  21.0  25.745000         2   3279.868550         1           0   \n",
       "1  37.0  25.744165         3  21454.494239         0           1   \n",
       "2  18.0  30.030000         1   1720.353700         1           0   \n",
       "3  37.0  30.676891         3   6801.437542         1           0   \n",
       "4  58.0  32.010000         1  11946.625900         1           0   \n",
       "\n",
       "   region_northwest  region_southeast  region_southwest  \n",
       "0                 0                 0                 0  \n",
       "1                 0                 1                 0  \n",
       "2                 0                 1                 0  \n",
       "3                 0                 0                 0  \n",
       "4                 0                 1                 0  "
      ]
     },
     "execution_count": 106,
     "metadata": {},
     "output_type": "execute_result"
    }
   ],
   "source": [
    "train_data.head(5)"
   ]
  },
  {
   "cell_type": "code",
   "execution_count": 107,
   "metadata": {},
   "outputs": [
    {
     "data": {
      "text/plain": [
       "Index(['age', 'bmi', 'children', 'charges', 'sex_male', 'smoker_yes',\n",
       "       'region_northwest', 'region_southeast', 'region_southwest'],\n",
       "      dtype='object')"
      ]
     },
     "execution_count": 107,
     "metadata": {},
     "output_type": "execute_result"
    }
   ],
   "source": [
    "train_data.columns"
   ]
  },
  {
   "cell_type": "code",
   "execution_count": 108,
   "metadata": {},
   "outputs": [
    {
     "data": {
      "text/html": [
       "<div>\n",
       "<style scoped>\n",
       "    .dataframe tbody tr th:only-of-type {\n",
       "        vertical-align: middle;\n",
       "    }\n",
       "\n",
       "    .dataframe tbody tr th {\n",
       "        vertical-align: top;\n",
       "    }\n",
       "\n",
       "    .dataframe thead th {\n",
       "        text-align: right;\n",
       "    }\n",
       "</style>\n",
       "<table border=\"1\" class=\"dataframe\">\n",
       "  <thead>\n",
       "    <tr style=\"text-align: right;\">\n",
       "      <th></th>\n",
       "      <th>age</th>\n",
       "      <th>sex_male</th>\n",
       "      <th>smoker_yes</th>\n",
       "      <th>bmi</th>\n",
       "      <th>children</th>\n",
       "      <th>region_northwest</th>\n",
       "      <th>region_southwest</th>\n",
       "      <th>region_southeast</th>\n",
       "      <th>charges</th>\n",
       "    </tr>\n",
       "  </thead>\n",
       "  <tbody>\n",
       "    <tr>\n",
       "      <th>0</th>\n",
       "      <td>21.0</td>\n",
       "      <td>1</td>\n",
       "      <td>0</td>\n",
       "      <td>25.745000</td>\n",
       "      <td>2</td>\n",
       "      <td>0</td>\n",
       "      <td>0</td>\n",
       "      <td>0</td>\n",
       "      <td>3279.868550</td>\n",
       "    </tr>\n",
       "    <tr>\n",
       "      <th>1</th>\n",
       "      <td>37.0</td>\n",
       "      <td>0</td>\n",
       "      <td>1</td>\n",
       "      <td>25.744165</td>\n",
       "      <td>3</td>\n",
       "      <td>0</td>\n",
       "      <td>0</td>\n",
       "      <td>1</td>\n",
       "      <td>21454.494239</td>\n",
       "    </tr>\n",
       "  </tbody>\n",
       "</table>\n",
       "</div>"
      ],
      "text/plain": [
       "    age  sex_male  smoker_yes        bmi  children  region_northwest  \\\n",
       "0  21.0         1           0  25.745000         2                 0   \n",
       "1  37.0         0           1  25.744165         3                 0   \n",
       "\n",
       "   region_southwest  region_southeast       charges  \n",
       "0                 0                 0   3279.868550  \n",
       "1                 0                 1  21454.494239  "
      ]
     },
     "execution_count": 108,
     "metadata": {},
     "output_type": "execute_result"
    }
   ],
   "source": [
    "# Reorganizar colunas\n",
    "train_data = train_data[['age', 'sex_male', 'smoker_yes', 'bmi', 'children','region_northwest', 'region_southwest', 'region_southeast', 'charges']]\n",
    "train_data.head(2)\n"
   ]
  },
  {
   "cell_type": "code",
   "execution_count": 109,
   "metadata": {},
   "outputs": [],
   "source": [
    "# Separando labels e features\n",
    "X = train_data.iloc[:, :-1]\n",
    "y = train_data.iloc[:, -1]"
   ]
  },
  {
   "cell_type": "code",
   "execution_count": 110,
   "metadata": {},
   "outputs": [
    {
     "data": {
      "text/html": [
       "<div>\n",
       "<style scoped>\n",
       "    .dataframe tbody tr th:only-of-type {\n",
       "        vertical-align: middle;\n",
       "    }\n",
       "\n",
       "    .dataframe tbody tr th {\n",
       "        vertical-align: top;\n",
       "    }\n",
       "\n",
       "    .dataframe thead th {\n",
       "        text-align: right;\n",
       "    }\n",
       "</style>\n",
       "<table border=\"1\" class=\"dataframe\">\n",
       "  <thead>\n",
       "    <tr style=\"text-align: right;\">\n",
       "      <th></th>\n",
       "      <th>age</th>\n",
       "      <th>sex_male</th>\n",
       "      <th>smoker_yes</th>\n",
       "      <th>bmi</th>\n",
       "      <th>children</th>\n",
       "      <th>region_northwest</th>\n",
       "      <th>region_southwest</th>\n",
       "      <th>region_southeast</th>\n",
       "    </tr>\n",
       "  </thead>\n",
       "  <tbody>\n",
       "    <tr>\n",
       "      <th>0</th>\n",
       "      <td>21.0</td>\n",
       "      <td>1</td>\n",
       "      <td>0</td>\n",
       "      <td>25.745000</td>\n",
       "      <td>2</td>\n",
       "      <td>0</td>\n",
       "      <td>0</td>\n",
       "      <td>0</td>\n",
       "    </tr>\n",
       "    <tr>\n",
       "      <th>1</th>\n",
       "      <td>37.0</td>\n",
       "      <td>0</td>\n",
       "      <td>1</td>\n",
       "      <td>25.744165</td>\n",
       "      <td>3</td>\n",
       "      <td>0</td>\n",
       "      <td>0</td>\n",
       "      <td>1</td>\n",
       "    </tr>\n",
       "  </tbody>\n",
       "</table>\n",
       "</div>"
      ],
      "text/plain": [
       "    age  sex_male  smoker_yes        bmi  children  region_northwest  \\\n",
       "0  21.0         1           0  25.745000         2                 0   \n",
       "1  37.0         0           1  25.744165         3                 0   \n",
       "\n",
       "   region_southwest  region_southeast  \n",
       "0                 0                 0  \n",
       "1                 0                 1  "
      ]
     },
     "execution_count": 110,
     "metadata": {},
     "output_type": "execute_result"
    }
   ],
   "source": [
    "X.head(2)"
   ]
  },
  {
   "cell_type": "code",
   "execution_count": 111,
   "metadata": {},
   "outputs": [],
   "source": [
    "# Treinando dados\n",
    "X_train, X_test, y_train ,y_test = train_test_split(X, y, test_size= 0.2, random_state=0)"
   ]
  },
  {
   "cell_type": "code",
   "execution_count": 112,
   "metadata": {},
   "outputs": [
    {
     "name": "stdout",
     "output_type": "stream",
     "text": [
      "0.7482602892322037\n",
      "30898859.03596079\n"
     ]
    }
   ],
   "source": [
    "# Metodo Regressão linear\n",
    "modelo_lr = LinearRegression()\n",
    "modelo_lr = modelo_lr.fit(X_train, y_train)\n",
    "\n",
    "# Previsão \n",
    "lr_pred = modelo_lr.predict(X_test)\n",
    "\n",
    "# Resultados\n",
    "print(r2_score(y_test, lr_pred))\n",
    "print(mean_squared_error(y_test, lr_pred))"
   ]
  },
  {
   "cell_type": "code",
   "execution_count": 113,
   "metadata": {},
   "outputs": [
    {
     "name": "stdout",
     "output_type": "stream",
     "text": [
      "0.7482269006814655\n",
      "30902957.19004038\n"
     ]
    }
   ],
   "source": [
    "# Metodo Lasso\n",
    "Lasso = Lasso()\n",
    "Lasso = Lasso.fit(X_train, y_train)\n",
    "\n",
    "# Previsão \n",
    "Lasso_pred = Lasso.predict(X_test)\n",
    "\n",
    "# Resultados\n",
    "print(r2_score(y_test, Lasso_pred))\n",
    "print(mean_squared_error(y_test, Lasso_pred))"
   ]
  },
  {
   "cell_type": "code",
   "execution_count": 114,
   "metadata": {},
   "outputs": [
    {
     "name": "stdout",
     "output_type": "stream",
     "text": [
      "0.7481028884319252\n",
      "30918178.614604615\n"
     ]
    }
   ],
   "source": [
    "# Metodo Rigde\n",
    "Ridge = Ridge()\n",
    "Ridge = Ridge.fit(X_train, y_train)\n",
    "\n",
    "# Previsão\n",
    "Ridge_pred = Ridge.predict(X_test)\n",
    "\n",
    "# Resultado\n",
    "print(r2_score(y_test, Ridge_pred))\n",
    "print(mean_squared_error(y_test, Ridge_pred))"
   ]
  },
  {
   "cell_type": "code",
   "execution_count": 115,
   "metadata": {},
   "outputs": [
    {
     "name": "stdout",
     "output_type": "stream",
     "text": [
      "0.9084021140942538\n",
      "11242843.474958552\n"
     ]
    }
   ],
   "source": [
    "# Metodo Random Florest\n",
    "RandomForestRegressor = RandomForestRegressor()\n",
    "RandomForestRegressor = RandomForestRegressor.fit(X_train, y_train)\n",
    "\n",
    "# Previsão\n",
    "RF_pred = RandomForestRegressor.predict(X_test)\n",
    "\n",
    "# Resultado\n",
    "print(r2_score(y_test, RF_pred))\n",
    "print(mean_squared_error(y_test, RF_pred))"
   ]
  }
 ],
 "metadata": {
  "interpreter": {
   "hash": "8c991f69f4835ef0c35cbd5a4e1a08631e61e3a92f02e728dc2f521d9af95601"
  },
  "kernelspec": {
   "display_name": "Python 3.9.7 ('base')",
   "language": "python",
   "name": "python3"
  },
  "language_info": {
   "codemirror_mode": {
    "name": "ipython",
    "version": 3
   },
   "file_extension": ".py",
   "mimetype": "text/x-python",
   "name": "python",
   "nbconvert_exporter": "python",
   "pygments_lexer": "ipython3",
   "version": "3.9.7"
  },
  "orig_nbformat": 4
 },
 "nbformat": 4,
 "nbformat_minor": 2
}
